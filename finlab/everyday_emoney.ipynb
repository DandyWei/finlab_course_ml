{
 "cells": [
  {
   "cell_type": "markdown",
   "metadata": {},
   "source": [
    "# Final Project"
   ]
  },
  {
   "cell_type": "code",
   "execution_count": 1,
   "metadata": {},
   "outputs": [
    {
     "name": "stdout",
     "output_type": "stream",
     "text": [
      "我準備好了\n"
     ]
    }
   ],
   "source": [
    "print(\"我準備好了\")\n"
   ]
  },
  {
   "cell_type": "code",
   "execution_count": 2,
   "metadata": {
    "scrolled": true
   },
   "outputs": [
    {
     "name": "stdout",
     "output_type": "stream",
     "text": [
      "twse_divide_ratio -- 資料日期\n",
      "twse_divide_ratio -- 股票代號\n",
      "twse_divide_ratio -- 股票名稱\n",
      "twse_divide_ratio -- 除權息前收盤價\n",
      "twse_divide_ratio -- 除權息參考價\n",
      "twse_divide_ratio -- 權值+息值\n",
      "twse_divide_ratio -- 權/息\n",
      "twse_divide_ratio -- 漲停價格\n",
      "twse_divide_ratio -- 跌停價格\n",
      "twse_divide_ratio -- 開盤競價基準\n",
      "twse_divide_ratio -- 減除股利參考價\n",
      "twse_divide_ratio -- 詳細資料\n",
      "twse_divide_ratio -- 最近一次申報資料 季別/日期\n",
      "twse_divide_ratio -- 最近一次申報每股 (單位)淨值\n",
      "twse_divide_ratio -- 最近一次申報每股 (單位)盈餘\n",
      "twse_divide_ratio -- twse_divide_ratio\n"
     ]
    },
    {
     "ename": "JSONDecodeError",
     "evalue": "Extra data: line 1 column 1286171 (char 1286170)",
     "output_type": "error",
     "traceback": [
      "\u001b[1;31m---------------------------------------------------------------------------\u001b[0m",
      "\u001b[1;31mJSONDecodeError\u001b[0m                           Traceback (most recent call last)",
      "\u001b[1;32m<ipython-input-2-eca152536ade>\u001b[0m in \u001b[0;36m<module>\u001b[1;34m\u001b[0m\n\u001b[1;32m----> 1\u001b[1;33m \u001b[1;32mimport\u001b[0m \u001b[0mauto_update\u001b[0m\u001b[1;33m\u001b[0m\u001b[1;33m\u001b[0m\u001b[0m\n\u001b[0m\u001b[0;32m      2\u001b[0m \u001b[1;31m#記得要去三大法人爬蟲更新籌碼面指標\u001b[0m\u001b[1;33m\u001b[0m\u001b[1;33m\u001b[0m\u001b[1;33m\u001b[0m\u001b[0m\n",
      "\u001b[1;32m~\\Desktop\\finlab_course_ml\\auto_update.py\u001b[0m in \u001b[0;36m<module>\u001b[1;34m\u001b[0m\n\u001b[0;32m     47\u001b[0m \u001b[0mauto_update\u001b[0m\u001b[1;33m(\u001b[0m\u001b[1;34m'financial_statement'\u001b[0m\u001b[1;33m,\u001b[0m \u001b[0mcrawl_finance_statement_by_date\u001b[0m\u001b[1;33m,\u001b[0m \u001b[0mseason_range\u001b[0m\u001b[1;33m)\u001b[0m\u001b[1;33m\u001b[0m\u001b[1;33m\u001b[0m\u001b[0m\n\u001b[0;32m     48\u001b[0m \u001b[0mauto_update\u001b[0m\u001b[1;33m(\u001b[0m\u001b[1;34m'twse_divide_ratio'\u001b[0m\u001b[1;33m,\u001b[0m \u001b[0mcrawl_twse_divide_ratio\u001b[0m\u001b[1;33m)\u001b[0m\u001b[1;33m\u001b[0m\u001b[1;33m\u001b[0m\u001b[0m\n\u001b[1;32m---> 49\u001b[1;33m \u001b[0mauto_update\u001b[0m\u001b[1;33m(\u001b[0m\u001b[1;34m'otc_divide_ratio'\u001b[0m\u001b[1;33m,\u001b[0m \u001b[0mcrawl_otc_divide_ratio\u001b[0m\u001b[1;33m)\u001b[0m\u001b[1;33m\u001b[0m\u001b[1;33m\u001b[0m\u001b[0m\n\u001b[0m\u001b[0;32m     50\u001b[0m \u001b[0mauto_update\u001b[0m\u001b[1;33m(\u001b[0m\u001b[1;34m'twse_cap_reduction'\u001b[0m\u001b[1;33m,\u001b[0m \u001b[0mcrawl_twse_cap_reduction\u001b[0m\u001b[1;33m)\u001b[0m\u001b[1;33m\u001b[0m\u001b[1;33m\u001b[0m\u001b[0m\n\u001b[0;32m     51\u001b[0m \u001b[0mauto_update\u001b[0m\u001b[1;33m(\u001b[0m\u001b[1;34m'otc_cap_reduction'\u001b[0m\u001b[1;33m,\u001b[0m \u001b[0mcrawl_otc_cap_reduction\u001b[0m\u001b[1;33m)\u001b[0m\u001b[1;33m\u001b[0m\u001b[1;33m\u001b[0m\u001b[0m\n",
      "\u001b[1;32m~\\Desktop\\finlab_course_ml\\auto_update.py\u001b[0m in \u001b[0;36mauto_update\u001b[1;34m(table_name, crawl_function, time_range)\u001b[0m\n\u001b[0;32m     36\u001b[0m             \u001b[0mupdate_table\u001b[0m\u001b[1;33m(\u001b[0m\u001b[0mtable_name\u001b[0m\u001b[1;33m,\u001b[0m \u001b[0mcrawl_function\u001b[0m\u001b[1;33m,\u001b[0m \u001b[0mdates\u001b[0m\u001b[1;33m)\u001b[0m\u001b[1;33m\u001b[0m\u001b[1;33m\u001b[0m\u001b[0m\n\u001b[0;32m     37\u001b[0m     \u001b[1;32melse\u001b[0m\u001b[1;33m:\u001b[0m\u001b[1;33m\u001b[0m\u001b[1;33m\u001b[0m\u001b[0m\n\u001b[1;32m---> 38\u001b[1;33m         \u001b[0mdf\u001b[0m \u001b[1;33m=\u001b[0m \u001b[0mcrawl_function\u001b[0m\u001b[1;33m(\u001b[0m\u001b[1;33m)\u001b[0m\u001b[1;33m\u001b[0m\u001b[1;33m\u001b[0m\u001b[0m\n\u001b[0m\u001b[0;32m     39\u001b[0m         \u001b[0mto_pickle\u001b[0m\u001b[1;33m(\u001b[0m\u001b[0mdf\u001b[0m\u001b[1;33m,\u001b[0m \u001b[0mtable_name\u001b[0m\u001b[1;33m)\u001b[0m\u001b[1;33m\u001b[0m\u001b[1;33m\u001b[0m\u001b[0m\n\u001b[0;32m     40\u001b[0m \u001b[1;33m\u001b[0m\u001b[0m\n",
      "\u001b[1;32m~\\Desktop\\finlab_course_ml\\finlab\\crawler.py\u001b[0m in \u001b[0;36mcrawl_otc_divide_ratio\u001b[1;34m()\u001b[0m\n\u001b[0;32m    349\u001b[0m     \u001b[0mres_otc\u001b[0m \u001b[1;33m=\u001b[0m \u001b[0mrequests_get\u001b[0m\u001b[1;33m(\u001b[0m\u001b[1;34m'https://www.tpex.org.tw/web/stock/exright/dailyquo/exDailyQ_result.php?l=zh-tw&d=097/01/02&ed='\u001b[0m \u001b[1;33m+\u001b[0m \u001b[0mdatestr\u001b[0m \u001b[1;33m+\u001b[0m \u001b[1;34m'&_=1551594269115'\u001b[0m\u001b[1;33m)\u001b[0m\u001b[1;33m\u001b[0m\u001b[1;33m\u001b[0m\u001b[0m\n\u001b[0;32m    350\u001b[0m \u001b[1;33m\u001b[0m\u001b[0m\n\u001b[1;32m--> 351\u001b[1;33m     \u001b[0mdf\u001b[0m \u001b[1;33m=\u001b[0m \u001b[0mpd\u001b[0m\u001b[1;33m.\u001b[0m\u001b[0mDataFrame\u001b[0m\u001b[1;33m(\u001b[0m\u001b[0mjson\u001b[0m\u001b[1;33m.\u001b[0m\u001b[0mloads\u001b[0m\u001b[1;33m(\u001b[0m\u001b[0mres_otc\u001b[0m\u001b[1;33m.\u001b[0m\u001b[0mtext\u001b[0m\u001b[1;33m)\u001b[0m\u001b[1;33m[\u001b[0m\u001b[1;34m'aaData'\u001b[0m\u001b[1;33m]\u001b[0m\u001b[1;33m)\u001b[0m\u001b[1;33m\u001b[0m\u001b[1;33m\u001b[0m\u001b[0m\n\u001b[0m\u001b[0;32m    352\u001b[0m     df.columns = ['除權息日期', '代號', '名稱', '除權息前收盤價', '除權息參考價',\n\u001b[0;32m    353\u001b[0m                       \u001b[1;34m'權值'\u001b[0m\u001b[1;33m,\u001b[0m \u001b[1;34m'息值'\u001b[0m\u001b[1;33m,\u001b[0m\u001b[1;34m\"權+息值\"\u001b[0m\u001b[1;33m,\u001b[0m\u001b[1;34m\"權/息\"\u001b[0m\u001b[1;33m,\u001b[0m\u001b[1;34m\"漲停價格\"\u001b[0m\u001b[1;33m,\u001b[0m\u001b[1;34m\"跌停價格\"\u001b[0m\u001b[1;33m,\u001b[0m\u001b[1;34m\"開盤競價基準\"\u001b[0m\u001b[1;33m,\u001b[0m\u001b[1;33m\u001b[0m\u001b[1;33m\u001b[0m\u001b[0m\n",
      "\u001b[1;32m~\\Anaconda3\\envs\\finlab\\lib\\json\\__init__.py\u001b[0m in \u001b[0;36mloads\u001b[1;34m(s, encoding, cls, object_hook, parse_float, parse_int, parse_constant, object_pairs_hook, **kw)\u001b[0m\n\u001b[0;32m    352\u001b[0m             \u001b[0mparse_int\u001b[0m \u001b[1;32mis\u001b[0m \u001b[1;32mNone\u001b[0m \u001b[1;32mand\u001b[0m \u001b[0mparse_float\u001b[0m \u001b[1;32mis\u001b[0m \u001b[1;32mNone\u001b[0m \u001b[1;32mand\u001b[0m\u001b[1;33m\u001b[0m\u001b[1;33m\u001b[0m\u001b[0m\n\u001b[0;32m    353\u001b[0m             parse_constant is None and object_pairs_hook is None and not kw):\n\u001b[1;32m--> 354\u001b[1;33m         \u001b[1;32mreturn\u001b[0m \u001b[0m_default_decoder\u001b[0m\u001b[1;33m.\u001b[0m\u001b[0mdecode\u001b[0m\u001b[1;33m(\u001b[0m\u001b[0ms\u001b[0m\u001b[1;33m)\u001b[0m\u001b[1;33m\u001b[0m\u001b[1;33m\u001b[0m\u001b[0m\n\u001b[0m\u001b[0;32m    355\u001b[0m     \u001b[1;32mif\u001b[0m \u001b[0mcls\u001b[0m \u001b[1;32mis\u001b[0m \u001b[1;32mNone\u001b[0m\u001b[1;33m:\u001b[0m\u001b[1;33m\u001b[0m\u001b[1;33m\u001b[0m\u001b[0m\n\u001b[0;32m    356\u001b[0m         \u001b[0mcls\u001b[0m \u001b[1;33m=\u001b[0m \u001b[0mJSONDecoder\u001b[0m\u001b[1;33m\u001b[0m\u001b[1;33m\u001b[0m\u001b[0m\n",
      "\u001b[1;32m~\\Anaconda3\\envs\\finlab\\lib\\json\\decoder.py\u001b[0m in \u001b[0;36mdecode\u001b[1;34m(self, s, _w)\u001b[0m\n\u001b[0;32m    340\u001b[0m         \u001b[0mend\u001b[0m \u001b[1;33m=\u001b[0m \u001b[0m_w\u001b[0m\u001b[1;33m(\u001b[0m\u001b[0ms\u001b[0m\u001b[1;33m,\u001b[0m \u001b[0mend\u001b[0m\u001b[1;33m)\u001b[0m\u001b[1;33m.\u001b[0m\u001b[0mend\u001b[0m\u001b[1;33m(\u001b[0m\u001b[1;33m)\u001b[0m\u001b[1;33m\u001b[0m\u001b[1;33m\u001b[0m\u001b[0m\n\u001b[0;32m    341\u001b[0m         \u001b[1;32mif\u001b[0m \u001b[0mend\u001b[0m \u001b[1;33m!=\u001b[0m \u001b[0mlen\u001b[0m\u001b[1;33m(\u001b[0m\u001b[0ms\u001b[0m\u001b[1;33m)\u001b[0m\u001b[1;33m:\u001b[0m\u001b[1;33m\u001b[0m\u001b[1;33m\u001b[0m\u001b[0m\n\u001b[1;32m--> 342\u001b[1;33m             \u001b[1;32mraise\u001b[0m \u001b[0mJSONDecodeError\u001b[0m\u001b[1;33m(\u001b[0m\u001b[1;34m\"Extra data\"\u001b[0m\u001b[1;33m,\u001b[0m \u001b[0ms\u001b[0m\u001b[1;33m,\u001b[0m \u001b[0mend\u001b[0m\u001b[1;33m)\u001b[0m\u001b[1;33m\u001b[0m\u001b[1;33m\u001b[0m\u001b[0m\n\u001b[0m\u001b[0;32m    343\u001b[0m         \u001b[1;32mreturn\u001b[0m \u001b[0mobj\u001b[0m\u001b[1;33m\u001b[0m\u001b[1;33m\u001b[0m\u001b[0m\n\u001b[0;32m    344\u001b[0m \u001b[1;33m\u001b[0m\u001b[0m\n",
      "\u001b[1;31mJSONDecodeError\u001b[0m: Extra data: line 1 column 1286171 (char 1286170)"
     ]
    }
   ],
   "source": [
    "import auto_update\n",
    "#記得要去三大法人爬蟲更新籌碼面指標"
   ]
  },
  {
   "cell_type": "markdown",
   "metadata": {},
   "source": [
    "### 獲取歷史資料"
   ]
  },
  {
   "cell_type": "markdown",
   "metadata": {},
   "source": [
    "## 要計算日期和更新資料"
   ]
  },
  {
   "cell_type": "code",
   "execution_count": 18,
   "metadata": {},
   "outputs": [],
   "source": [
    "from finlab.data import Data\n",
    "from finlab_old.data import Data as data1\n",
    "import pandas as pd\n",
    "import sqlite3\n",
    "import os\n",
    "import numpy as np\n",
    "import datetime\n",
    "import numpy as np\n",
    "from finlab import ml\n",
    "import pandas_profiling\n",
    "conn = sqlite3.connect(os.path.join('data', 'data.db'))\n",
    "pd = pd.read_sql('select * from legal_person',conn,index_col = ['date'])\n",
    "## 上面沒有整理\n",
    "\n",
    "data1 = data1()\n",
    "\n",
    "\n",
    "data = Data()\n",
    "\n",
    "big = data1.get('三大法人買賣超股數',10000000).fillna(0)\n",
    "#big0 = data1.get('外陸資買賣超股數(不含外資自營商)',10000000).fillna(0)\n",
    "#le0 = data1.get('外資買進股數',10000000).fillna(0)\n",
    "#le1 = data1.get('投信買進股數',10000000).fillna(0)\n",
    "#le3 = data1.get('三大法人買超股數',10000000).fillna(0)\n",
    "#bigm = big.rolling(3).sum()\n",
    "rev = data.get(\"當月營收\")\n",
    "close = data.get(\"收盤價\")\n",
    "pbe = data.get('股價淨值比')\n",
    "pe = data.get('本益比')\n",
    "rev.index = rev.index.shift(5, \"d\")\n",
    "#取決於幾號買賣\n",
    "#total = big0+big\n",
    "#q = ml.fundamental_features()\n",
    "#a = q>0\n",
    "#free_m_ratio = q[\"R205_現金流量比率\"]\n",
    "#twii= data.get(\"發行量加權股價指數\")"
   ]
  },
  {
   "cell_type": "code",
   "execution_count": 4,
   "metadata": {},
   "outputs": [
    {
     "data": {
      "text/html": [
       "<div>\n",
       "<style scoped>\n",
       "    .dataframe tbody tr th:only-of-type {\n",
       "        vertical-align: middle;\n",
       "    }\n",
       "\n",
       "    .dataframe tbody tr th {\n",
       "        vertical-align: top;\n",
       "    }\n",
       "\n",
       "    .dataframe thead th {\n",
       "        text-align: right;\n",
       "    }\n",
       "</style>\n",
       "<table border=\"1\" class=\"dataframe\">\n",
       "  <thead>\n",
       "    <tr style=\"text-align: right;\">\n",
       "      <th>stock_id</th>\n",
       "      <th>0015</th>\n",
       "      <th>0050</th>\n",
       "      <th>0051</th>\n",
       "      <th>0052</th>\n",
       "      <th>0053</th>\n",
       "      <th>0054</th>\n",
       "      <th>0055</th>\n",
       "      <th>0056</th>\n",
       "      <th>0057</th>\n",
       "      <th>0058</th>\n",
       "      <th>...</th>\n",
       "      <th>9944</th>\n",
       "      <th>9945</th>\n",
       "      <th>9946</th>\n",
       "      <th>9949</th>\n",
       "      <th>9950</th>\n",
       "      <th>9951</th>\n",
       "      <th>9955</th>\n",
       "      <th>9958</th>\n",
       "      <th>9960</th>\n",
       "      <th>9962</th>\n",
       "    </tr>\n",
       "    <tr>\n",
       "      <th>date</th>\n",
       "      <th></th>\n",
       "      <th></th>\n",
       "      <th></th>\n",
       "      <th></th>\n",
       "      <th></th>\n",
       "      <th></th>\n",
       "      <th></th>\n",
       "      <th></th>\n",
       "      <th></th>\n",
       "      <th></th>\n",
       "      <th></th>\n",
       "      <th></th>\n",
       "      <th></th>\n",
       "      <th></th>\n",
       "      <th></th>\n",
       "      <th></th>\n",
       "      <th></th>\n",
       "      <th></th>\n",
       "      <th></th>\n",
       "      <th></th>\n",
       "      <th></th>\n",
       "    </tr>\n",
       "  </thead>\n",
       "  <tbody>\n",
       "    <tr>\n",
       "      <th>2019-11-13</th>\n",
       "      <td>NaN</td>\n",
       "      <td>91.45</td>\n",
       "      <td>35.34</td>\n",
       "      <td>66.5</td>\n",
       "      <td>41.04</td>\n",
       "      <td>24.66</td>\n",
       "      <td>19.57</td>\n",
       "      <td>27.79</td>\n",
       "      <td>58.15</td>\n",
       "      <td>48.81</td>\n",
       "      <td>...</td>\n",
       "      <td>17.20</td>\n",
       "      <td>45.80</td>\n",
       "      <td>25.95</td>\n",
       "      <td>11.70</td>\n",
       "      <td>15.50</td>\n",
       "      <td>91.5</td>\n",
       "      <td>17.75</td>\n",
       "      <td>74.2</td>\n",
       "      <td>30.95</td>\n",
       "      <td>10.05</td>\n",
       "    </tr>\n",
       "    <tr>\n",
       "      <th>2019-11-14</th>\n",
       "      <td>NaN</td>\n",
       "      <td>91.40</td>\n",
       "      <td>35.03</td>\n",
       "      <td>66.1</td>\n",
       "      <td>40.90</td>\n",
       "      <td>24.60</td>\n",
       "      <td>19.55</td>\n",
       "      <td>27.83</td>\n",
       "      <td>58.10</td>\n",
       "      <td>48.60</td>\n",
       "      <td>...</td>\n",
       "      <td>17.10</td>\n",
       "      <td>48.30</td>\n",
       "      <td>25.50</td>\n",
       "      <td>11.75</td>\n",
       "      <td>15.45</td>\n",
       "      <td>90.0</td>\n",
       "      <td>17.50</td>\n",
       "      <td>72.5</td>\n",
       "      <td>31.10</td>\n",
       "      <td>10.10</td>\n",
       "    </tr>\n",
       "    <tr>\n",
       "      <th>2019-11-15</th>\n",
       "      <td>NaN</td>\n",
       "      <td>92.30</td>\n",
       "      <td>35.30</td>\n",
       "      <td>67.1</td>\n",
       "      <td>41.24</td>\n",
       "      <td>24.70</td>\n",
       "      <td>19.55</td>\n",
       "      <td>27.88</td>\n",
       "      <td>58.60</td>\n",
       "      <td>48.80</td>\n",
       "      <td>...</td>\n",
       "      <td>17.10</td>\n",
       "      <td>48.15</td>\n",
       "      <td>25.75</td>\n",
       "      <td>11.75</td>\n",
       "      <td>14.90</td>\n",
       "      <td>92.0</td>\n",
       "      <td>17.60</td>\n",
       "      <td>72.8</td>\n",
       "      <td>30.60</td>\n",
       "      <td>10.00</td>\n",
       "    </tr>\n",
       "    <tr>\n",
       "      <th>2019-11-18</th>\n",
       "      <td>NaN</td>\n",
       "      <td>92.90</td>\n",
       "      <td>35.48</td>\n",
       "      <td>67.7</td>\n",
       "      <td>41.48</td>\n",
       "      <td>24.81</td>\n",
       "      <td>19.60</td>\n",
       "      <td>28.05</td>\n",
       "      <td>58.85</td>\n",
       "      <td>48.91</td>\n",
       "      <td>...</td>\n",
       "      <td>17.25</td>\n",
       "      <td>47.65</td>\n",
       "      <td>27.90</td>\n",
       "      <td>11.70</td>\n",
       "      <td>14.05</td>\n",
       "      <td>91.2</td>\n",
       "      <td>17.60</td>\n",
       "      <td>72.1</td>\n",
       "      <td>30.60</td>\n",
       "      <td>10.05</td>\n",
       "    </tr>\n",
       "    <tr>\n",
       "      <th>2019-11-19</th>\n",
       "      <td>NaN</td>\n",
       "      <td>93.60</td>\n",
       "      <td>35.53</td>\n",
       "      <td>68.3</td>\n",
       "      <td>41.81</td>\n",
       "      <td>24.98</td>\n",
       "      <td>19.59</td>\n",
       "      <td>28.14</td>\n",
       "      <td>59.00</td>\n",
       "      <td>49.16</td>\n",
       "      <td>...</td>\n",
       "      <td>17.25</td>\n",
       "      <td>47.40</td>\n",
       "      <td>28.10</td>\n",
       "      <td>11.70</td>\n",
       "      <td>14.15</td>\n",
       "      <td>93.9</td>\n",
       "      <td>17.60</td>\n",
       "      <td>72.3</td>\n",
       "      <td>31.45</td>\n",
       "      <td>10.05</td>\n",
       "    </tr>\n",
       "  </tbody>\n",
       "</table>\n",
       "<p>5 rows × 1902 columns</p>\n",
       "</div>"
      ],
      "text/plain": [
       "stock_id    0015   0050   0051  0052   0053   0054   0055   0056   0057  \\\n",
       "date                                                                      \n",
       "2019-11-13   NaN  91.45  35.34  66.5  41.04  24.66  19.57  27.79  58.15   \n",
       "2019-11-14   NaN  91.40  35.03  66.1  40.90  24.60  19.55  27.83  58.10   \n",
       "2019-11-15   NaN  92.30  35.30  67.1  41.24  24.70  19.55  27.88  58.60   \n",
       "2019-11-18   NaN  92.90  35.48  67.7  41.48  24.81  19.60  28.05  58.85   \n",
       "2019-11-19   NaN  93.60  35.53  68.3  41.81  24.98  19.59  28.14  59.00   \n",
       "\n",
       "stock_id     0058  ...   9944   9945   9946   9949   9950  9951   9955  9958  \\\n",
       "date               ...                                                         \n",
       "2019-11-13  48.81  ...  17.20  45.80  25.95  11.70  15.50  91.5  17.75  74.2   \n",
       "2019-11-14  48.60  ...  17.10  48.30  25.50  11.75  15.45  90.0  17.50  72.5   \n",
       "2019-11-15  48.80  ...  17.10  48.15  25.75  11.75  14.90  92.0  17.60  72.8   \n",
       "2019-11-18  48.91  ...  17.25  47.65  27.90  11.70  14.05  91.2  17.60  72.1   \n",
       "2019-11-19  49.16  ...  17.25  47.40  28.10  11.70  14.15  93.9  17.60  72.3   \n",
       "\n",
       "stock_id     9960   9962  \n",
       "date                      \n",
       "2019-11-13  30.95  10.05  \n",
       "2019-11-14  31.10  10.10  \n",
       "2019-11-15  30.60  10.00  \n",
       "2019-11-18  30.60  10.05  \n",
       "2019-11-19  31.45  10.05  \n",
       "\n",
       "[5 rows x 1902 columns]"
      ]
     },
     "execution_count": 4,
     "metadata": {},
     "output_type": "execute_result"
    }
   ],
   "source": [
    "close.tail()"
   ]
  },
  {
   "cell_type": "markdown",
   "metadata": {},
   "source": [
    "### 計算features"
   ]
  },
  {
   "cell_type": "code",
   "execution_count": 19,
   "metadata": {},
   "outputs": [],
   "source": [
    "def legal(n):\n",
    "    legal = big.rolling(n,min_periods=1).sum()\n",
    "    #legal = legal.replace([np.inf, -np.inf], np.nan).fillna(0)\n",
    "    return legal\n",
    "\n",
    "def SMA(n):\n",
    "    return close.rolling(n, min_periods=1).mean()/n\n",
    "\n",
    "def bias(n):\n",
    "    return close / close.rolling(n, min_periods=1).mean()\n",
    "\n",
    "def acc(n):\n",
    "    return close.shift(n) / (close.shift(2*n) + close) * 2\n",
    "\n",
    "def rsv(n):\n",
    "    l = close.rolling(n, min_periods=1).min()\n",
    "    h = close.rolling(n, min_periods=1).max()\n",
    "    \n",
    "    return (close - l) / (h - l)\n",
    "\n",
    "def mom(n):\n",
    "    return (rev / rev.shift(1)).shift(n)\n",
    "\n",
    "features = {\n",
    "    'mom1': mom(1),\n",
    "    'mom2': mom(2),\n",
    "    'mom3': mom(3),\n",
    "    'mom4': mom(4),\n",
    "    'mom5': mom(5),\n",
    "    'mom6': mom(6),\n",
    "    'mom7': mom(7),\n",
    "    'mom8': mom(8),\n",
    "    'mom9': mom(9),\n",
    "    'bias5': bias(5),\n",
    "    'bias10': bias(10),\n",
    "    'bias20': bias(20),\n",
    "    'bias60': bias(60),\n",
    "    'bias120': bias(120),\n",
    "    'bias240': bias(240),\n",
    "    'acc5': acc(5),\n",
    "    'acc10': acc(10),\n",
    "    'acc20': acc(20),\n",
    "    'acc60': acc(60),\n",
    "    'acc120': acc(120),\n",
    "    'acc240': acc(240),\n",
    "    \"SMA5\":SMA(5),\n",
    "    \"SMA10\":SMA(10),\n",
    "    \"SMA20\":SMA(20),\n",
    "    \"SMA60\":SMA(60),\n",
    "    \"SMA120\":SMA(120),\n",
    "    \"SMA240\":SMA(240),\n",
    "    'pe':pe,\n",
    "    'pbe':pbe,\n",
    "}\n",
    " #  'legal5':legal(5),\n",
    " #  'legal10':legal(10),\n",
    " #  'legal20':legal(20),\n",
    " #  'legal60':legal(60),\n",
    " #  'legal120':legal(120),\n",
    " #  'legal240':legal(240),\n",
    "  #  'rsv5': rsv(5),\n",
    "  #  'rsv10': rsv(10),\n",
    "  #  'rsv20': rsv(20),\n",
    "  #  'rsv60': rsv(60),\n",
    "  #  'rsv120': rsv(120),\n",
    "  #  'rsv240': rsv(240),\n",
    "   # 'big1':big1,\n",
    "   # 'big2':big2,\n",
    "   # 'big3':big3,"
   ]
  },
  {
   "cell_type": "markdown",
   "metadata": {},
   "source": [
    "### 製作dataset\n",
    "\n",
    "##### 設定買賣頻率"
   ]
  },
  {
   "cell_type": "code",
   "execution_count": 20,
   "metadata": {},
   "outputs": [
    {
     "data": {
      "text/plain": [
       "DatetimeIndex(['2007-04-23', '2007-04-24', '2007-04-25', '2007-04-26',\n",
       "               '2007-04-27', '2007-04-30', '2007-05-02', '2007-05-03',\n",
       "               '2007-05-04', '2007-05-07',\n",
       "               ...\n",
       "               '2019-11-06', '2019-11-07', '2019-11-08', '2019-11-11',\n",
       "               '2019-11-12', '2019-11-13', '2019-11-14', '2019-11-15',\n",
       "               '2019-11-18', '2019-11-19'],\n",
       "              dtype='datetime64[ns]', name='date', length=3111, freq=None)"
      ]
     },
     "execution_count": 20,
     "metadata": {},
     "output_type": "execute_result"
    }
   ],
   "source": [
    "every_month = rev.index\n",
    "every_month\n",
    "every_day = close.index\n",
    "every_day"
   ]
  },
  {
   "cell_type": "markdown",
   "metadata": {},
   "source": [
    "##### 將dataframe 組裝起來"
   ]
  },
  {
   "cell_type": "code",
   "execution_count": 21,
   "metadata": {},
   "outputs": [
    {
     "name": "stdout",
     "output_type": "stream",
     "text": [
      "(344430, 31)\n",
      "(322262, 31)\n"
     ]
    }
   ],
   "source": [
    "# features['bias20'].reindex(every_month, method='ffill')\n",
    "\n",
    "for name, f in features.items():\n",
    "    features[name] = f.reindex(every_month, method='ffill')\n",
    "\n",
    "\n",
    "for name, f in features.items():\n",
    "    features[name] = f.unstack()\n",
    "\n",
    "import pandas as pd\n",
    "dataset = pd.DataFrame(features)\n",
    "\n",
    "feature_names = list(dataset.columns)\n",
    "\n",
    "import sklearn.preprocessing as preprocessing\n",
    "from finlab import ml\n",
    "ml.add_profit_prediction(dataset)\n",
    "ml.add_rank_prediction(dataset)\n",
    "dataset_scaled = pd.DataFrame(preprocessing.scale(dataset),index = dataset.index , columns = dataset.columns)\n",
    "dataset_scaled[\"return\"] = dataset[\"return\"]\n",
    "dataset_scaled[\"rank\"] = dataset[\"rank\"]\n",
    "\n",
    "print(dataset.shape)\n",
    "\n",
    "dataset = ml.drop_extreme_case(dataset_scaled, \n",
    "    ['bias60', 'bias120', 'bias240', 'mom1', 'mom2', 'mom3', 'mom4', 'mom5', 'mom6']\n",
    "                               ,thresh=0.01)\n",
    "\n",
    "print(dataset.shape)\n",
    "\n",
    "dataset_dropna = dataset.dropna(how='any')\n",
    "dataset_dropna = dataset_dropna.reset_index().set_index(\"date\")\n",
    "\n",
    "dataset_train = dataset_dropna[:'2017']\n",
    "dataset_test = dataset_dropna['2018':]"
   ]
  },
  {
   "cell_type": "markdown",
   "metadata": {},
   "source": [
    "### 神經網路模型"
   ]
  },
  {
   "cell_type": "code",
   "execution_count": 22,
   "metadata": {},
   "outputs": [
    {
     "name": "stderr",
     "output_type": "stream",
     "text": [
      "Using TensorFlow backend.\n"
     ]
    },
    {
     "name": "stdout",
     "output_type": "stream",
     "text": [
      "WARNING:tensorflow:From C:\\Users\\Dandy\\Anaconda3\\envs\\finlab\\lib\\site-packages\\tensorflow\\python\\framework\\op_def_library.py:263: colocate_with (from tensorflow.python.framework.ops) is deprecated and will be removed in a future version.\n",
      "Instructions for updating:\n",
      "Colocations handled automatically by placer.\n",
      "WARNING:tensorflow:From C:\\Users\\Dandy\\Anaconda3\\envs\\finlab\\lib\\site-packages\\keras\\backend\\tensorflow_backend.py:3445: calling dropout (from tensorflow.python.ops.nn_ops) with keep_prob is deprecated and will be removed in a future version.\n",
      "Instructions for updating:\n",
      "Please use `rate` instead of `keep_prob`. Rate should be set to `rate = 1 - keep_prob`.\n",
      "_________________________________________________________________\n",
      "Layer (type)                 Output Shape              Param #   \n",
      "=================================================================\n",
      "dense_1 (Dense)              (None, 100)               3000      \n",
      "_________________________________________________________________\n",
      "dense_2 (Dense)              (None, 100)               10100     \n",
      "_________________________________________________________________\n",
      "dropout_1 (Dropout)          (None, 100)               0         \n",
      "_________________________________________________________________\n",
      "dense_3 (Dense)              (None, 1)                 101       \n",
      "=================================================================\n",
      "Total params: 13,201\n",
      "Trainable params: 13,201\n",
      "Non-trainable params: 0\n",
      "_________________________________________________________________\n"
     ]
    }
   ],
   "source": [
    "import keras\n",
    "from keras.initializers import he_normal\n",
    "import os\n",
    "from keras.layers.advanced_activations import LeakyReLU, PReLU\n",
    "os.environ['KMP_DUPLICATE_LIB_OK']='True'\n",
    "model = keras.models.Sequential()\n",
    "model.add(keras.layers.Dense(100, activation='relu',\n",
    "                      input_shape=(len(feature_names),),\n",
    "                      kernel_initializer=he_normal(seed=0)))\n",
    "\n",
    "model.add(keras.layers.Dense(100, activation='relu',\n",
    "                      kernel_initializer=he_normal(seed=0)))\n",
    "model.add(keras.layers.Dropout(0.9))\n",
    "model.add(keras.layers.Dense(1, activation='sigmoid'))\n",
    "\n",
    "\n",
    "model.summary()\n",
    "\n",
    "model.compile(loss='mean_squared_error',\n",
    "              metrics=['accuracy'],\n",
    "              optimizer=\"adam\",)\n",
    "model.load_weights(\"model.weight\", by_name=False)"
   ]
  },
  {
   "cell_type": "markdown",
   "metadata": {},
   "source": [
    "### lightgbm Model"
   ]
  },
  {
   "cell_type": "code",
   "execution_count": 23,
   "metadata": {},
   "outputs": [
    {
     "data": {
      "text/plain": [
       "LGBMRegressor(boosting_type='gbdt', class_weight=None, colsample_bytree=1.0,\n",
       "              importance_type='split', learning_rate=0.1, max_depth=-1,\n",
       "              min_child_samples=20, min_child_weight=0.001, min_split_gain=0.0,\n",
       "              n_estimators=500, n_jobs=-1, num_leaves=31, objective=None,\n",
       "              random_state=None, reg_alpha=0.0, reg_lambda=0.0, silent=True,\n",
       "              subsample=1.0, subsample_for_bin=200000, subsample_freq=0)"
      ]
     },
     "execution_count": 23,
     "metadata": {},
     "output_type": "execute_result"
    }
   ],
   "source": [
    "import lightgbm as lgb\n",
    "cf = lgb.LGBMRegressor(n_estimators=500)\n",
    "cf.fit(dataset_train[feature_names].astype(float), dataset_train['rank'])"
   ]
  },
  {
   "cell_type": "markdown",
   "metadata": {},
   "source": [
    "### Random Forest Model"
   ]
  },
  {
   "cell_type": "code",
   "execution_count": 24,
   "metadata": {},
   "outputs": [
    {
     "data": {
      "text/plain": [
       "RandomForestRegressor(bootstrap=True, criterion='mse', max_depth=None,\n",
       "                      max_features='auto', max_leaf_nodes=None,\n",
       "                      min_impurity_decrease=0.0, min_impurity_split=None,\n",
       "                      min_samples_leaf=1, min_samples_split=2,\n",
       "                      min_weight_fraction_leaf=0.0, n_estimators=100,\n",
       "                      n_jobs=None, oob_score=False, random_state=None,\n",
       "                      verbose=0, warm_start=False)"
      ]
     },
     "execution_count": 24,
     "metadata": {},
     "output_type": "execute_result"
    }
   ],
   "source": [
    "from sklearn.ensemble import RandomForestRegressor\n",
    "\n",
    "cf2 = RandomForestRegressor(n_estimators=100)\n",
    "cf2.fit(dataset_train[feature_names].astype(float), dataset_train['rank'])"
   ]
  },
  {
   "cell_type": "markdown",
   "metadata": {},
   "source": [
    "## xgboost"
   ]
  },
  {
   "cell_type": "code",
   "execution_count": null,
   "metadata": {},
   "outputs": [],
   "source": [
    "#import xgboost\n",
    "\n",
    "#cf2 = xgboost.XGBRegressor(n_estimators=100)\n",
    "\n",
    "#cf2.fit(dataset_train[feature_names].astype(float), dataset_train['rank'])"
   ]
  },
  {
   "cell_type": "code",
   "execution_count": 25,
   "metadata": {},
   "outputs": [
    {
     "data": {
      "text/plain": [
       "<matplotlib.axes._subplots.AxesSubplot at 0x1c61fb896d8>"
      ]
     },
     "execution_count": 25,
     "metadata": {},
     "output_type": "execute_result"
    },
    {
     "data": {
      "image/png": "[encoded data removed]",
      "text/plain": [
       "<Figure size 432x288 with 1 Axes>"
      ]
     },
     "metadata": {
      "needs_background": "light"
     },
     "output_type": "display_data"
    }
   ],
   "source": [
    "feature_imp = pd.DataFrame(zip(cf.feature_importances_, feature_names), \n",
    "                           columns=['Value','Feature']).sort_values('Value', ascending=False)\n",
    "feature_imp\n",
    "\n",
    "%matplotlib inline\n",
    "import seaborn as sns\n",
    "sns.barplot(x=\"Value\", y=\"Feature\", data=feature_imp)"
   ]
  },
  {
   "cell_type": "markdown",
   "metadata": {},
   "source": [
    "### Ensemble learning"
   ]
  },
  {
   "cell_type": "code",
   "execution_count": 26,
   "metadata": {},
   "outputs": [
    {
     "name": "stderr",
     "output_type": "stream",
     "text": [
      "C:\\Users\\Dandy\\Anaconda3\\envs\\finlab\\lib\\site-packages\\ipykernel_launcher.py:2: SettingWithCopyWarning: \n",
      "A value is trying to be set on a copy of a slice from a DataFrame.\n",
      "Try using .loc[row_indexer,col_indexer] = value instead\n",
      "\n",
      "See the caveats in the documentation: http://pandas.pydata.org/pandas-docs/stable/indexing.html#indexing-view-versus-copy\n",
      "  \n",
      "C:\\Users\\Dandy\\Anaconda3\\envs\\finlab\\lib\\site-packages\\ipykernel_launcher.py:5: SettingWithCopyWarning: \n",
      "A value is trying to be set on a copy of a slice from a DataFrame.\n",
      "Try using .loc[row_indexer,col_indexer] = value instead\n",
      "\n",
      "See the caveats in the documentation: http://pandas.pydata.org/pandas-docs/stable/indexing.html#indexing-view-versus-copy\n",
      "  \"\"\"\n",
      "C:\\Users\\Dandy\\Anaconda3\\envs\\finlab\\lib\\site-packages\\ipykernel_launcher.py:8: SettingWithCopyWarning: \n",
      "A value is trying to be set on a copy of a slice from a DataFrame.\n",
      "Try using .loc[row_indexer,col_indexer] = value instead\n",
      "\n",
      "See the caveats in the documentation: http://pandas.pydata.org/pandas-docs/stable/indexing.html#indexing-view-versus-copy\n",
      "  \n"
     ]
    }
   ],
   "source": [
    "vals = model.predict(dataset_test[feature_names].astype(float))\n",
    "dataset_test['result1'] = pd.Series(vals.swapaxes(0,1)[0], dataset_test.index)\n",
    "\n",
    "vals = cf.predict(dataset_test[feature_names].astype(float))\n",
    "dataset_test['result2'] = pd.Series(vals, dataset_test.index)\n",
    "\n",
    "vals = cf2.predict(dataset_test[feature_names].astype(float))\n",
    "dataset_test['result3'] = pd.Series(vals, dataset_test.index)"
   ]
  },
  {
   "cell_type": "markdown",
   "metadata": {},
   "source": [
    "## 原本的"
   ]
  },
  {
   "cell_type": "code",
   "execution_count": 27,
   "metadata": {},
   "outputs": [
    {
     "data": {
      "text/plain": [
       "<matplotlib.axes._subplots.AxesSubplot at 0x1c623947d68>"
      ]
     },
     "execution_count": 27,
     "metadata": {},
     "output_type": "execute_result"
    },
    {
     "data": {
      "image/png": "[encoded data removed]",
      "text/plain": [
       "<Figure size 432x288 with 1 Axes>"
      ]
     },
     "metadata": {
      "needs_background": "light"
     },
     "output_type": "display_data"
    }
   ],
   "source": [
    "import math\n",
    "\n",
    "\n",
    "dates = sorted(list(set(dataset_test.index)))\n",
    "\n",
    "rs = []\n",
    "for d in dates:\n",
    "    \n",
    "    dataset_time = dataset_test.loc[d]\n",
    "    rank = dataset_time['result1'] + dataset_time['result2'] + dataset_time['result3'] \n",
    "    \n",
    "    condition = (rank >= rank.nlargest(20).iloc[-1]) \n",
    "    r = dataset_time['return'][condition].mean()\n",
    "\n",
    "    rs.append(r * (1-3/1000-1.425/1000*2*0.6))\n",
    "\n",
    "rs = pd.Series(rs, index=dates).cumprod()\n",
    "\n",
    "s0050 = close['0050']['2018':]\n",
    "\n",
    "pd.DataFrame({'nn strategy return':rs.reindex(s0050.index, method='ffill'), '0050 return':s0050/s0050[0]}).plot()"
   ]
  },
  {
   "cell_type": "code",
   "execution_count": 28,
   "metadata": {},
   "outputs": [
    {
     "data": {
      "text/plain": [
       "stock_id  date      \n",
       "1109      2019-11-15    1.804579\n",
       "2204      2019-11-15    1.781716\n",
       "2367      2019-11-15    1.867403\n",
       "2414      2019-11-15    1.763302\n",
       "2427      2019-11-15    1.770423\n",
       "2458      2019-11-15    1.835405\n",
       "2459      2019-11-15    1.796736\n",
       "2643      2019-11-15    1.756693\n",
       "2885      2019-11-15    1.767821\n",
       "2889      2019-11-15    1.772847\n",
       "3010      2019-11-15    1.780370\n",
       "3030      2019-11-15    1.800720\n",
       "3533      2019-11-15    1.760238\n",
       "4552      2019-11-15    1.806522\n",
       "5403      2019-11-15    1.813181\n",
       "6189      2019-11-15    1.780246\n",
       "8103      2019-11-15    1.786403\n",
       "9904      2019-11-15    1.793821\n",
       "9943      2019-11-15    1.786262\n",
       "9945      2019-11-15    1.762516\n",
       "dtype: float64"
      ]
     },
     "execution_count": 28,
     "metadata": {},
     "output_type": "execute_result"
    },
    {
     "data": {
      "image/png": "[encoded data removed]",
      "text/plain": [
       "<Figure size 432x288 with 1 Axes>"
      ]
     },
     "metadata": {
      "needs_background": "light"
     },
     "output_type": "display_data"
    }
   ],
   "source": [
    "# get the latest dataset\n",
    "\n",
    "last_date = dataset.index.levels[1].max()\n",
    "is_last_date = dataset.index.get_level_values('date') == last_date\n",
    "last_dataset = dataset[is_last_date].copy()\n",
    "\n",
    "\n",
    "# remove NaN testcases\n",
    "\n",
    "#print(\"Some stocks are skipped due to NaN\")\n",
    "#print(last_dataset[last_dataset[feature_names].isnull().sum(axis=1) != 0].index.get_level_values(\"stock_id\").values)\n",
    "last_dataset = last_dataset.dropna(subset=feature_names)\n",
    "\n",
    "# predict\n",
    "\n",
    "vals = model.predict(last_dataset[feature_names].astype(float))\n",
    "last_dataset['result1'] = pd.Series(vals.swapaxes(0,1)[0], last_dataset.index)\n",
    "\n",
    "vals = cf.predict(last_dataset[feature_names].astype(float))\n",
    "last_dataset['result2'] = pd.Series(vals, last_dataset.index)\n",
    "\n",
    "vals = cf2.predict(last_dataset[feature_names].astype(float))\n",
    "last_dataset['result3'] = pd.Series(vals, last_dataset.index)\n",
    "\n",
    "# calculate score\n",
    "\n",
    "rank = last_dataset['result1'] + last_dataset['result2'] + last_dataset['result3']\n",
    "condition = (rank >= rank.nlargest(20).iloc[-1]) \n",
    "\n",
    "# plot rank distribution\n",
    "rank.hist(bins=20)\n",
    "\n",
    "\n",
    "# show the best 20 stocks\n",
    "rank[condition]"
   ]
  },
  {
   "cell_type": "markdown",
   "metadata": {},
   "source": [
    "## 添加三大反人條件"
   ]
  },
  {
   "cell_type": "code",
   "execution_count": 29,
   "metadata": {},
   "outputs": [
    {
     "name": "stdout",
     "output_type": "stream",
     "text": [
      "1.9661278330363936\n"
     ]
    },
    {
     "data": {
      "image/png": "[encoded data removed]",
      "text/plain": [
       "<Figure size 432x288 with 1 Axes>"
      ]
     },
     "metadata": {
      "needs_background": "light"
     },
     "output_type": "display_data"
    }
   ],
   "source": [
    "#(外資+投信+自營商-外資借券).rolling(N1).sum()\n",
    "#每月15號選出rank前(N2)的股票進行買入\n",
    "# N1天內法人的增加張數要超過N3張\n",
    "def leg(n1,n3):\n",
    "    condition1 = big.rolling(n1).sum() >n3*1000\n",
    "    return condition1\n",
    "\n",
    "def rs1(n1,n2,n3):\n",
    "    import pandas as pd\n",
    "    dates = sorted(list(set(dataset_test.index)))\n",
    "    rs = []\n",
    "    for d in dates:\n",
    "        \n",
    "        \n",
    "        dataset_time = dataset_test.loc[d]\n",
    "        rank = dataset_time['result1'] + dataset_time['result2'] + dataset_time['result3'] \n",
    "            \n",
    "        condition = (rank >= rank.nlargest(n2).iloc[-1]) \n",
    "        #r = dataset_time['return'][condition].mean()\n",
    "            # 開始蝦七八亂改\n",
    "        rk = dataset_time[condition]['stock_id']\n",
    "        rd = []\n",
    "        for n in rk:\n",
    "            rd.append(n)\n",
    "    \n",
    "    #condition1 = big.rolling(n1).sum() >n3*1000\n",
    "        condition1 = leg(n1,n3)\n",
    "        #condition1 = lambda x:big.rolling(n1).sum() > n3*1000\n",
    "        con = pd.DataFrame(condition1.unstack()[rd])\n",
    "    #con1 = con.pivot_table(index=\"stock_id\",columns=\"date\")\n",
    "        con0 = con.pivot_table(index=\"date\",columns=\"stock_id\")\n",
    "        con01 = con0.reindex(every_month, method='ffill').dropna()\n",
    "        con02 = con01.loc[d][0]\n",
    "        con03 = con02[con02]\n",
    "        con04=[]\n",
    "        for i in con03.index:\n",
    "            con04.append(i)\n",
    "            \n",
    "        test = dataset_time.reset_index().set_index(\"stock_id\")\n",
    "        lo = test[\"return\"][con04].mean()\n",
    "        #lo = lo.dropna()\n",
    "        \n",
    "         #結束蝦七八亂改\n",
    "        rs.append(lo * (1-3/1000-1.425/1000*2*0.6))\n",
    "            \n",
    "    rs = pd.Series(rs, index=dates).cumprod()\n",
    "    return rs,con04,condition\n",
    "\n",
    "#(68,20,11),(38,17,4)\n",
    "# 參數尚未最佳化\n",
    "rs_legal,l,condition_legal = rs1(68,20,11)\n",
    "rs_legal = pd.Series(rs_legal, index=dates)\n",
    "\n",
    "s0050 = close['0050']['2018':]\n",
    "\n",
    "pd.DataFrame({'nn strategy return filters':rs_legal.reindex(s0050.index, method='ffill'), '0050 return':s0050/s0050[0]}).plot()\n",
    "\n",
    "print(rs_legal[-1])"
   ]
  },
  {
   "cell_type": "code",
   "execution_count": 30,
   "metadata": {},
   "outputs": [
    {
     "name": "stdout",
     "output_type": "stream",
     "text": [
      "['aid=580762', 'aid=']\n",
      "accounts ['580762']\n",
      "current account 580762\n"
     ]
    }
   ],
   "source": [
    "from cmoney import VirtualStockAccount\n",
    "vs = VirtualStockAccount('0962041028','f8859373')"
   ]
  },
  {
   "cell_type": "code",
   "execution_count": 31,
   "metadata": {},
   "outputs": [],
   "source": [
    "def auto_buy(position, lowest_fee=20, discount=1, add_cost=10, money=100000):\n",
    "    from cmoney import VirtualStockAccount\n",
    "    vs = VirtualStockAccount('0962041028','f8859373')\n",
    "    # get total money\n",
    "    print('total money', money)\n",
    "\n",
    "    # get price of the stock\n",
    "    import time\n",
    "    infos = {}\n",
    "    if isinstance(position, pd.Series):\n",
    "        slist = position[(position != 0)].index.tolist()\n",
    "    elif isinstance(position, list):\n",
    "        slist = position\n",
    "    else:\n",
    "        raise Exception(\"type of position should be pd.Series or list\")\n",
    "\n",
    "    for sid in slist:\n",
    "        print(sid)\n",
    "        infos[sid] = vs.get_price(sid) # RefPrice\n",
    "        time.sleep(2)\n",
    "\n",
    "    # format dataframe and series\n",
    "    price = pd.Series({sid:info['StockInfo']['RefPrice'] for sid, info in infos.items() if info is not None})\n",
    "    none_stock_ids = [sid for sid, info in infos.items() if info is None]\n",
    "    if none_stock_ids:\n",
    "        print('**WARRN: there are stock cannot find info', none_stock_ids)\n",
    "\n",
    "    stock_list = price.dropna().transpose()\n",
    "\n",
    "    # rebalance stocks\n",
    "    while (money / len(stock_list)) < (lowest_fee - add_cost) * 1000 / 1.425 / discount:\n",
    "        stock_list = stock_list.loc[stock_list != stock_list.max()]\n",
    "\n",
    "    while True:\n",
    "        invest_amount = (money / len(stock_list))\n",
    "        ret = np.floor(invest_amount / stock_list / 1000)\n",
    "\n",
    "        if (ret == 0).any():\n",
    "            stock_list = stock_list.loc[stock_list != stock_list.max()]\n",
    "        else:\n",
    "            break\n",
    "\n",
    "    slist = ret.to_dict()\n",
    "    return vs.rebalance(slist)"
   ]
  },
  {
   "cell_type": "code",
   "execution_count": 32,
   "metadata": {},
   "outputs": [
    {
     "name": "stdout",
     "output_type": "stream",
     "text": [
      "['aid=580762', 'aid=']\n",
      "accounts ['580762']\n",
      "current account 580762\n",
      "total money 100000\n",
      "1339\n",
      "2352\n",
      "5434\n",
      "6189\n",
      "buy  1103 -2.0\n",
      "buy  1504 -1.0\n",
      "buy  2352 2.0\n",
      "buy  2427 -1.0\n",
      "buy  6189 1.0\n"
     ]
    }
   ],
   "source": [
    "auto_buy(l)"
   ]
  },
  {
   "cell_type": "code",
   "execution_count": 33,
   "metadata": {},
   "outputs": [],
   "source": [
    "def record(date):\n",
    "    for i in range(0, len(vs.get_orders()),1):\n",
    "        stock_id = vs.get_orders()[i]['Id']\n",
    "        stock_number = vs.get_orders()[i]['OrdQty']\n",
    "        print('date=%s, id=%s : num=%s'%(date,stock_id,stock_number))\n",
    "        with open('buy_time.txt','a') as f:\n",
    "            f.writelines('date=%s, id=%s : num=%s'%(date,stock_id,stock_number))"
   ]
  },
  {
   "cell_type": "code",
   "execution_count": 34,
   "metadata": {},
   "outputs": [
    {
     "name": "stdout",
     "output_type": "stream",
     "text": [
      "date=2019-11-18, id=6189 : num=1\n",
      "date=2019-11-18, id=2427 : num=1\n",
      "date=2019-11-18, id=2352 : num=2\n",
      "date=2019-11-18, id=1504 : num=1\n",
      "date=2019-11-18, id=1103 : num=1\n",
      "date=2019-11-18, id=3622 : num=1\n",
      "date=2019-11-18, id=3049 : num=1\n",
      "date=2019-11-18, id=2427 : num=1\n",
      "date=2019-11-18, id=1615 : num=1\n",
      "date=2019-11-18, id=1504 : num=1\n",
      "date=2019-11-18, id=1103 : num=2\n"
     ]
    }
   ],
   "source": [
    "#輸入日期\n",
    "record('2019-11-18')"
   ]
  },
  {
   "cell_type": "code",
   "execution_count": 6,
   "metadata": {},
   "outputs": [
    {
     "name": "stdout",
     "output_type": "stream",
     "text": [
      "total money 2000000\n",
      "1101\n",
      "2330\n",
      "buy  1101 24.0\n",
      "buy  2330 3.0\n"
     ]
    }
   ],
   "source": [
    "vs.sync(['1101', '2330'])"
   ]
  },
  {
   "cell_type": "code",
   "execution_count": 13,
   "metadata": {},
   "outputs": [
    {
     "name": "stdout",
     "output_type": "stream",
     "text": [
      "3622\n",
      "3049\n",
      "2427\n",
      "1615\n",
      "1504\n",
      "1103\n"
     ]
    }
   ],
   "source": [
    "vs.cancel_all_orders()"
   ]
  },
  {
   "cell_type": "code",
   "execution_count": 12,
   "metadata": {},
   "outputs": [
    {
     "data": {
      "text/plain": [
       "[{'Id': '3622',\n",
       "  'Name': '洋華',\n",
       "  'TkT': \"<span class='c2'>現股<br>賣出</span>\",\n",
       "  'OrdPr': '17.30',\n",
       "  'OrdQty': '1',\n",
       "  'DeAvgPr': '19.10',\n",
       "  'DeQty': '1',\n",
       "  'UnPay': '0',\n",
       "  'Time': '2019/11/19 08:35:18',\n",
       "  'StMsg': '已成交',\n",
       "  'StCode': '3',\n",
       "  'CanDel': '0',\n",
       "  'CNo': '19879326',\n",
       "  'NoteId': '0',\n",
       "  'IsPublicNote': '0',\n",
       "  'BoardLostSize': '1000',\n",
       "  'IsWarrant': '0'},\n",
       " {'Id': '3049',\n",
       "  'Name': '和鑫',\n",
       "  'TkT': \"<span class='c2'>現股<br>賣出</span>\",\n",
       "  'OrdPr': '12.30',\n",
       "  'OrdQty': '1',\n",
       "  'DeAvgPr': '13.70',\n",
       "  'DeQty': '1',\n",
       "  'UnPay': '0',\n",
       "  'Time': '2019/11/19 08:35:18',\n",
       "  'StMsg': '已成交',\n",
       "  'StCode': '3',\n",
       "  'CanDel': '0',\n",
       "  'CNo': '19879325',\n",
       "  'NoteId': '0',\n",
       "  'IsPublicNote': '0',\n",
       "  'BoardLostSize': '1000',\n",
       "  'IsWarrant': '0'},\n",
       " {'Id': '2427',\n",
       "  'Name': '三商電',\n",
       "  'TkT': \"<span class='c2'>現股<br>賣出</span>\",\n",
       "  'OrdPr': '9.68',\n",
       "  'OrdQty': '1',\n",
       "  'DeAvgPr': '10.80',\n",
       "  'DeQty': '1',\n",
       "  'UnPay': '0',\n",
       "  'Time': '2019/11/19 08:35:18',\n",
       "  'StMsg': '已成交',\n",
       "  'StCode': '3',\n",
       "  'CanDel': '0',\n",
       "  'CNo': '19879324',\n",
       "  'NoteId': '0',\n",
       "  'IsPublicNote': '0',\n",
       "  'BoardLostSize': '1000',\n",
       "  'IsWarrant': '0'},\n",
       " {'Id': '1615',\n",
       "  'Name': '大山',\n",
       "  'TkT': \"<span class='c2'>現股<br>賣出</span>\",\n",
       "  'OrdPr': '15.30',\n",
       "  'OrdQty': '1',\n",
       "  'DeAvgPr': '16.95',\n",
       "  'DeQty': '1',\n",
       "  'UnPay': '0',\n",
       "  'Time': '2019/11/19 08:35:18',\n",
       "  'StMsg': '已成交',\n",
       "  'StCode': '3',\n",
       "  'CanDel': '0',\n",
       "  'CNo': '19879322',\n",
       "  'NoteId': '0',\n",
       "  'IsPublicNote': '0',\n",
       "  'BoardLostSize': '1000',\n",
       "  'IsWarrant': '0'},\n",
       " {'Id': '1504',\n",
       "  'Name': '東元',\n",
       "  'TkT': \"<span class='c1'>現股<br>買進</span>\",\n",
       "  'OrdPr': '29.70',\n",
       "  'OrdQty': '1',\n",
       "  'DeAvgPr': '26.85',\n",
       "  'DeQty': '1',\n",
       "  'UnPay': '0',\n",
       "  'Time': '2019/11/19 08:35:18',\n",
       "  'StMsg': '已成交',\n",
       "  'StCode': '3',\n",
       "  'CanDel': '0',\n",
       "  'CNo': '19879321',\n",
       "  'NoteId': '0',\n",
       "  'IsPublicNote': '0',\n",
       "  'BoardLostSize': '1000',\n",
       "  'IsWarrant': '0'},\n",
       " {'Id': '1103',\n",
       "  'Name': '嘉泥',\n",
       "  'TkT': \"<span class='c1'>現股<br>買進</span>\",\n",
       "  'OrdPr': '22.40',\n",
       "  'OrdQty': '2',\n",
       "  'DeAvgPr': '20.40',\n",
       "  'DeQty': '2',\n",
       "  'UnPay': '0',\n",
       "  'Time': '2019/11/19 08:35:17',\n",
       "  'StMsg': '已成交',\n",
       "  'StCode': '3',\n",
       "  'CanDel': '0',\n",
       "  'CNo': '19879320',\n",
       "  'NoteId': '0',\n",
       "  'IsPublicNote': '0',\n",
       "  'BoardLostSize': '1000',\n",
       "  'IsWarrant': '0'}]"
      ]
     },
     "execution_count": 12,
     "metadata": {},
     "output_type": "execute_result"
    }
   ],
   "source": [
    "vs.get_orders()"
   ]
  },
  {
   "cell_type": "code",
   "execution_count": 65,
   "metadata": {},
   "outputs": [],
   "source": [
    "def record(date):\n",
    "    for i in range(0, len(vs.get_orders()),1):\n",
    "        stock_id = vs.get_orders()[i]['Id']\n",
    "        stock_number = vs.get_orders()[i]['OrdQty']\n",
    "        print('date=%s, id=%s : num=%s'%(date,stock_id,stock_number))\n",
    "        with open('buy_time.txt','') as f:\n",
    "            f.writelines('date=%s, id=%s : num=%s'%(date,stock_id,stock_number))"
   ]
  },
  {
   "cell_type": "code",
   "execution_count": 66,
   "metadata": {},
   "outputs": [
    {
     "name": "stdout",
     "output_type": "stream",
     "text": [
      "date=2019-11-15, id=3622 : num=1\n",
      "date=2019-11-15, id=3049 : num=1\n",
      "date=2019-11-15, id=2427 : num=2\n",
      "date=2019-11-15, id=1615 : num=1\n"
     ]
    }
   ],
   "source": [
    "record('2019-11-15')"
   ]
  },
  {
   "cell_type": "code",
   "execution_count": 47,
   "metadata": {},
   "outputs": [
    {
     "ename": "SyntaxError",
     "evalue": "invalid syntax (<ipython-input-47-3ed60b3be129>, line 1)",
     "output_type": "error",
     "traceback": [
      "\u001b[1;36m  File \u001b[1;32m\"<ipython-input-47-3ed60b3be129>\"\u001b[1;36m, line \u001b[1;32m1\u001b[0m\n\u001b[1;33m    for i in range(4)\u001b[0m\n\u001b[1;37m                     ^\u001b[0m\n\u001b[1;31mSyntaxError\u001b[0m\u001b[1;31m:\u001b[0m invalid syntax\n"
     ]
    }
   ],
   "source": [
    "with open('buy_time.txt','') as f:\n",
    "    f.writelines('date=%s, id=%s : num=%s'%(date,stock_id,stock_number))"
   ]
  },
  {
   "cell_type": "markdown",
   "metadata": {},
   "source": [
    "## 加入自動化"
   ]
  },
  {
   "cell_type": "code",
   "execution_count": null,
   "metadata": {},
   "outputs": [],
   "source": [
    "# 自動分配持股（平均分散總資產）（通常我會用這個）\n",
    "vs.sync(['1101', '2330'])\n",
    "\n",
    "# ------ #\n",
    "# 委託操作\n",
    "# ------ # \n",
    "\n",
    "# 查看目前的委託單\n",
    "vs.get_orders()\n",
    "\n",
    "# 刪除所有委託單\n",
    "vs.cancel_all_orders()"
   ]
  },
  {
   "cell_type": "code",
   "execution_count": 35,
   "metadata": {},
   "outputs": [
    {
     "name": "stdout",
     "output_type": "stream",
     "text": [
      "['aid=580762', 'aid=']\n",
      "accounts ['580762']\n",
      "current account 580762\n"
     ]
    }
   ],
   "source": [
    "from cmoney import VirtualStockAccount\n",
    "vs = VirtualStockAccount('0962041028','f8859373')\n",
    "vs.info"
   ]
  },
  {
   "cell_type": "code",
   "execution_count": null,
   "metadata": {},
   "outputs": [],
   "source": [
    "import math\n",
    "import pandas as pd\n",
    "\n",
    "dates = sorted(list(set(dataset_test.index)))\n",
    "\n",
    "rs = []\n",
    "for d in dates:\n",
    "    \n",
    "    dataset_time = dataset_test.loc[d]\n",
    "    rank = dataset_time['result1'] + dataset_time['result2'] + dataset_time['result3'] \n",
    "    \n",
    "    condition = (rank >= rank.nlargest(20).iloc[-1]) \n",
    "    r = dataset_time['return'][condition].mean()\n",
    "\n",
    "    rs.append(r * (1-3/1000-1.425/1000*2*0.6))\n",
    "\n",
    "rs = pd.Series(rs, index=dates).cumprod()\n",
    "\n",
    "s0050 = close['0050']['2018':]\n",
    "\n",
    "#pd.DataFrame({'nn strategy return':rs.reindex(s0050.index, method='ffill'), '0050 return':s0050/s0050[0]}).plot()\n",
    "\n",
    "rs_legal,l,condition = rs1(68,20,11)\n",
    "rs_legal = pd.Series(rs_legal, index=dates)\n",
    "\n",
    "s0050 = close['0050']['2018':]\n",
    "\n",
    "pd.DataFrame({'nn strategy return':rs.reindex(s0050.index, method='ffill') ,'legal fillter':rs_legal.reindex(s0050.index, method='ffill') , '0050 return':s0050/s0050[0]}).plot()"
   ]
  },
  {
   "cell_type": "code",
   "execution_count": null,
   "metadata": {},
   "outputs": [],
   "source": [
    "#(外資+投信+自營商-外資借券).rolling(N1).sum()\n",
    "#每月15號選出rank前(N2)的股票進行買入\n",
    "# N1天內法人的增加張數要超過N3張\n",
    "import tqdm\n",
    "rmax = 0\n",
    "n1 = []\n",
    "for i in tqdm.tqdm_notebook(range(1,100,10)):\n",
    "    try:\n",
    "        r,c,condition = rs1(i,50,1)\n",
    "        rsn = r[-1]\n",
    "        rmax = 0\n",
    "        if rmax<rsn:\n",
    "            rmax = rsn\n",
    "            print(rmax,i)\n",
    "            n1.append(i)\n",
    "        else:\n",
    "            print(i)\n",
    "    except:\n",
    "        pass\n",
    "    continue"
   ]
  },
  {
   "cell_type": "code",
   "execution_count": null,
   "metadata": {},
   "outputs": [],
   "source": [
    "n1"
   ]
  },
  {
   "cell_type": "code",
   "execution_count": null,
   "metadata": {},
   "outputs": [],
   "source": [
    "import tqdm\n",
    "\n",
    "\n",
    "n3=[]\n",
    "#for i in n1:\n",
    "for k in tqdm.tqdm_notebook(range(1,60,1)):\n",
    "    try:\n",
    "        r,c,condition = rs1(38,50,k)\n",
    "        rsn = r[-1]\n",
    "        if rmax<rsn:\n",
    "            \n",
    "            rmax = rsn\n",
    "            print(rmax,k)\n",
    "            \n",
    "            n3.append(k)\n",
    "        else:\n",
    "            print(i,k)\n",
    "    except:\n",
    "        pass\n",
    "    continue"
   ]
  },
  {
   "cell_type": "code",
   "execution_count": null,
   "metadata": {},
   "outputs": [],
   "source": [
    "r,c,condition = rs1(38,50,1)\n",
    "rsn = r[-1]\n",
    "rmax = 0\n",
    "if rmax<rsn:\n",
    "\n",
    "    rmax = rsn\n",
    "    print(rmax,1)\n",
    "\n",
    "    #n3.append(k)"
   ]
  },
  {
   "cell_type": "code",
   "execution_count": null,
   "metadata": {},
   "outputs": [],
   "source": [
    "r,c,condition = rs1(38,50,1)"
   ]
  },
  {
   "cell_type": "code",
   "execution_count": null,
   "metadata": {},
   "outputs": [],
   "source": [
    "rmax"
   ]
  },
  {
   "cell_type": "code",
   "execution_count": null,
   "metadata": {},
   "outputs": [],
   "source": [
    "r,c = rs1(60,50,k)\n",
    "rsn = r[-1]\n",
    "if rmax<rsn:\n",
    "    \n",
    "    rmax = rsn\n",
    "    print(rmax,k)\n",
    "    \n",
    "    n3.append(k)"
   ]
  },
  {
   "cell_type": "code",
   "execution_count": null,
   "metadata": {},
   "outputs": [],
   "source": [
    "\n",
    "n3"
   ]
  },
  {
   "cell_type": "code",
   "execution_count": null,
   "metadata": {},
   "outputs": [],
   "source": [
    "#step3\n",
    "n2 = []\n",
    "\n",
    "\n",
    "for j in tqdm.tqdm_notebook(range(1,100,1)):\n",
    "    try:\n",
    "        r,c,con = rs1(38,j,4)\n",
    "        rsn = r[-1]\n",
    "        if rmax<rsn:\n",
    "            rmax = rsn\n",
    "            print(rmax,j)\n",
    "            n2.append(j)\n",
    "        else:\n",
    "            print(j)\n",
    "    except:\n",
    "        pass\n",
    "    continue"
   ]
  },
  {
   "cell_type": "code",
   "execution_count": null,
   "metadata": {},
   "outputs": [],
   "source": [
    "#we got n1,n2,n3\n",
    "#r,l = rs1()"
   ]
  },
  {
   "cell_type": "code",
   "execution_count": null,
   "metadata": {},
   "outputs": [],
   "source": [
    "rs_legal"
   ]
  },
  {
   "cell_type": "code",
   "execution_count": 24,
   "metadata": {},
   "outputs": [
    {
     "data": {
      "text/plain": [
       "<matplotlib.axes._subplots.AxesSubplot at 0x29c5496d588>"
      ]
     },
     "execution_count": 24,
     "metadata": {},
     "output_type": "execute_result"
    },
    {
     "data": {
      "image/png": "[encoded data removed]",
      "text/plain": [
       "<Figure size 432x288 with 1 Axes>"
      ]
     },
     "metadata": {
      "needs_background": "light"
     },
     "output_type": "display_data"
    }
   ],
   "source": [
    "import pandas as pd\n",
    "rs_legal,l,condition = rs1(68,20,11)\n",
    "rs_legal = pd.Series(rs, index=dates)\n",
    "\n",
    "s0050 = close['0050']['2018':]\n",
    "\n",
    "pd.DataFrame({'nn strategy return':rs_legal.reindex(s0050.index, method='ffill'), '0050 return':s0050/s0050[0]}).plot()\n",
    "\n"
   ]
  },
  {
   "cell_type": "code",
   "execution_count": 25,
   "metadata": {},
   "outputs": [
    {
     "data": {
      "text/plain": [
       "1.277500492921283"
      ]
     },
     "execution_count": 25,
     "metadata": {},
     "output_type": "execute_result"
    }
   ],
   "source": [
    "rs_legal[-1]"
   ]
  },
  {
   "cell_type": "code",
   "execution_count": 25,
   "metadata": {},
   "outputs": [
    {
     "data": {
      "text/plain": [
       "<matplotlib.axes._subplots.AxesSubplot at 0x244c6e6de10>"
      ]
     },
     "execution_count": 25,
     "metadata": {},
     "output_type": "execute_result"
    },
    {
     "data": {
      "image/png": "[encoded data removed]",
      "text/plain": [
       "<Figure size 432x288 with 1 Axes>"
      ]
     },
     "metadata": {
      "needs_background": "light"
     },
     "output_type": "display_data"
    },
    {
     "data": {
      "image/png": "[encoded data removed]",
      "text/plain": [
       "<Figure size 432x288 with 1 Axes>"
      ]
     },
     "metadata": {
      "needs_background": "light"
     },
     "output_type": "display_data"
    }
   ],
   "source": [
    "import math\n",
    "import pandas as pd\n",
    "\n",
    "dates = sorted(list(set(dataset_test.index)))\n",
    "\n",
    "rs = []\n",
    "for d in dates:\n",
    "    \n",
    "    dataset_time = dataset_test.loc[d]\n",
    "    rank = dataset_time['result1'] + dataset_time['result2'] + dataset_time['result3'] \n",
    "    \n",
    "    condition = (rank >= rank.nlargest(20).iloc[-1]) \n",
    "    r = dataset_time['return'][condition].mean()\n",
    "\n",
    "    rs.append(r * (1-3/1000-1.425/1000*2*0.6))\n",
    "\n",
    "rs = pd.Series(rs, index=dates).cumprod()\n",
    "\n",
    "s0050 = close['0050']['2018':]\n",
    "\n",
    "pd.DataFrame({'nn strategy return':rs.reindex(s0050.index, method='ffill'), '0050 return':s0050/s0050[0]}).plot()\n",
    "\n",
    "rs_legal,l,condition = rs1(68,20,11)\n",
    "rs_legal = pd.Series(rs, index=dates)\n",
    "\n",
    "s0050 = close['0050']['2018':]\n",
    "\n",
    "pd.DataFrame({'nn strategy return':rs.reindex(s0050.index, method='ffill') ,'legal fillter':rs_legal , '0050 return':s0050/s0050[0]}).plot()"
   ]
  },
  {
   "cell_type": "code",
   "execution_count": 26,
   "metadata": {},
   "outputs": [
    {
     "data": {
      "text/plain": [
       "1.3630837149577797"
      ]
     },
     "execution_count": 26,
     "metadata": {},
     "output_type": "execute_result"
    }
   ],
   "source": [
    "rs[-1]"
   ]
  },
  {
   "cell_type": "code",
   "execution_count": 28,
   "metadata": {},
   "outputs": [
    {
     "ename": "TypeError",
     "evalue": "'NoneType' object is not iterable",
     "output_type": "error",
     "traceback": [
      "\u001b[1;31m---------------------------------------------------------------------------\u001b[0m",
      "\u001b[1;31mTypeError\u001b[0m                                 Traceback (most recent call last)",
      "\u001b[1;32m<ipython-input-28-2f5574157048>\u001b[0m in \u001b[0;36m<module>\u001b[1;34m\u001b[0m\n\u001b[1;32m----> 1\u001b[1;33m \u001b[0mrank\u001b[0m\u001b[1;33m[\u001b[0m\u001b[0ml\u001b[0m\u001b[1;33m]\u001b[0m\u001b[1;33m\u001b[0m\u001b[1;33m\u001b[0m\u001b[0m\n\u001b[0m",
      "\u001b[1;32m~\\Anaconda3\\envs\\finlab\\lib\\site-packages\\pandas\\core\\series.py\u001b[0m in \u001b[0;36m__getitem__\u001b[1;34m(self, key)\u001b[0m\n\u001b[0;32m    909\u001b[0m             \u001b[0mkey\u001b[0m \u001b[1;33m=\u001b[0m \u001b[0mcheck_bool_indexer\u001b[0m\u001b[1;33m(\u001b[0m\u001b[0mself\u001b[0m\u001b[1;33m.\u001b[0m\u001b[0mindex\u001b[0m\u001b[1;33m,\u001b[0m \u001b[0mkey\u001b[0m\u001b[1;33m)\u001b[0m\u001b[1;33m\u001b[0m\u001b[1;33m\u001b[0m\u001b[0m\n\u001b[0;32m    910\u001b[0m \u001b[1;33m\u001b[0m\u001b[0m\n\u001b[1;32m--> 911\u001b[1;33m         \u001b[1;32mreturn\u001b[0m \u001b[0mself\u001b[0m\u001b[1;33m.\u001b[0m\u001b[0m_get_with\u001b[0m\u001b[1;33m(\u001b[0m\u001b[0mkey\u001b[0m\u001b[1;33m)\u001b[0m\u001b[1;33m\u001b[0m\u001b[1;33m\u001b[0m\u001b[0m\n\u001b[0m\u001b[0;32m    912\u001b[0m \u001b[1;33m\u001b[0m\u001b[0m\n\u001b[0;32m    913\u001b[0m     \u001b[1;32mdef\u001b[0m \u001b[0m_get_with\u001b[0m\u001b[1;33m(\u001b[0m\u001b[0mself\u001b[0m\u001b[1;33m,\u001b[0m \u001b[0mkey\u001b[0m\u001b[1;33m)\u001b[0m\u001b[1;33m:\u001b[0m\u001b[1;33m\u001b[0m\u001b[1;33m\u001b[0m\u001b[0m\n",
      "\u001b[1;32m~\\Anaconda3\\envs\\finlab\\lib\\site-packages\\pandas\\core\\series.py\u001b[0m in \u001b[0;36m_get_with\u001b[1;34m(self, key)\u001b[0m\n\u001b[0;32m    949\u001b[0m             \u001b[1;31m# handle the dup indexing case (GH 4246)\u001b[0m\u001b[1;33m\u001b[0m\u001b[1;33m\u001b[0m\u001b[1;33m\u001b[0m\u001b[0m\n\u001b[0;32m    950\u001b[0m             \u001b[1;32mif\u001b[0m \u001b[0misinstance\u001b[0m\u001b[1;33m(\u001b[0m\u001b[0mkey\u001b[0m\u001b[1;33m,\u001b[0m \u001b[1;33m(\u001b[0m\u001b[0mlist\u001b[0m\u001b[1;33m,\u001b[0m \u001b[0mtuple\u001b[0m\u001b[1;33m)\u001b[0m\u001b[1;33m)\u001b[0m\u001b[1;33m:\u001b[0m\u001b[1;33m\u001b[0m\u001b[1;33m\u001b[0m\u001b[0m\n\u001b[1;32m--> 951\u001b[1;33m                 \u001b[1;32mreturn\u001b[0m \u001b[0mself\u001b[0m\u001b[1;33m.\u001b[0m\u001b[0mloc\u001b[0m\u001b[1;33m[\u001b[0m\u001b[0mkey\u001b[0m\u001b[1;33m]\u001b[0m\u001b[1;33m\u001b[0m\u001b[1;33m\u001b[0m\u001b[0m\n\u001b[0m\u001b[0;32m    952\u001b[0m \u001b[1;33m\u001b[0m\u001b[0m\n\u001b[0;32m    953\u001b[0m             \u001b[1;32mreturn\u001b[0m \u001b[0mself\u001b[0m\u001b[1;33m.\u001b[0m\u001b[0mreindex\u001b[0m\u001b[1;33m(\u001b[0m\u001b[0mkey\u001b[0m\u001b[1;33m)\u001b[0m\u001b[1;33m\u001b[0m\u001b[1;33m\u001b[0m\u001b[0m\n",
      "\u001b[1;32m~\\Anaconda3\\envs\\finlab\\lib\\site-packages\\pandas\\core\\indexing.py\u001b[0m in \u001b[0;36m__getitem__\u001b[1;34m(self, key)\u001b[0m\n\u001b[0;32m   1498\u001b[0m \u001b[1;33m\u001b[0m\u001b[0m\n\u001b[0;32m   1499\u001b[0m             \u001b[0mmaybe_callable\u001b[0m \u001b[1;33m=\u001b[0m \u001b[0mcom\u001b[0m\u001b[1;33m.\u001b[0m\u001b[0mapply_if_callable\u001b[0m\u001b[1;33m(\u001b[0m\u001b[0mkey\u001b[0m\u001b[1;33m,\u001b[0m \u001b[0mself\u001b[0m\u001b[1;33m.\u001b[0m\u001b[0mobj\u001b[0m\u001b[1;33m)\u001b[0m\u001b[1;33m\u001b[0m\u001b[1;33m\u001b[0m\u001b[0m\n\u001b[1;32m-> 1500\u001b[1;33m             \u001b[1;32mreturn\u001b[0m \u001b[0mself\u001b[0m\u001b[1;33m.\u001b[0m\u001b[0m_getitem_axis\u001b[0m\u001b[1;33m(\u001b[0m\u001b[0mmaybe_callable\u001b[0m\u001b[1;33m,\u001b[0m \u001b[0maxis\u001b[0m\u001b[1;33m=\u001b[0m\u001b[0maxis\u001b[0m\u001b[1;33m)\u001b[0m\u001b[1;33m\u001b[0m\u001b[1;33m\u001b[0m\u001b[0m\n\u001b[0m\u001b[0;32m   1501\u001b[0m \u001b[1;33m\u001b[0m\u001b[0m\n\u001b[0;32m   1502\u001b[0m     \u001b[1;32mdef\u001b[0m \u001b[0m_is_scalar_access\u001b[0m\u001b[1;33m(\u001b[0m\u001b[0mself\u001b[0m\u001b[1;33m,\u001b[0m \u001b[0mkey\u001b[0m\u001b[1;33m)\u001b[0m\u001b[1;33m:\u001b[0m\u001b[1;33m\u001b[0m\u001b[1;33m\u001b[0m\u001b[0m\n",
      "\u001b[1;32m~\\Anaconda3\\envs\\finlab\\lib\\site-packages\\pandas\\core\\indexing.py\u001b[0m in \u001b[0;36m_getitem_axis\u001b[1;34m(self, key, axis)\u001b[0m\n\u001b[0;32m   1900\u001b[0m                     \u001b[1;32mraise\u001b[0m \u001b[0mValueError\u001b[0m\u001b[1;33m(\u001b[0m\u001b[1;34m'Cannot index with multidimensional key'\u001b[0m\u001b[1;33m)\u001b[0m\u001b[1;33m\u001b[0m\u001b[1;33m\u001b[0m\u001b[0m\n\u001b[0;32m   1901\u001b[0m \u001b[1;33m\u001b[0m\u001b[0m\n\u001b[1;32m-> 1902\u001b[1;33m                 \u001b[1;32mreturn\u001b[0m \u001b[0mself\u001b[0m\u001b[1;33m.\u001b[0m\u001b[0m_getitem_iterable\u001b[0m\u001b[1;33m(\u001b[0m\u001b[0mkey\u001b[0m\u001b[1;33m,\u001b[0m \u001b[0maxis\u001b[0m\u001b[1;33m=\u001b[0m\u001b[0maxis\u001b[0m\u001b[1;33m)\u001b[0m\u001b[1;33m\u001b[0m\u001b[1;33m\u001b[0m\u001b[0m\n\u001b[0m\u001b[0;32m   1903\u001b[0m \u001b[1;33m\u001b[0m\u001b[0m\n\u001b[0;32m   1904\u001b[0m             \u001b[1;31m# nested tuple slicing\u001b[0m\u001b[1;33m\u001b[0m\u001b[1;33m\u001b[0m\u001b[1;33m\u001b[0m\u001b[0m\n",
      "\u001b[1;32m~\\Anaconda3\\envs\\finlab\\lib\\site-packages\\pandas\\core\\indexing.py\u001b[0m in \u001b[0;36m_getitem_iterable\u001b[1;34m(self, key, axis)\u001b[0m\n\u001b[0;32m   1203\u001b[0m             \u001b[1;31m# A collection of keys\u001b[0m\u001b[1;33m\u001b[0m\u001b[1;33m\u001b[0m\u001b[1;33m\u001b[0m\u001b[0m\n\u001b[0;32m   1204\u001b[0m             keyarr, indexer = self._get_listlike_indexer(key, axis,\n\u001b[1;32m-> 1205\u001b[1;33m                                                          raise_missing=False)\n\u001b[0m\u001b[0;32m   1206\u001b[0m             return self.obj._reindex_with_indexers({axis: [keyarr, indexer]},\n\u001b[0;32m   1207\u001b[0m                                                    copy=True, allow_dups=True)\n",
      "\u001b[1;32m~\\Anaconda3\\envs\\finlab\\lib\\site-packages\\pandas\\core\\indexing.py\u001b[0m in \u001b[0;36m_get_listlike_indexer\u001b[1;34m(self, key, axis, raise_missing)\u001b[0m\n\u001b[0;32m   1155\u001b[0m             \u001b[0mkeyarr\u001b[0m \u001b[1;33m=\u001b[0m \u001b[0max\u001b[0m\u001b[1;33m.\u001b[0m\u001b[0mreindex\u001b[0m\u001b[1;33m(\u001b[0m\u001b[0mkeyarr\u001b[0m\u001b[1;33m)\u001b[0m\u001b[1;33m[\u001b[0m\u001b[1;36m0\u001b[0m\u001b[1;33m]\u001b[0m\u001b[1;33m\u001b[0m\u001b[1;33m\u001b[0m\u001b[0m\n\u001b[0;32m   1156\u001b[0m         \u001b[1;32melse\u001b[0m\u001b[1;33m:\u001b[0m\u001b[1;33m\u001b[0m\u001b[1;33m\u001b[0m\u001b[0m\n\u001b[1;32m-> 1157\u001b[1;33m             \u001b[0mkeyarr\u001b[0m\u001b[1;33m,\u001b[0m \u001b[0mindexer\u001b[0m\u001b[1;33m,\u001b[0m \u001b[0mnew_indexer\u001b[0m \u001b[1;33m=\u001b[0m \u001b[0max\u001b[0m\u001b[1;33m.\u001b[0m\u001b[0m_reindex_non_unique\u001b[0m\u001b[1;33m(\u001b[0m\u001b[0mkeyarr\u001b[0m\u001b[1;33m)\u001b[0m\u001b[1;33m\u001b[0m\u001b[1;33m\u001b[0m\u001b[0m\n\u001b[0m\u001b[0;32m   1158\u001b[0m \u001b[1;33m\u001b[0m\u001b[0m\n\u001b[0;32m   1159\u001b[0m         self._validate_read_indexer(keyarr, indexer,\n",
      "\u001b[1;32m~\\Anaconda3\\envs\\finlab\\lib\\site-packages\\pandas\\core\\indexes\\base.py\u001b[0m in \u001b[0;36m_reindex_non_unique\u001b[1;34m(self, target)\u001b[0m\n\u001b[0;32m   3165\u001b[0m \u001b[1;33m\u001b[0m\u001b[0m\n\u001b[0;32m   3166\u001b[0m         \u001b[0mtarget\u001b[0m \u001b[1;33m=\u001b[0m \u001b[0mensure_index\u001b[0m\u001b[1;33m(\u001b[0m\u001b[0mtarget\u001b[0m\u001b[1;33m)\u001b[0m\u001b[1;33m\u001b[0m\u001b[1;33m\u001b[0m\u001b[0m\n\u001b[1;32m-> 3167\u001b[1;33m         \u001b[0mindexer\u001b[0m\u001b[1;33m,\u001b[0m \u001b[0mmissing\u001b[0m \u001b[1;33m=\u001b[0m \u001b[0mself\u001b[0m\u001b[1;33m.\u001b[0m\u001b[0mget_indexer_non_unique\u001b[0m\u001b[1;33m(\u001b[0m\u001b[0mtarget\u001b[0m\u001b[1;33m)\u001b[0m\u001b[1;33m\u001b[0m\u001b[1;33m\u001b[0m\u001b[0m\n\u001b[0m\u001b[0;32m   3168\u001b[0m         \u001b[0mcheck\u001b[0m \u001b[1;33m=\u001b[0m \u001b[0mindexer\u001b[0m \u001b[1;33m!=\u001b[0m \u001b[1;33m-\u001b[0m\u001b[1;36m1\u001b[0m\u001b[1;33m\u001b[0m\u001b[1;33m\u001b[0m\u001b[0m\n\u001b[0;32m   3169\u001b[0m         \u001b[0mnew_labels\u001b[0m \u001b[1;33m=\u001b[0m \u001b[0mself\u001b[0m\u001b[1;33m.\u001b[0m\u001b[0mtake\u001b[0m\u001b[1;33m(\u001b[0m\u001b[0mindexer\u001b[0m\u001b[1;33m[\u001b[0m\u001b[0mcheck\u001b[0m\u001b[1;33m]\u001b[0m\u001b[1;33m)\u001b[0m\u001b[1;33m\u001b[0m\u001b[1;33m\u001b[0m\u001b[0m\n",
      "\u001b[1;32m~\\Anaconda3\\envs\\finlab\\lib\\site-packages\\pandas\\core\\indexes\\base.py\u001b[0m in \u001b[0;36mget_indexer_non_unique\u001b[1;34m(self, target)\u001b[0m\n\u001b[0;32m   4442\u001b[0m             \u001b[0mtgt_values\u001b[0m \u001b[1;33m=\u001b[0m \u001b[0mtarget\u001b[0m\u001b[1;33m.\u001b[0m\u001b[0m_ndarray_values\u001b[0m\u001b[1;33m\u001b[0m\u001b[1;33m\u001b[0m\u001b[0m\n\u001b[0;32m   4443\u001b[0m \u001b[1;33m\u001b[0m\u001b[0m\n\u001b[1;32m-> 4444\u001b[1;33m         \u001b[0mindexer\u001b[0m\u001b[1;33m,\u001b[0m \u001b[0mmissing\u001b[0m \u001b[1;33m=\u001b[0m \u001b[0mself\u001b[0m\u001b[1;33m.\u001b[0m\u001b[0m_engine\u001b[0m\u001b[1;33m.\u001b[0m\u001b[0mget_indexer_non_unique\u001b[0m\u001b[1;33m(\u001b[0m\u001b[0mtgt_values\u001b[0m\u001b[1;33m)\u001b[0m\u001b[1;33m\u001b[0m\u001b[1;33m\u001b[0m\u001b[0m\n\u001b[0m\u001b[0;32m   4445\u001b[0m         \u001b[1;32mreturn\u001b[0m \u001b[0mensure_platform_int\u001b[0m\u001b[1;33m(\u001b[0m\u001b[0mindexer\u001b[0m\u001b[1;33m)\u001b[0m\u001b[1;33m,\u001b[0m \u001b[0mmissing\u001b[0m\u001b[1;33m\u001b[0m\u001b[1;33m\u001b[0m\u001b[0m\n\u001b[0;32m   4446\u001b[0m \u001b[1;33m\u001b[0m\u001b[0m\n",
      "\u001b[1;32mpandas/_libs/index.pyx\u001b[0m in \u001b[0;36mpandas._libs.index.IndexEngine.get_indexer_non_unique\u001b[1;34m()\u001b[0m\n",
      "\u001b[1;31mTypeError\u001b[0m: 'NoneType' object is not iterable"
     ]
    }
   ],
   "source": [
    "rank[l]"
   ]
  },
  {
   "cell_type": "markdown",
   "metadata": {},
   "source": [
    "## 剛月持股"
   ]
  },
  {
   "cell_type": "code",
   "execution_count": null,
   "metadata": {},
   "outputs": [],
   "source": [
    "# get the latest dataset\n",
    "\n",
    "last_date = dataset.index.levels[1].max()\n",
    "is_last_date = dataset.index.get_level_values('date') == last_date\n",
    "last_dataset = dataset[is_last_date].copy()\n",
    "\n",
    "\n",
    "# remove NaN testcases\n",
    "\n",
    "#print(\"Some stocks are skipped due to NaN\")\n",
    "#print(last_dataset[last_dataset[feature_names].isnull().sum(axis=1) != 0].index.get_level_values(\"stock_id\").values)\n",
    "last_dataset = last_dataset.dropna(subset=feature_names)\n",
    "\n",
    "# predict\n",
    "# calculate score\n",
    "\n",
    "\n",
    "\n",
    "# plot rank distribution\n",
    "rank.hist(bins=20)\n",
    "\n",
    "\n",
    "# show the best 20 stocks\n",
    "rank[condition]"
   ]
  },
  {
   "cell_type": "code",
   "execution_count": null,
   "metadata": {},
   "outputs": [],
   "source": [
    "dataset.index.levels[1]"
   ]
  },
  {
   "cell_type": "markdown",
   "metadata": {},
   "source": [
    "## 結束法人回合"
   ]
  },
  {
   "cell_type": "code",
   "execution_count": null,
   "metadata": {},
   "outputs": [],
   "source": [
    "import numpy as np\n",
    "import math\n",
    "import datetime\n",
    "def triple_barrier(price, ub, lb, max_period):\n",
    "\n",
    "    def end_price(s):\n",
    "        return np.append(s[(s / s[0] > ub) | (s / s[0] < lb)], s[-1])[0]/s[0]\n",
    "    \n",
    "    r = np.array(range(max_period))\n",
    "    \n",
    "    def end_time(s):\n",
    "        return np.append(r[(s / s[0] > ub) | (s / s[0] < lb)], max_period-1)[0]\n",
    "\n",
    "    p = price.rolling(max_period).apply(end_price, raw=True).shift(-max_period+1)\n",
    "    t = price.rolling(max_period).apply(end_time, raw=True).shift(-max_period+1)\n",
    "    t = pd.Series([t.index[int(k+i)] if not math.isnan(k+i) else np.datetime64('NaT') \n",
    "                   for i, k in enumerate(t)], index=t.index).dropna()\n",
    "\n",
    "    signal = pd.Series(0, p.index)\n",
    "    signal.loc[p > ub] = 1\n",
    "    signal.loc[p < lb] = -1\n",
    "    ret = pd.DataFrame({'triple_barrier_profit':p, 'triple_barrier_sell_time':t, 'triple_barrier_signal':signal})\n",
    "\n",
    "    return ret\n",
    "\n",
    "#ret = triple_barrier(close, 1.07, 0.97, 20)"
   ]
  },
  {
   "cell_type": "code",
   "execution_count": null,
   "metadata": {},
   "outputs": [],
   "source": [
    "def br(c):\n",
    "    adj_open=data.get('開盤價')\n",
    "    ret = triple_barrier(adj_open[c],1.2,0.95,21)\n",
    "    return ret"
   ]
  },
  {
   "cell_type": "code",
   "execution_count": null,
   "metadata": {},
   "outputs": [],
   "source": [
    "c = close.unstack()\n",
    "c = pd.DataFrame(c)\n",
    "c.index.set_names([\"stock_id\",\"date\"],inplace=True)\n",
    "ml.add_profit_prediction(c)"
   ]
  },
  {
   "cell_type": "code",
   "execution_count": null,
   "metadata": {},
   "outputs": [],
   "source": [
    "a = c[0]\n",
    "s = a[\"0050\"]\n",
    "ret = triple_barrier(s,1.07,0.97,22)\n",
    "date = \"2019\"\n",
    "ret.triple_barrier_signal[date].plot()"
   ]
  },
  {
   "cell_type": "code",
   "execution_count": null,
   "metadata": {},
   "outputs": [],
   "source": [
    "ret = triple_barrier(s,1.07,0.97,22)\n",
    "ret"
   ]
  },
  {
   "cell_type": "code",
   "execution_count": null,
   "metadata": {},
   "outputs": [],
   "source": [
    "\n",
    "s = '20190102'\n",
    "\n",
    "# you could also import date instead of datetime and use that.\n",
    "def tsf(date,stock):\n",
    "    date = datetime.datetime(year=int(date[0:4]), month=int(date[4:6]), day=int(date[6:8]))\n",
    "    dates = date.strftime(\"%Y-%m-%d\")\n",
    "    ret = br(stock)\n",
    "    w=ret.triple_barrier_profit[dates]\n",
    "    return w\n",
    "tsf('20190425','0050')"
   ]
  },
  {
   "cell_type": "code",
   "execution_count": null,
   "metadata": {},
   "outputs": [],
   "source": [
    "#w = br(\"0050\")\n",
    "#w.triple_barrier_profit[\"2007-04-28\"]\n",
    "import numpy as np\n",
    "def get_profit(date,stock):\n",
    "    try:\n",
    "        date = datetime.datetime(year=int(date[0:4]), month=int(date[4:6]), day=int(date[6:8]))\n",
    "        dates = date.strftime(\"%Y-%m-%d\")\n",
    "        ret = br(stock)\n",
    "        profit = ret.triple_barrier_profit[date]\n",
    "        return profit\n",
    "    except:\n",
    "        try:\n",
    "            date=date + datetime.timedelta(days=2)\n",
    "            dates = date.strftime(\"%Y-%m-%d\")\n",
    "            ret = br(stock)\n",
    "            profit = ret.triple_barrier_profit[date]\n",
    "            return profit\n",
    "        except:\n",
    "            pass\n",
    "        return np.nan"
   ]
  },
  {
   "cell_type": "markdown",
   "metadata": {},
   "source": [
    "### 當月持股狀況"
   ]
  },
  {
   "cell_type": "code",
   "execution_count": 37,
   "metadata": {},
   "outputs": [
    {
     "data": {
      "text/plain": [
       "stock_id  date      \n",
       "1103      2019-10-15    1.775571\n",
       "1225      2019-10-15    1.826005\n",
       "1339      2019-10-15    1.797126\n",
       "1457      2019-10-15    1.780700\n",
       "1615      2019-10-15    1.784724\n",
       "2433      2019-10-15    1.753073\n",
       "2851      2019-10-15    1.803204\n",
       "2885      2019-10-15    1.803216\n",
       "2890      2019-10-15    1.759298\n",
       "2891      2019-10-15    1.796709\n",
       "3095      2019-10-15    1.756012\n",
       "5312      2019-10-15    1.758915\n",
       "5314      2019-10-15    1.790422\n",
       "5403      2019-10-15    1.777227\n",
       "5434      2019-10-15    1.792287\n",
       "5516      2019-10-15    1.847505\n",
       "5609      2019-10-15    1.756857\n",
       "6023      2019-10-15    1.848365\n",
       "6218      2019-10-15    1.814344\n",
       "6270      2019-10-15    1.752820\n",
       "dtype: float64"
      ]
     },
     "execution_count": 37,
     "metadata": {},
     "output_type": "execute_result"
    },
    {
     "data": {
      "image/png": "[encoded data removed]",
      "text/plain": [
       "<Figure size 432x288 with 1 Axes>"
      ]
     },
     "metadata": {
      "needs_background": "light"
     },
     "output_type": "display_data"
    }
   ],
   "source": [
    "# get the latest dataset\n",
    "\n",
    "last_date = dataset.index.levels[1].max()\n",
    "is_last_date = dataset.index.get_level_values('date') == last_date\n",
    "last_dataset = dataset[is_last_date].copy()\n",
    "\n",
    "\n",
    "# remove NaN testcases\n",
    "\n",
    "#print(\"Some stocks are skipped due to NaN\")\n",
    "#print(last_dataset[last_dataset[feature_names].isnull().sum(axis=1) != 0].index.get_level_values(\"stock_id\").values)\n",
    "last_dataset = last_dataset.dropna(subset=feature_names)\n",
    "\n",
    "# predict\n",
    "\n",
    "vals = model.predict(last_dataset[feature_names].astype(float))\n",
    "last_dataset['result1'] = pd.Series(vals.swapaxes(0,1)[0], last_dataset.index)\n",
    "\n",
    "vals = cf.predict(last_dataset[feature_names].astype(float))\n",
    "last_dataset['result2'] = pd.Series(vals, last_dataset.index)\n",
    "\n",
    "vals = cf2.predict(last_dataset[feature_names].astype(float))\n",
    "last_dataset['result3'] = pd.Series(vals, last_dataset.index)\n",
    "\n",
    "# calculate score\n",
    "\n",
    "rank = last_dataset['result1'] + last_dataset['result2'] + last_dataset['result3']\n",
    "condition = (rank >= rank.nlargest(20).iloc[-1]) \n",
    "\n",
    "# plot rank distribution\n",
    "rank.hist(bins=20)\n",
    "\n",
    "\n",
    "# show the best 20 stocks\n",
    "rank[condition]"
   ]
  },
  {
   "cell_type": "code",
   "execution_count": null,
   "metadata": {},
   "outputs": [],
   "source": [
    "rank[l]"
   ]
  },
  {
   "cell_type": "code",
   "execution_count": null,
   "metadata": {},
   "outputs": [],
   "source": [
    "from finlab_old.data import Data\n",
    "data = Data()\n",
    "big = data.get('三大法人買賣超股數',10000000)\n",
    "\n",
    "big = big.fillna(0)\n",
    "bigm = big.rolling(3).sum()\n",
    "condition1 = (big - bigm)>3*1000\n",
    "\n",
    "big.reindex(every_month, method='ffill').unstack()\n",
    "big = pd.DataFrame(big)\n",
    "big = big.dropna(how='any')\n",
    "big = big.reset_index().set_index(\"date\")"
   ]
  },
  {
   "cell_type": "markdown",
   "metadata": {},
   "source": [
    "## 小結論"
   ]
  },
  {
   "cell_type": "code",
   "execution_count": null,
   "metadata": {},
   "outputs": [],
   "source": [
    "con = pd.DataFrame(condition1.unstack()[rd])\n",
    "con1 = con.pivot_table(index=\"stock_id\",columns=\"date\")\n",
    "con0 = con.pivot_table(index=\"date\",columns=\"stock_id\")\n",
    "con1 = con1[0]\n",
    "con2 = con1[\"2012-05-25\"]\n",
    "\n",
    "test = dataset_time.reset_index().set_index(\"stock_id\")\n",
    "test[\"return\"][rd]\n",
    "con3 = con2[con2].index\n",
    "con4 = []\n",
    "for i in con3:\n",
    "    con4.append(i)\n",
    "#con4\n",
    "\n",
    "#test[\"return\"][con4]#.mean()  #成功選出我們所需要的股票"
   ]
  },
  {
   "cell_type": "code",
   "execution_count": null,
   "metadata": {},
   "outputs": [],
   "source": [
    "con01 = con0.reindex(every_month, method='ffill').dropna()\n",
    "con02 = con01.loc[d][0]\n",
    "con03 = con02[con02]\n",
    "\n",
    "con04=[]\n",
    "for i in con03.index:\n",
    "    con04.append(i)\n",
    "if con04!=[]:\n",
    "    lo = test[\"return\"][con04]\n",
    "    print(lo)"
   ]
  },
  {
   "cell_type": "code",
   "execution_count": null,
   "metadata": {},
   "outputs": [],
   "source": [
    "import datetime\n",
    "from finlab.crawler import date_range\n",
    "#condition1.unstack()[rd]\n",
    "d= condition1.unstack()[rd].reset_index().set_index(\"date\")\n",
    "#d = d['2012-05-10']\n",
    "#d.reindex(every_month, method='ffill')\n",
    "#new_m = every_month[87:]\n",
    "#d.reindex(new_m, method='ffill')\n",
    "new_m = date_range(datetime.date(2012,5,10),datetime.date(2019,8,3))\n",
    "d.columns\n"
   ]
  },
  {
   "cell_type": "code",
   "execution_count": null,
   "metadata": {},
   "outputs": [],
   "source": [
    "def leg(n1,n3):\n",
    "    condition1 = big.rolling(n1).sum() >n3*1000\n",
    "    return condition1"
   ]
  },
  {
   "cell_type": "code",
   "execution_count": null,
   "metadata": {},
   "outputs": [],
   "source": [
    "def rs1(n1,n2,n3):\n",
    "    dates = sorted(list(set(dataset_test.index)))\n",
    "    rs = []\n",
    "    for d in dates:\n",
    "        \n",
    "        dataset_time = dataset_test.loc[d]\n",
    "        rank = dataset_time['result1'] + dataset_time['result2'] + dataset_time['result3'] \n",
    "            \n",
    "        condition = (rank >= rank.nlargest(n2).iloc[-1]) \n",
    "        #r = dataset_time['return'][condition].mean()\n",
    "            # 開始蝦七八亂改\n",
    "        rk = dataset_time[condition]['stock_id']\n",
    "        rd = []\n",
    "        for n in rk:\n",
    "            rd.append(n)\n",
    "    \n",
    "    #condition1 = big.rolling(n1).sum() >n3*1000\n",
    "        condition1 = leg(n1,n3)\n",
    "        con = pd.DataFrame(condition1.unstack()[rd])\n",
    "    #con1 = con.pivot_table(index=\"stock_id\",columns=\"date\")\n",
    "        con0 = con.pivot_table(index=\"date\",columns=\"stock_id\")\n",
    "        con01 = con0.reindex(every_month, method='ffill').dropna()\n",
    "        con02 = con01.loc[d][0]\n",
    "        con03 = con02[con02]\n",
    "        con04=[]\n",
    "        for i in con03.index:\n",
    "            con04.append(i)\n",
    "            \n",
    "        test = dataset_time.reset_index().set_index(\"stock_id\")\n",
    "        lo = test[\"return\"][con04].mean()\n",
    "        #lo = lo.dropna()\n",
    "        \n",
    "         #結束蝦七八亂改\n",
    "        rs.append(lo * (1-3/1000-1.425/1000*2*0.6))\n",
    "            \n",
    "    rs = pd.Series(rs, index=dates).cumprod()\n",
    "    return rs,con04"
   ]
  },
  {
   "cell_type": "code",
   "execution_count": null,
   "metadata": {},
   "outputs": [],
   "source": [
    "rs,l = rs1(68,37,11)\n",
    "rs = pd.Series(rs, index=dates)\n",
    "\n",
    "s0050 = close['0050']['2018':]\n",
    "\n",
    "pd.DataFrame({'nn strategy return':rs.reindex(s0050.index, method='ffill'), '0050 return':s0050/s0050[0]}).plot()"
   ]
  },
  {
   "cell_type": "code",
   "execution_count": null,
   "metadata": {},
   "outputs": [],
   "source": [
    "sorted(rank[l])"
   ]
  },
  {
   "cell_type": "code",
   "execution_count": null,
   "metadata": {},
   "outputs": [],
   "source": [
    "rank[l]"
   ]
  },
  {
   "cell_type": "code",
   "execution_count": null,
   "metadata": {},
   "outputs": [],
   "source": []
  }
 ],
 "metadata": {
  "kernelspec": {
   "display_name": "finlab",
   "language": "python",
   "name": "finlab"
  },
  "language_info": {
   "codemirror_mode": {
    "name": "ipython",
    "version": 3
   },
   "file_extension": ".py",
   "mimetype": "text/x-python",
   "name": "python",
   "nbconvert_exporter": "python",
   "pygments_lexer": "ipython3",
   "version": "3.6.8"
  }
 },
 "nbformat": 4,
 "nbformat_minor": 4
}
