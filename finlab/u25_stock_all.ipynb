{
 "cells": [
  {
   "cell_type": "markdown",
   "metadata": {},
   "source": [
    "# Final Project"
   ]
  },
  {
   "cell_type": "markdown",
   "metadata": {},
   "source": [
    "### 獲取歷史資料"
   ]
  },
  {
   "cell_type": "code",
   "execution_count": 2,
   "metadata": {},
   "outputs": [],
   "source": [
    "from finlab.data import Data\n",
    "\n",
    "data = Data()\n",
    "\n",
    "rev = data.get(\"當月營收\")\n",
    "close = data.get(\"收盤價\")\n",
    "\n",
    "rev.index = rev.index.shift(5, \"d\")"
   ]
  },
  {
   "cell_type": "markdown",
   "metadata": {},
   "source": [
    "### 計算features"
   ]
  },
  {
   "cell_type": "code",
   "execution_count": 3,
   "metadata": {},
   "outputs": [],
   "source": [
    "def bias(n):\n",
    "    return close / close.rolling(n, min_periods=1).mean()\n",
    "\n",
    "def acc(n):\n",
    "    return close.shift(n) / (close.shift(2*n) + close) * 2\n",
    "\n",
    "def rsv(n):\n",
    "    l = close.rolling(n, min_periods=1).min()\n",
    "    h = close.rolling(n, min_periods=1).max()\n",
    "    \n",
    "    return (close - l) / (h - l)\n",
    "\n",
    "def mom(n):\n",
    "    return (rev / rev.shift(1)).shift(n)\n",
    "\n",
    "features = {\n",
    "    'mom1': mom(1),\n",
    "    'mom2': mom(2),\n",
    "    'mom3': mom(3),\n",
    "    'mom4': mom(4),\n",
    "    'mom5': mom(5),\n",
    "    'mom6': mom(6),\n",
    "    'mom7': mom(7),\n",
    "    'mom8': mom(8),\n",
    "    'mom9': mom(9),\n",
    "    \n",
    "    'bias5': bias(5),\n",
    "    'bias10': bias(10),\n",
    "    'bias20': bias(20),\n",
    "    'bias60': bias(60),\n",
    "    'bias120': bias(120),\n",
    "    'bias240': bias(240),\n",
    "    \n",
    "    'acc5': acc(5),\n",
    "    'acc10': acc(10),\n",
    "    'acc20': acc(20),\n",
    "    'acc60': acc(60),\n",
    "    'acc120': acc(120),\n",
    "    'acc240': acc(240),\n",
    "    \n",
    "    'rsv5': rsv(5),\n",
    "    'rsv10': rsv(10),\n",
    "    'rsv20': rsv(20),\n",
    "    'rsv60': rsv(60),\n",
    "    'rsv120': rsv(120),\n",
    "    'rsv240': rsv(240),\n",
    "}\n"
   ]
  },
  {
   "cell_type": "markdown",
   "metadata": {},
   "source": [
    "### 製作dataset\n",
    "\n",
    "##### 設定買賣頻率"
   ]
  },
  {
   "cell_type": "code",
   "execution_count": 4,
   "metadata": {},
   "outputs": [
    {
     "data": {
      "text/plain": [
       "DatetimeIndex(['2005-02-15', '2005-03-15', '2005-04-15', '2005-05-15',\n",
       "               '2005-06-15', '2005-07-15', '2005-08-15', '2005-09-15',\n",
       "               '2005-10-15', '2005-11-15',\n",
       "               ...\n",
       "               '2019-09-15', '2019-10-15', '2019-11-15', '2019-12-15',\n",
       "               '2020-02-15', '2020-03-15', '2020-04-15', '2020-05-15',\n",
       "               '2020-06-15', '2020-07-15'],\n",
       "              dtype='datetime64[ns]', name='date', length=185, freq=None)"
      ]
     },
     "execution_count": 4,
     "metadata": {},
     "output_type": "execute_result"
    }
   ],
   "source": [
    "every_month = rev.index\n",
    "every_month"
   ]
  },
  {
   "cell_type": "markdown",
   "metadata": {},
   "source": [
    "##### 將dataframe 組裝起來"
   ]
  },
  {
   "cell_type": "code",
   "execution_count": 5,
   "metadata": {},
   "outputs": [],
   "source": [
    "# features['bias20'].reindex(every_month, method='ffill')\n",
    "\n",
    "for name, f in features.items():\n",
    "    features[name] = f.reindex(every_month, method='ffill')"
   ]
  },
  {
   "cell_type": "code",
   "execution_count": 6,
   "metadata": {},
   "outputs": [],
   "source": [
    "for name, f in features.items():\n",
    "    features[name] = f.unstack()"
   ]
  },
  {
   "cell_type": "code",
   "execution_count": 7,
   "metadata": {},
   "outputs": [],
   "source": [
    "import pandas as pd\n",
    "dataset = pd.DataFrame(features)"
   ]
  },
  {
   "cell_type": "code",
   "execution_count": 8,
   "metadata": {},
   "outputs": [],
   "source": [
    "feature_names = list(dataset.columns)"
   ]
  },
  {
   "cell_type": "markdown",
   "metadata": {},
   "source": [
    "### 新增 label"
   ]
  },
  {
   "cell_type": "code",
   "execution_count": 9,
   "metadata": {},
   "outputs": [],
   "source": [
    "from finlab import ml\n",
    "\n",
    "ml.add_profit_prediction(dataset)\n",
    "ml.add_rank_prediction(dataset)"
   ]
  },
  {
   "cell_type": "markdown",
   "metadata": {},
   "source": [
    "### 刪除太大太小的歷史資料"
   ]
  },
  {
   "cell_type": "code",
   "execution_count": 10,
   "metadata": {},
   "outputs": [
    {
     "name": "stdout",
     "output_type": "stream",
     "text": [
      "(361490, 29)\n",
      "(338115, 29)\n"
     ]
    }
   ],
   "source": [
    "print(dataset.shape)\n",
    "\n",
    "def drop_extreme_case(dataset, feature_names, thresh=0.01):\n",
    "    \n",
    "    extreme_cases = pd.Series(False, index=dataset.index)\n",
    "    for f in feature_names:\n",
    "        tf = dataset[f]\n",
    "        extreme_cases = extreme_cases | (tf < tf.quantile(thresh)) | (tf > tf.quantile(1-thresh))\n",
    "    dataset = dataset[~extreme_cases]\n",
    "    return dataset\n",
    "\n",
    "dataset_drop_extreme_case = drop_extreme_case(dataset, \n",
    "    ['bias60', 'bias120', 'bias240', 'mom1', 'mom2', 'mom3', 'mom4', 'mom5', 'mom6'], thresh=0.01)\n",
    "\n",
    "print(dataset_drop_extreme_case.shape)"
   ]
  },
  {
   "cell_type": "code",
   "execution_count": 11,
   "metadata": {},
   "outputs": [],
   "source": [
    "dataset_dropna = dataset_drop_extreme_case.dropna(how='any')\n",
    "dataset_dropna = dataset_dropna.reset_index().set_index(\"date\")"
   ]
  },
  {
   "cell_type": "code",
   "execution_count": 12,
   "metadata": {},
   "outputs": [
    {
     "data": {
      "text/plain": [
       "DatetimeIndex(['2005-02-15', '2005-03-15', '2005-04-15', '2005-05-15',\n",
       "               '2005-06-15', '2005-07-15', '2005-08-15', '2005-09-15',\n",
       "               '2005-10-15', '2005-11-15',\n",
       "               ...\n",
       "               '2019-09-15', '2019-10-15', '2019-11-15', '2019-12-15',\n",
       "               '2020-02-15', '2020-03-15', '2020-04-15', '2020-05-15',\n",
       "               '2020-06-15', '2020-07-15'],\n",
       "              dtype='datetime64[ns]', name='date', length=338115, freq=None)"
      ]
     },
     "execution_count": 12,
     "metadata": {},
     "output_type": "execute_result"
    }
   ],
   "source": [
    "dataset_drop_extreme_case.index.get_level_values(\"date\")"
   ]
  },
  {
   "cell_type": "code",
   "execution_count": 13,
   "metadata": {},
   "outputs": [],
   "source": [
    "dataset_train = dataset_dropna[:'2015']\n",
    "dataset_test = dataset_dropna['2016':]"
   ]
  },
  {
   "cell_type": "code",
   "execution_count": 17,
   "metadata": {},
   "outputs": [
    {
     "data": {
      "text/plain": [
       "(88230, 27)"
      ]
     },
     "execution_count": 17,
     "metadata": {},
     "output_type": "execute_result"
    }
   ],
   "source": [
    "dataset_train[feature_names].shape"
   ]
  },
  {
   "cell_type": "code",
   "execution_count": 16,
   "metadata": {},
   "outputs": [
    {
     "data": {
      "text/plain": [
       "27"
      ]
     },
     "execution_count": 16,
     "metadata": {},
     "output_type": "execute_result"
    }
   ],
   "source": [
    "len(feature_names)"
   ]
  },
  {
   "cell_type": "markdown",
   "metadata": {},
   "source": [
    "### 神經網路模型"
   ]
  },
  {
   "cell_type": "code",
   "execution_count": 14,
   "metadata": {},
   "outputs": [],
   "source": [
    "import keras.backend as K\n",
    "def mish(x):\n",
    "    return x * K.tanh(K.softplus(x))"
   ]
  },
  {
   "cell_type": "code",
   "execution_count": 31,
   "metadata": {
    "scrolled": true
   },
   "outputs": [
    {
     "name": "stdout",
     "output_type": "stream",
     "text": [
      "_________________________________________________________________\n",
      "Layer (type)                 Output Shape              Param #   \n",
      "=================================================================\n",
      "dense_11 (Dense)             (None, 100)               2800      \n",
      "_________________________________________________________________\n",
      "dense_12 (Dense)             (None, 100)               10100     \n",
      "_________________________________________________________________\n",
      "dropout_4 (Dropout)          (None, 100)               0         \n",
      "_________________________________________________________________\n",
      "dense_13 (Dense)             (None, 1)                 101       \n",
      "=================================================================\n",
      "Total params: 13,001\n",
      "Trainable params: 13,001\n",
      "Non-trainable params: 0\n",
      "_________________________________________________________________\n",
      "start fitting\n",
      "Train on 79407 samples, validate on 8823 samples\n",
      "Epoch 1/225\n",
      "79407/79407 [==============================] - 1s 11us/step - loss: 0.0981 - val_loss: 0.0804\n",
      "Epoch 2/225\n",
      "79407/79407 [==============================] - 1s 8us/step - loss: 0.0800 - val_loss: 0.0803\n",
      "Epoch 3/225\n",
      "79407/79407 [==============================] - 1s 7us/step - loss: 0.0798 - val_loss: 0.0802\n",
      "Epoch 4/225\n",
      "79407/79407 [==============================] - 1s 7us/step - loss: 0.0798 - val_loss: 0.0803\n",
      "Epoch 5/225\n",
      "79407/79407 [==============================] - 1s 7us/step - loss: 0.0795 - val_loss: 0.0802\n",
      "Epoch 6/225\n",
      "79407/79407 [==============================] - 0s 6us/step - loss: 0.0794 - val_loss: 0.0802\n",
      "Epoch 7/225\n",
      "79407/79407 [==============================] - 0s 6us/step - loss: 0.0793 - val_loss: 0.0801\n",
      "Epoch 8/225\n",
      "79407/79407 [==============================] - 0s 6us/step - loss: 0.0793 - val_loss: 0.0800\n",
      "Epoch 9/225\n",
      "79407/79407 [==============================] - 0s 6us/step - loss: 0.0792 - val_loss: 0.0800\n",
      "Epoch 10/225\n",
      "79407/79407 [==============================] - 0s 6us/step - loss: 0.0792 - val_loss: 0.0801\n",
      "Epoch 11/225\n",
      "79407/79407 [==============================] - 0s 5us/step - loss: 0.0792 - val_loss: 0.0801\n",
      "Epoch 12/225\n",
      "79407/79407 [==============================] - 1s 7us/step - loss: 0.0792 - val_loss: 0.0800\n",
      "Epoch 13/225\n",
      "79407/79407 [==============================] - 1s 7us/step - loss: 0.0792 - val_loss: 0.0800\n",
      "Epoch 14/225\n",
      "79407/79407 [==============================] - 0s 6us/step - loss: 0.0792 - val_loss: 0.0800\n",
      "Epoch 15/225\n",
      "79407/79407 [==============================] - 0s 6us/step - loss: 0.0792 - val_loss: 0.0799\n",
      "Epoch 16/225\n",
      "79407/79407 [==============================] - 1s 7us/step - loss: 0.0791 - val_loss: 0.0799\n",
      "Epoch 17/225\n",
      "79407/79407 [==============================] - 0s 6us/step - loss: 0.0791 - val_loss: 0.0799\n",
      "Epoch 18/225\n",
      "79407/79407 [==============================] - 1s 7us/step - loss: 0.0791 - val_loss: 0.0799\n",
      "Epoch 19/225\n",
      "79407/79407 [==============================] - 0s 6us/step - loss: 0.0790 - val_loss: 0.0799\n",
      "Epoch 20/225\n",
      "79407/79407 [==============================] - 0s 6us/step - loss: 0.0790 - val_loss: 0.0798\n",
      "Epoch 21/225\n",
      "79407/79407 [==============================] - 0s 6us/step - loss: 0.0790 - val_loss: 0.0796\n",
      "Epoch 22/225\n",
      "79407/79407 [==============================] - 1s 7us/step - loss: 0.0790 - val_loss: 0.0798\n",
      "Epoch 23/225\n",
      "79407/79407 [==============================] - 1s 7us/step - loss: 0.0789 - val_loss: 0.0796\n",
      "Epoch 24/225\n",
      "79407/79407 [==============================] - 1s 7us/step - loss: 0.0789 - val_loss: 0.0796\n",
      "Epoch 25/225\n",
      "79407/79407 [==============================] - 1s 7us/step - loss: 0.0789 - val_loss: 0.0797\n",
      "Epoch 26/225\n",
      "79407/79407 [==============================] - 1s 6us/step - loss: 0.0789 - val_loss: 0.0799\n",
      "Epoch 27/225\n",
      "79407/79407 [==============================] - 1s 7us/step - loss: 0.0788 - val_loss: 0.0795\n",
      "Epoch 28/225\n",
      "79407/79407 [==============================] - 0s 6us/step - loss: 0.0789 - val_loss: 0.0795\n",
      "Epoch 29/225\n",
      "79407/79407 [==============================] - 1s 7us/step - loss: 0.0788 - val_loss: 0.0795\n",
      "Epoch 30/225\n",
      "79407/79407 [==============================] - 1s 7us/step - loss: 0.0788 - val_loss: 0.0793\n",
      "Epoch 31/225\n",
      "79407/79407 [==============================] - 0s 5us/step - loss: 0.0788 - val_loss: 0.0795\n",
      "Epoch 32/225\n",
      "79407/79407 [==============================] - 0s 6us/step - loss: 0.0788 - val_loss: 0.0794\n",
      "Epoch 33/225\n",
      "79407/79407 [==============================] - 0s 6us/step - loss: 0.0787 - val_loss: 0.0795\n",
      "Epoch 34/225\n",
      "79407/79407 [==============================] - 0s 6us/step - loss: 0.0787 - val_loss: 0.0793\n",
      "Epoch 35/225\n",
      "79407/79407 [==============================] - 0s 5us/step - loss: 0.0786 - val_loss: 0.0794\n",
      "Epoch 36/225\n",
      "79407/79407 [==============================] - 0s 6us/step - loss: 0.0787 - val_loss: 0.0794\n",
      "Epoch 37/225\n",
      "79407/79407 [==============================] - 0s 6us/step - loss: 0.0786 - val_loss: 0.0793\n",
      "Epoch 38/225\n",
      "79407/79407 [==============================] - 0s 6us/step - loss: 0.0786 - val_loss: 0.0793\n",
      "Epoch 39/225\n",
      "79407/79407 [==============================] - 0s 6us/step - loss: 0.0786 - val_loss: 0.0794\n",
      "Epoch 40/225\n",
      "79407/79407 [==============================] - 0s 6us/step - loss: 0.0786 - val_loss: 0.0795\n",
      "Epoch 41/225\n",
      "79407/79407 [==============================] - 0s 6us/step - loss: 0.0786 - val_loss: 0.0791\n",
      "Epoch 42/225\n",
      "79407/79407 [==============================] - 0s 5us/step - loss: 0.0786 - val_loss: 0.0795\n",
      "Epoch 43/225\n",
      "79407/79407 [==============================] - 0s 6us/step - loss: 0.0786 - val_loss: 0.0792\n",
      "Epoch 44/225\n",
      "79407/79407 [==============================] - 0s 6us/step - loss: 0.0785 - val_loss: 0.0791\n",
      "Epoch 45/225\n",
      "79407/79407 [==============================] - 0s 6us/step - loss: 0.0785 - val_loss: 0.0791\n",
      "Epoch 46/225\n",
      "79407/79407 [==============================] - 0s 5us/step - loss: 0.0785 - val_loss: 0.0795\n",
      "Epoch 47/225\n",
      "79407/79407 [==============================] - 0s 6us/step - loss: 0.0784 - val_loss: 0.0792\n",
      "Epoch 48/225\n",
      "79407/79407 [==============================] - 0s 6us/step - loss: 0.0784 - val_loss: 0.0790\n",
      "Epoch 49/225\n",
      "79407/79407 [==============================] - 0s 5us/step - loss: 0.0784 - val_loss: 0.0791\n",
      "Epoch 50/225\n",
      "79407/79407 [==============================] - 0s 6us/step - loss: 0.0784 - val_loss: 0.0792\n",
      "Epoch 51/225\n",
      "79407/79407 [==============================] - 0s 6us/step - loss: 0.0785 - val_loss: 0.0792\n",
      "Epoch 52/225\n",
      "79407/79407 [==============================] - 0s 6us/step - loss: 0.0784 - val_loss: 0.0791\n",
      "Epoch 53/225\n",
      "79407/79407 [==============================] - 0s 6us/step - loss: 0.0784 - val_loss: 0.0794\n",
      "Epoch 54/225\n",
      "79407/79407 [==============================] - 0s 6us/step - loss: 0.0784 - val_loss: 0.0793\n",
      "Epoch 55/225\n",
      "79407/79407 [==============================] - 1s 6us/step - loss: 0.0784 - val_loss: 0.0793\n",
      "Epoch 56/225\n",
      "79407/79407 [==============================] - 0s 6us/step - loss: 0.0785 - val_loss: 0.0791\n",
      "Epoch 57/225\n",
      "79407/79407 [==============================] - 1s 7us/step - loss: 0.0783 - val_loss: 0.0792\n",
      "Epoch 58/225\n",
      "79407/79407 [==============================] - 1s 7us/step - loss: 0.0782 - val_loss: 0.0790\n",
      "Epoch 59/225\n",
      "79407/79407 [==============================] - 1s 7us/step - loss: 0.0784 - val_loss: 0.0793\n",
      "Epoch 60/225\n",
      "79407/79407 [==============================] - 1s 8us/step - loss: 0.0783 - val_loss: 0.0789\n",
      "Epoch 61/225\n",
      "79407/79407 [==============================] - 1s 7us/step - loss: 0.0782 - val_loss: 0.0790\n",
      "Epoch 62/225\n",
      "79407/79407 [==============================] - 1s 8us/step - loss: 0.0783 - val_loss: 0.0795\n",
      "Epoch 63/225\n",
      "79407/79407 [==============================] - 1s 7us/step - loss: 0.0782 - val_loss: 0.0793\n",
      "Epoch 64/225\n",
      "79407/79407 [==============================] - 1s 7us/step - loss: 0.0781 - val_loss: 0.0790\n",
      "Epoch 65/225\n",
      "79407/79407 [==============================] - 1s 7us/step - loss: 0.0782 - val_loss: 0.0791\n",
      "Epoch 66/225\n",
      "79407/79407 [==============================] - 1s 7us/step - loss: 0.0782 - val_loss: 0.0791\n",
      "Epoch 67/225\n",
      "79407/79407 [==============================] - 1s 7us/step - loss: 0.0781 - val_loss: 0.0793\n",
      "Epoch 68/225\n",
      "79407/79407 [==============================] - 0s 6us/step - loss: 0.0780 - val_loss: 0.0789\n",
      "Epoch 69/225\n",
      "79407/79407 [==============================] - 0s 6us/step - loss: 0.0781 - val_loss: 0.0792\n",
      "Epoch 70/225\n",
      "79407/79407 [==============================] - 1s 7us/step - loss: 0.0781 - val_loss: 0.0790\n",
      "Epoch 71/225\n",
      "79407/79407 [==============================] - 1s 7us/step - loss: 0.0781 - val_loss: 0.0794\n",
      "Epoch 72/225\n",
      "79407/79407 [==============================] - 1s 7us/step - loss: 0.0781 - val_loss: 0.0789\n",
      "Epoch 73/225\n",
      "79407/79407 [==============================] - 1s 7us/step - loss: 0.0781 - val_loss: 0.0790\n",
      "Epoch 74/225\n",
      "79407/79407 [==============================] - 1s 9us/step - loss: 0.0780 - val_loss: 0.0791\n",
      "Epoch 75/225\n",
      "79407/79407 [==============================] - 1s 7us/step - loss: 0.0781 - val_loss: 0.0790\n",
      "Epoch 76/225\n",
      "79407/79407 [==============================] - 1s 8us/step - loss: 0.0780 - val_loss: 0.0790\n",
      "Epoch 77/225\n",
      "79407/79407 [==============================] - 1s 9us/step - loss: 0.0780 - val_loss: 0.0789\n",
      "Epoch 78/225\n",
      "79407/79407 [==============================] - 0s 6us/step - loss: 0.0780 - val_loss: 0.0790\n",
      "Epoch 79/225\n",
      "79407/79407 [==============================] - 1s 8us/step - loss: 0.0779 - val_loss: 0.0788\n",
      "Epoch 80/225\n",
      "79407/79407 [==============================] - 1s 8us/step - loss: 0.0779 - val_loss: 0.0789\n",
      "Epoch 81/225\n",
      "79407/79407 [==============================] - 1s 8us/step - loss: 0.0780 - val_loss: 0.0790\n",
      "Epoch 82/225\n",
      "79407/79407 [==============================] - 1s 9us/step - loss: 0.0780 - val_loss: 0.0790\n",
      "Epoch 83/225\n",
      "79407/79407 [==============================] - 0s 6us/step - loss: 0.0779 - val_loss: 0.0790\n",
      "Epoch 84/225\n",
      "79407/79407 [==============================] - 0s 6us/step - loss: 0.0778 - val_loss: 0.0793\n",
      "Epoch 85/225\n",
      "79407/79407 [==============================] - 0s 6us/step - loss: 0.0779 - val_loss: 0.0790\n",
      "Epoch 86/225\n",
      "79407/79407 [==============================] - 1s 7us/step - loss: 0.0778 - val_loss: 0.0789\n",
      "Epoch 87/225\n",
      "79407/79407 [==============================] - 0s 6us/step - loss: 0.0779 - val_loss: 0.0791\n",
      "Epoch 88/225\n",
      "79407/79407 [==============================] - 1s 7us/step - loss: 0.0778 - val_loss: 0.0789\n",
      "Epoch 89/225\n",
      "79407/79407 [==============================] - 1s 7us/step - loss: 0.0778 - val_loss: 0.0789\n",
      "Epoch 90/225\n",
      "79407/79407 [==============================] - 1s 7us/step - loss: 0.0779 - val_loss: 0.0791\n",
      "Epoch 91/225\n",
      "79407/79407 [==============================] - 0s 6us/step - loss: 0.0778 - val_loss: 0.0790\n",
      "Epoch 92/225\n",
      "79407/79407 [==============================] - 1s 7us/step - loss: 0.0778 - val_loss: 0.0788\n",
      "Epoch 93/225\n",
      "79407/79407 [==============================] - 0s 6us/step - loss: 0.0778 - val_loss: 0.0789\n",
      "Epoch 94/225\n",
      "79407/79407 [==============================] - 0s 6us/step - loss: 0.0778 - val_loss: 0.0789\n",
      "Epoch 95/225\n",
      "79407/79407 [==============================] - 0s 6us/step - loss: 0.0777 - val_loss: 0.0789\n",
      "Epoch 96/225\n",
      "79407/79407 [==============================] - 0s 6us/step - loss: 0.0777 - val_loss: 0.0788\n",
      "Epoch 97/225\n",
      "79407/79407 [==============================] - 1s 6us/step - loss: 0.0777 - val_loss: 0.0788\n",
      "Epoch 98/225\n",
      "79407/79407 [==============================] - 0s 6us/step - loss: 0.0776 - val_loss: 0.0788\n",
      "Epoch 99/225\n",
      "79407/79407 [==============================] - 0s 6us/step - loss: 0.0776 - val_loss: 0.0788\n",
      "Epoch 100/225\n",
      "79407/79407 [==============================] - 0s 6us/step - loss: 0.0777 - val_loss: 0.0790\n",
      "Epoch 101/225\n",
      "79407/79407 [==============================] - 0s 6us/step - loss: 0.0776 - val_loss: 0.0787\n",
      "Epoch 102/225\n",
      "79407/79407 [==============================] - 0s 6us/step - loss: 0.0776 - val_loss: 0.0788\n",
      "Epoch 103/225\n",
      "79407/79407 [==============================] - 0s 6us/step - loss: 0.0776 - val_loss: 0.0787\n",
      "Epoch 104/225\n",
      "79407/79407 [==============================] - 0s 6us/step - loss: 0.0774 - val_loss: 0.0788\n",
      "Epoch 105/225\n",
      "79407/79407 [==============================] - 0s 6us/step - loss: 0.0776 - val_loss: 0.0790\n",
      "Epoch 106/225\n",
      "79407/79407 [==============================] - 0s 6us/step - loss: 0.0776 - val_loss: 0.0787\n",
      "Epoch 107/225\n",
      "79407/79407 [==============================] - 0s 6us/step - loss: 0.0775 - val_loss: 0.0788\n",
      "Epoch 108/225\n",
      "79407/79407 [==============================] - 0s 6us/step - loss: 0.0774 - val_loss: 0.0790\n",
      "Epoch 109/225\n",
      "79407/79407 [==============================] - 0s 5us/step - loss: 0.0774 - val_loss: 0.0789\n",
      "Epoch 110/225\n",
      "79407/79407 [==============================] - 0s 6us/step - loss: 0.0775 - val_loss: 0.0787\n",
      "Epoch 111/225\n",
      "79407/79407 [==============================] - 0s 6us/step - loss: 0.0775 - val_loss: 0.0788\n",
      "Epoch 112/225\n",
      "79407/79407 [==============================] - 0s 6us/step - loss: 0.0774 - val_loss: 0.0791\n",
      "Epoch 113/225\n",
      "79407/79407 [==============================] - 0s 6us/step - loss: 0.0774 - val_loss: 0.0790\n",
      "Epoch 114/225\n",
      "79407/79407 [==============================] - 1s 6us/step - loss: 0.0774 - val_loss: 0.0787\n",
      "Epoch 115/225\n",
      "79407/79407 [==============================] - 1s 7us/step - loss: 0.0774 - val_loss: 0.0791\n",
      "Epoch 116/225\n",
      "79407/79407 [==============================] - 1s 7us/step - loss: 0.0774 - val_loss: 0.0787\n",
      "Epoch 117/225\n",
      "79407/79407 [==============================] - 0s 6us/step - loss: 0.0774 - val_loss: 0.0787\n",
      "Epoch 118/225\n",
      "79407/79407 [==============================] - 1s 7us/step - loss: 0.0774 - val_loss: 0.0788\n",
      "Epoch 119/225\n",
      "79407/79407 [==============================] - 1s 7us/step - loss: 0.0774 - val_loss: 0.0787\n",
      "Epoch 120/225\n",
      "79407/79407 [==============================] - 1s 7us/step - loss: 0.0774 - val_loss: 0.0789\n",
      "Epoch 121/225\n",
      "79407/79407 [==============================] - 1s 7us/step - loss: 0.0773 - val_loss: 0.0786\n",
      "Epoch 122/225\n",
      "79407/79407 [==============================] - 1s 7us/step - loss: 0.0773 - val_loss: 0.0787\n",
      "Epoch 123/225\n",
      "79407/79407 [==============================] - 1s 7us/step - loss: 0.0772 - val_loss: 0.0787\n",
      "Epoch 124/225\n",
      "79407/79407 [==============================] - 1s 7us/step - loss: 0.0772 - val_loss: 0.0788\n",
      "Epoch 125/225\n",
      "79407/79407 [==============================] - 1s 7us/step - loss: 0.0774 - val_loss: 0.0788\n",
      "Epoch 126/225\n",
      "79407/79407 [==============================] - 0s 6us/step - loss: 0.0772 - val_loss: 0.0790\n",
      "Epoch 127/225\n",
      "79407/79407 [==============================] - 1s 8us/step - loss: 0.0772 - val_loss: 0.0788\n",
      "Epoch 128/225\n",
      "79407/79407 [==============================] - 0s 6us/step - loss: 0.0772 - val_loss: 0.0790\n",
      "Epoch 129/225\n",
      "79407/79407 [==============================] - 0s 6us/step - loss: 0.0773 - val_loss: 0.0786\n",
      "Epoch 130/225\n",
      "79407/79407 [==============================] - 0s 6us/step - loss: 0.0772 - val_loss: 0.0788\n",
      "Epoch 131/225\n",
      "79407/79407 [==============================] - 0s 6us/step - loss: 0.0772 - val_loss: 0.0788\n",
      "Epoch 132/225\n",
      "79407/79407 [==============================] - 0s 6us/step - loss: 0.0772 - val_loss: 0.0789\n",
      "Epoch 133/225\n",
      "79407/79407 [==============================] - 0s 6us/step - loss: 0.0772 - val_loss: 0.0789\n",
      "Epoch 134/225\n",
      "79407/79407 [==============================] - 0s 6us/step - loss: 0.0771 - val_loss: 0.0791\n",
      "Epoch 135/225\n",
      "79407/79407 [==============================] - 0s 6us/step - loss: 0.0772 - val_loss: 0.0787\n",
      "Epoch 136/225\n",
      "79407/79407 [==============================] - 0s 6us/step - loss: 0.0770 - val_loss: 0.0791\n",
      "Epoch 137/225\n",
      "79407/79407 [==============================] - 0s 6us/step - loss: 0.0771 - val_loss: 0.0788\n",
      "Epoch 138/225\n",
      "79407/79407 [==============================] - 0s 6us/step - loss: 0.0771 - val_loss: 0.0787\n",
      "Epoch 139/225\n",
      "79407/79407 [==============================] - 0s 6us/step - loss: 0.0770 - val_loss: 0.0786\n",
      "Epoch 140/225\n",
      "79407/79407 [==============================] - 1s 7us/step - loss: 0.0771 - val_loss: 0.0788\n",
      "Epoch 141/225\n",
      "79407/79407 [==============================] - 1s 8us/step - loss: 0.0770 - val_loss: 0.0787\n",
      "Epoch 142/225\n",
      "79407/79407 [==============================] - 1s 8us/step - loss: 0.0770 - val_loss: 0.0789\n",
      "Epoch 143/225\n",
      "79407/79407 [==============================] - 1s 7us/step - loss: 0.0771 - val_loss: 0.0788\n",
      "Epoch 144/225\n",
      "79407/79407 [==============================] - 1s 8us/step - loss: 0.0770 - val_loss: 0.0790\n",
      "Epoch 145/225\n",
      "79407/79407 [==============================] - 1s 8us/step - loss: 0.0770 - val_loss: 0.0786\n",
      "Epoch 146/225\n",
      "79407/79407 [==============================] - 1s 8us/step - loss: 0.0771 - val_loss: 0.0787\n",
      "Epoch 147/225\n",
      "79407/79407 [==============================] - 1s 8us/step - loss: 0.0770 - val_loss: 0.0787\n",
      "Epoch 148/225\n",
      "79407/79407 [==============================] - 0s 6us/step - loss: 0.0770 - val_loss: 0.0789\n",
      "Epoch 149/225\n",
      "79407/79407 [==============================] - 0s 6us/step - loss: 0.0770 - val_loss: 0.0789\n",
      "Epoch 150/225\n",
      "79407/79407 [==============================] - 0s 6us/step - loss: 0.0770 - val_loss: 0.0787\n",
      "Epoch 151/225\n",
      "79407/79407 [==============================] - 0s 6us/step - loss: 0.0770 - val_loss: 0.0787\n",
      "Epoch 152/225\n",
      "79407/79407 [==============================] - 0s 6us/step - loss: 0.0770 - val_loss: 0.0788\n",
      "Epoch 153/225\n",
      "79407/79407 [==============================] - 0s 6us/step - loss: 0.0769 - val_loss: 0.0789\n",
      "Epoch 154/225\n",
      "79407/79407 [==============================] - 0s 6us/step - loss: 0.0769 - val_loss: 0.0787\n",
      "Epoch 155/225\n",
      "79407/79407 [==============================] - 0s 6us/step - loss: 0.0769 - val_loss: 0.0788\n",
      "Epoch 156/225\n",
      "79407/79407 [==============================] - 0s 6us/step - loss: 0.0768 - val_loss: 0.0792\n",
      "Epoch 157/225\n",
      "79407/79407 [==============================] - 0s 5us/step - loss: 0.0769 - val_loss: 0.0788\n",
      "Epoch 158/225\n",
      "79407/79407 [==============================] - 0s 6us/step - loss: 0.0768 - val_loss: 0.0789\n",
      "Epoch 159/225\n",
      "79407/79407 [==============================] - 0s 6us/step - loss: 0.0768 - val_loss: 0.0790\n",
      "Epoch 160/225\n",
      "79407/79407 [==============================] - 0s 6us/step - loss: 0.0768 - val_loss: 0.0787\n",
      "Epoch 161/225\n",
      "79407/79407 [==============================] - 0s 6us/step - loss: 0.0768 - val_loss: 0.0787\n",
      "Epoch 162/225\n",
      "79407/79407 [==============================] - 0s 6us/step - loss: 0.0767 - val_loss: 0.0788\n",
      "Epoch 163/225\n",
      "79407/79407 [==============================] - 0s 6us/step - loss: 0.0768 - val_loss: 0.0789\n",
      "Epoch 164/225\n",
      "79407/79407 [==============================] - 0s 6us/step - loss: 0.0767 - val_loss: 0.0789\n",
      "Epoch 165/225\n",
      "79407/79407 [==============================] - 0s 6us/step - loss: 0.0768 - val_loss: 0.0789\n",
      "Epoch 166/225\n",
      "79407/79407 [==============================] - 0s 6us/step - loss: 0.0768 - val_loss: 0.0788\n",
      "Epoch 167/225\n",
      "79407/79407 [==============================] - 0s 6us/step - loss: 0.0768 - val_loss: 0.0790\n",
      "Epoch 168/225\n",
      "79407/79407 [==============================] - 1s 7us/step - loss: 0.0766 - val_loss: 0.0790\n",
      "Epoch 169/225\n",
      "79407/79407 [==============================] - 1s 7us/step - loss: 0.0768 - val_loss: 0.0788\n",
      "Epoch 170/225\n",
      "79407/79407 [==============================] - 1s 7us/step - loss: 0.0767 - val_loss: 0.0789\n",
      "Epoch 171/225\n",
      "79407/79407 [==============================] - 1s 7us/step - loss: 0.0767 - val_loss: 0.0791\n",
      "Epoch 172/225\n",
      "79407/79407 [==============================] - 1s 7us/step - loss: 0.0766 - val_loss: 0.0790\n",
      "Epoch 173/225\n",
      "79407/79407 [==============================] - 1s 7us/step - loss: 0.0767 - val_loss: 0.0787\n",
      "Epoch 174/225\n",
      "79407/79407 [==============================] - 1s 7us/step - loss: 0.0767 - val_loss: 0.0788\n",
      "Epoch 175/225\n",
      "79407/79407 [==============================] - 1s 7us/step - loss: 0.0767 - val_loss: 0.0787\n",
      "Epoch 176/225\n",
      "79407/79407 [==============================] - 1s 7us/step - loss: 0.0765 - val_loss: 0.0789\n",
      "Epoch 177/225\n",
      "79407/79407 [==============================] - 0s 6us/step - loss: 0.0766 - val_loss: 0.0789\n",
      "Epoch 178/225\n",
      "79407/79407 [==============================] - 1s 8us/step - loss: 0.0766 - val_loss: 0.0787\n",
      "Epoch 179/225\n",
      "79407/79407 [==============================] - 1s 6us/step - loss: 0.0766 - val_loss: 0.0788\n",
      "Epoch 180/225\n",
      "79407/79407 [==============================] - 1s 7us/step - loss: 0.0767 - val_loss: 0.0787\n",
      "Epoch 181/225\n",
      "79407/79407 [==============================] - 0s 6us/step - loss: 0.0765 - val_loss: 0.0789\n",
      "Epoch 182/225\n",
      "79407/79407 [==============================] - 0s 6us/step - loss: 0.0767 - val_loss: 0.0793\n",
      "Epoch 183/225\n",
      "79407/79407 [==============================] - 1s 7us/step - loss: 0.0766 - val_loss: 0.0788\n",
      "Epoch 184/225\n",
      "79407/79407 [==============================] - 0s 6us/step - loss: 0.0766 - val_loss: 0.0788\n",
      "Epoch 185/225\n",
      "79407/79407 [==============================] - 1s 7us/step - loss: 0.0765 - val_loss: 0.0790\n",
      "Epoch 186/225\n",
      "79407/79407 [==============================] - 1s 8us/step - loss: 0.0764 - val_loss: 0.0790\n",
      "Epoch 187/225\n",
      "79407/79407 [==============================] - 1s 7us/step - loss: 0.0764 - val_loss: 0.0791\n",
      "Epoch 188/225\n",
      "79407/79407 [==============================] - 1s 7us/step - loss: 0.0764 - val_loss: 0.0790\n",
      "Epoch 189/225\n",
      "79407/79407 [==============================] - 1s 7us/step - loss: 0.0765 - val_loss: 0.0788\n",
      "Epoch 190/225\n",
      "79407/79407 [==============================] - 1s 7us/step - loss: 0.0765 - val_loss: 0.0789\n",
      "Epoch 191/225\n",
      "79407/79407 [==============================] - 1s 6us/step - loss: 0.0763 - val_loss: 0.0789\n",
      "Epoch 192/225\n",
      "79407/79407 [==============================] - 0s 6us/step - loss: 0.0765 - val_loss: 0.0794\n",
      "Epoch 193/225\n",
      "79407/79407 [==============================] - 1s 6us/step - loss: 0.0764 - val_loss: 0.0790\n",
      "Epoch 194/225\n",
      "79407/79407 [==============================] - 1s 7us/step - loss: 0.0764 - val_loss: 0.0790\n",
      "Epoch 195/225\n",
      "79407/79407 [==============================] - 1s 7us/step - loss: 0.0762 - val_loss: 0.0789\n",
      "Epoch 196/225\n",
      "79407/79407 [==============================] - 1s 7us/step - loss: 0.0764 - val_loss: 0.0790\n",
      "Epoch 197/225\n",
      "79407/79407 [==============================] - 1s 7us/step - loss: 0.0763 - val_loss: 0.0789\n",
      "Epoch 198/225\n",
      "79407/79407 [==============================] - 1s 7us/step - loss: 0.0764 - val_loss: 0.0790\n",
      "Epoch 199/225\n",
      "79407/79407 [==============================] - 0s 6us/step - loss: 0.0764 - val_loss: 0.0787\n",
      "Epoch 200/225\n",
      "79407/79407 [==============================] - 0s 6us/step - loss: 0.0763 - val_loss: 0.0791\n",
      "Epoch 201/225\n",
      "79407/79407 [==============================] - 0s 6us/step - loss: 0.0763 - val_loss: 0.0791\n",
      "Epoch 202/225\n",
      "79407/79407 [==============================] - 0s 6us/step - loss: 0.0763 - val_loss: 0.0789\n",
      "Epoch 203/225\n",
      "79407/79407 [==============================] - 1s 7us/step - loss: 0.0762 - val_loss: 0.0790\n",
      "Epoch 204/225\n",
      "79407/79407 [==============================] - 1s 9us/step - loss: 0.0762 - val_loss: 0.0789\n",
      "Epoch 205/225\n",
      "79407/79407 [==============================] - 1s 7us/step - loss: 0.0764 - val_loss: 0.0790\n",
      "Epoch 206/225\n",
      "79407/79407 [==============================] - 1s 7us/step - loss: 0.0763 - val_loss: 0.0791\n",
      "Epoch 207/225\n",
      "79407/79407 [==============================] - 0s 6us/step - loss: 0.0762 - val_loss: 0.0788\n",
      "Epoch 208/225\n",
      "79407/79407 [==============================] - 1s 7us/step - loss: 0.0763 - val_loss: 0.0791\n",
      "Epoch 209/225\n",
      "79407/79407 [==============================] - 1s 7us/step - loss: 0.0762 - val_loss: 0.0788\n",
      "Epoch 210/225\n",
      "79407/79407 [==============================] - 1s 7us/step - loss: 0.0762 - val_loss: 0.0791\n",
      "Epoch 211/225\n",
      "79407/79407 [==============================] - 0s 6us/step - loss: 0.0762 - val_loss: 0.0789\n",
      "Epoch 212/225\n",
      "79407/79407 [==============================] - 1s 8us/step - loss: 0.0761 - val_loss: 0.0788\n",
      "Epoch 213/225\n",
      "79407/79407 [==============================] - 1s 7us/step - loss: 0.0763 - val_loss: 0.0787\n",
      "Epoch 214/225\n",
      "79407/79407 [==============================] - 0s 6us/step - loss: 0.0762 - val_loss: 0.0787\n",
      "Epoch 215/225\n",
      "79407/79407 [==============================] - 1s 7us/step - loss: 0.0762 - val_loss: 0.0787\n",
      "Epoch 216/225\n",
      "79407/79407 [==============================] - 0s 6us/step - loss: 0.0761 - val_loss: 0.0788\n",
      "Epoch 217/225\n",
      "79407/79407 [==============================] - 0s 6us/step - loss: 0.0762 - val_loss: 0.0790\n",
      "Epoch 218/225\n",
      "79407/79407 [==============================] - 1s 7us/step - loss: 0.0761 - val_loss: 0.0789\n",
      "Epoch 219/225\n",
      "79407/79407 [==============================] - 0s 6us/step - loss: 0.0762 - val_loss: 0.0789\n",
      "Epoch 220/225\n",
      "79407/79407 [==============================] - 0s 6us/step - loss: 0.0761 - val_loss: 0.0791\n",
      "Epoch 221/225\n",
      "79407/79407 [==============================] - 0s 6us/step - loss: 0.0761 - val_loss: 0.0789\n",
      "Epoch 222/225\n",
      "79407/79407 [==============================] - 0s 6us/step - loss: 0.0762 - val_loss: 0.0790\n",
      "Epoch 223/225\n",
      "79407/79407 [==============================] - 0s 5us/step - loss: 0.0760 - val_loss: 0.0791\n",
      "Epoch 224/225\n",
      "79407/79407 [==============================] - 0s 6us/step - loss: 0.0760 - val_loss: 0.0788\n",
      "Epoch 225/225\n",
      "79407/79407 [==============================] - 0s 6us/step - loss: 0.0762 - val_loss: 0.0790\n"
     ]
    }
   ],
   "source": [
    "import keras\n",
    "from keras.initializers import he_normal\n",
    "import os\n",
    "\n",
    "os.environ['KMP_DUPLICATE_LIB_OK']='True'\n",
    "\n",
    "model = keras.models.Sequential()\n",
    "model.add(keras.layers.Dense(100, activation='relu',\n",
    "                      input_shape=(len(feature_names),),\n",
    "                      kernel_initializer=he_normal(seed=0)))\n",
    "model.add(keras.layers.Dense(100, activation='relu',\n",
    "                      kernel_initializer=he_normal(seed=0)))\n",
    "model.add(keras.layers.Dropout(0.7))\n",
    "model.add(keras.layers.Dense(1, activation='sigmoid'))\n",
    "\n",
    "\n",
    "model.summary()\n",
    "\n",
    "model.compile(loss='mean_squared_error',\n",
    "              optimizer=\"adam\",)\n",
    "\n",
    "print('start fitting')\n",
    "history = model.fit(dataset_train[feature_names], dataset_train['rank'],\n",
    "                    batch_size=1000,\n",
    "                    epochs=225,\n",
    "                    verbose=1,\n",
    "                    validation_split=0.1, )"
   ]
  },
  {
   "cell_type": "markdown",
   "metadata": {},
   "source": [
    "### 結果"
   ]
  },
  {
   "cell_type": "code",
   "execution_count": 23,
   "metadata": {},
   "outputs": [
    {
     "data": {
      "text/plain": [
       "[<matplotlib.lines.Line2D at 0x1560fbe1518>]"
      ]
     },
     "execution_count": 23,
     "metadata": {},
     "output_type": "execute_result"
    },
    {
     "data": {
      "image/png": "[encoded data removed]",
      "text/plain": [
       "<Figure size 432x288 with 1 Axes>"
      ]
     },
     "metadata": {
      "needs_background": "light"
     },
     "output_type": "display_data"
    }
   ],
   "source": [
    "import matplotlib.pyplot as plt\n",
    "%matplotlib inline\n",
    "plt.plot(history.history['val_loss'][1:])\n",
    "plt.plot(history.history['loss'][1:])"
   ]
  },
  {
   "cell_type": "markdown",
   "metadata": {},
   "source": [
    "### lightgbm Model"
   ]
  },
  {
   "cell_type": "code",
   "execution_count": 24,
   "metadata": {},
   "outputs": [
    {
     "data": {
      "text/plain": [
       "LGBMRegressor(boosting_type='gbdt', class_weight=None, colsample_bytree=1.0,\n",
       "              importance_type='split', learning_rate=0.1, max_depth=-1,\n",
       "              min_child_samples=20, min_child_weight=0.001, min_split_gain=0.0,\n",
       "              n_estimators=500, n_jobs=-1, num_leaves=31, objective=None,\n",
       "              random_state=None, reg_alpha=0.0, reg_lambda=0.0, silent=True,\n",
       "              subsample=1.0, subsample_for_bin=200000, subsample_freq=0)"
      ]
     },
     "execution_count": 24,
     "metadata": {},
     "output_type": "execute_result"
    }
   ],
   "source": [
    "import lightgbm as lgb\n",
    "cf = lgb.LGBMRegressor(n_estimators=500)\n",
    "cf.fit(dataset_train[feature_names].astype(float), dataset_train['rank'])"
   ]
  },
  {
   "cell_type": "markdown",
   "metadata": {},
   "source": [
    "### Random Forest Model"
   ]
  },
  {
   "cell_type": "code",
   "execution_count": 25,
   "metadata": {},
   "outputs": [
    {
     "data": {
      "text/plain": [
       "RandomForestRegressor(bootstrap=True, criterion='mse', max_depth=None,\n",
       "                      max_features='auto', max_leaf_nodes=None,\n",
       "                      min_impurity_decrease=0.0, min_impurity_split=None,\n",
       "                      min_samples_leaf=1, min_samples_split=2,\n",
       "                      min_weight_fraction_leaf=0.0, n_estimators=100,\n",
       "                      n_jobs=None, oob_score=False, random_state=None,\n",
       "                      verbose=0, warm_start=False)"
      ]
     },
     "execution_count": 25,
     "metadata": {},
     "output_type": "execute_result"
    }
   ],
   "source": [
    "from sklearn.ensemble import RandomForestRegressor\n",
    "\n",
    "cf2 = RandomForestRegressor(n_estimators=100)\n",
    "cf2.fit(dataset_train[feature_names].astype(float), dataset_train['rank'])"
   ]
  },
  {
   "cell_type": "code",
   "execution_count": 26,
   "metadata": {},
   "outputs": [
    {
     "data": {
      "text/plain": [
       "<matplotlib.axes._subplots.AxesSubplot at 0x15637302d30>"
      ]
     },
     "execution_count": 26,
     "metadata": {},
     "output_type": "execute_result"
    },
    {
     "data": {
      "image/png": "[encoded data removed]",
      "text/plain": [
       "<Figure size 432x288 with 1 Axes>"
      ]
     },
     "metadata": {
      "needs_background": "light"
     },
     "output_type": "display_data"
    }
   ],
   "source": [
    "feature_imp = pd.DataFrame(zip(cf.feature_importances_, feature_names), \n",
    "                           columns=['Value','Feature']).sort_values('Value', ascending=False)\n",
    "feature_imp\n",
    "\n",
    "%matplotlib inline\n",
    "import seaborn as sns\n",
    "sns.barplot(x=\"Value\", y=\"Feature\", data=feature_imp)"
   ]
  },
  {
   "cell_type": "markdown",
   "metadata": {},
   "source": [
    "### Ensemble learning"
   ]
  },
  {
   "cell_type": "code",
   "execution_count": 32,
   "metadata": {},
   "outputs": [
    {
     "name": "stderr",
     "output_type": "stream",
     "text": [
      "C:\\Users\\Dandy\\Anaconda3\\envs\\finlab\\lib\\site-packages\\ipykernel_launcher.py:4: SettingWithCopyWarning: \n",
      "A value is trying to be set on a copy of a slice from a DataFrame.\n",
      "Try using .loc[row_indexer,col_indexer] = value instead\n",
      "\n",
      "See the caveats in the documentation: http://pandas.pydata.org/pandas-docs/stable/indexing.html#indexing-view-versus-copy\n",
      "  after removing the cwd from sys.path.\n",
      "C:\\Users\\Dandy\\Anaconda3\\envs\\finlab\\lib\\site-packages\\ipykernel_launcher.py:7: SettingWithCopyWarning: \n",
      "A value is trying to be set on a copy of a slice from a DataFrame.\n",
      "Try using .loc[row_indexer,col_indexer] = value instead\n",
      "\n",
      "See the caveats in the documentation: http://pandas.pydata.org/pandas-docs/stable/indexing.html#indexing-view-versus-copy\n",
      "  import sys\n",
      "C:\\Users\\Dandy\\Anaconda3\\envs\\finlab\\lib\\site-packages\\ipykernel_launcher.py:10: SettingWithCopyWarning: \n",
      "A value is trying to be set on a copy of a slice from a DataFrame.\n",
      "Try using .loc[row_indexer,col_indexer] = value instead\n",
      "\n",
      "See the caveats in the documentation: http://pandas.pydata.org/pandas-docs/stable/indexing.html#indexing-view-versus-copy\n",
      "  # Remove the CWD from sys.path while we load stuff.\n"
     ]
    }
   ],
   "source": [
    "dataset_drop = dataset.dropna(subset=feature_names+['return'])\n",
    "\n",
    "vals = model.predict(dataset_drop[feature_names].astype(float))\n",
    "dataset_drop['result1'] = pd.Series(vals.swapaxes(0,1)[0], dataset_drop.index)\n",
    "\n",
    "vals = cf.predict(dataset_drop[feature_names].astype(float))\n",
    "dataset_drop['result2'] = pd.Series(vals, dataset_drop.index)\n",
    "\n",
    "vals = cf2.predict(dataset_drop[feature_names].astype(float))\n",
    "dataset_drop['result3'] = pd.Series(vals, dataset_drop.index)\n",
    "\n",
    "dataset_drop = dataset_drop.reset_index().set_index(\"date\")"
   ]
  },
  {
   "cell_type": "markdown",
   "metadata": {},
   "source": [
    "# backtest"
   ]
  },
  {
   "cell_type": "code",
   "execution_count": 35,
   "metadata": {},
   "outputs": [
    {
     "data": {
      "text/plain": [
       "<matplotlib.axes._subplots.AxesSubplot at 0x15682fd4470>"
      ]
     },
     "execution_count": 35,
     "metadata": {},
     "output_type": "execute_result"
    },
    {
     "data": {
      "image/png": "[encoded data removed]",
      "text/plain": [
       "<Figure size 432x288 with 1 Axes>"
      ]
     },
     "metadata": {
      "needs_background": "light"
     },
     "output_type": "display_data"
    }
   ],
   "source": [
    "import math\n",
    "\n",
    "\n",
    "dates = sorted(list(set(dataset_drop.index)))\n",
    "\n",
    "rs = []\n",
    "for d in dates:\n",
    "    \n",
    "    dataset_time = dataset_drop.loc[d]\n",
    "    \n",
    "    dataset_time = drop_extreme_case(dataset_time, \n",
    "        ['bias60', 'bias120', 'bias240', 'mom1', 'mom2', 'mom3', 'mom4', 'mom5', 'mom6'], thresh=0.01)\n",
    "    \n",
    "    rank = dataset_time['result1'] + dataset_time['result2'] + dataset_time['result3'] \n",
    "    \n",
    "    condition = (rank >= rank.nlargest(20).iloc[-1]) \n",
    "    r = dataset_time['return'][condition].mean()\n",
    "\n",
    "    rs.append(r * (1-3/1000-1.425/1000*2*0.6))\n",
    "\n",
    "rs = pd.Series(rs, index=dates)['2016':].cumprod()\n",
    "\n",
    "s0050 = close['0050']['2016':]\n",
    "\n",
    "pd.DataFrame({'my strategy return':rs.reindex(s0050.index, method='ffill'), '0050 return':s0050/s0050[0]}).plot()\n",
    "\n"
   ]
  },
  {
   "cell_type": "markdown",
   "metadata": {},
   "source": [
    "### 當月持股狀況"
   ]
  },
  {
   "cell_type": "code",
   "execution_count": 34,
   "metadata": {},
   "outputs": [
    {
     "data": {
      "text/plain": [
       "3.288131267002862"
      ]
     },
     "execution_count": 34,
     "metadata": {},
     "output_type": "execute_result"
    }
   ],
   "source": [
    "rs[-1]"
   ]
  },
  {
   "cell_type": "code",
   "execution_count": 30,
   "metadata": {},
   "outputs": [
    {
     "data": {
      "text/plain": [
       "3.1662243081114276"
      ]
     },
     "execution_count": 30,
     "metadata": {},
     "output_type": "execute_result"
    }
   ],
   "source": [
    "rs[-1]"
   ]
  },
  {
   "cell_type": "code",
   "execution_count": 73,
   "metadata": {},
   "outputs": [
    {
     "data": {
      "image/png": "[encoded data removed]",
      "text/plain": [
       "<Figure size 432x288 with 1 Axes>"
      ]
     },
     "metadata": {
      "needs_background": "light"
     },
     "output_type": "display_data"
    }
   ],
   "source": [
    "# get the latest dataset\n",
    "last_date = \"2019-07-15\"#dataset.index.levels[1].max()\n",
    "is_last_date = dataset.index.get_level_values('date') == last_date\n",
    "last_dataset = dataset[is_last_date].copy()\n",
    "\n",
    "\n",
    "last_dataset = drop_extreme_case(last_dataset, \n",
    "    ['bias60', 'bias120', 'bias240', 'mom1', 'mom2', 'mom3', 'mom4', 'mom5', 'mom6'], thresh=0.01)\n",
    "\n",
    "\n",
    "# remove NaN testcases\n",
    "last_dataset = last_dataset.dropna(subset=feature_names)\n",
    "\n",
    "# predict\n",
    "\n",
    "vals = model.predict(last_dataset[feature_names].astype(float))\n",
    "last_dataset['result1'] = pd.Series(vals.swapaxes(0,1)[0], last_dataset.index)\n",
    "\n",
    "vals = cf.predict(last_dataset[feature_names].astype(float))\n",
    "last_dataset['result2'] = pd.Series(vals, last_dataset.index)\n",
    "\n",
    "vals = cf2.predict(last_dataset[feature_names].astype(float))\n",
    "last_dataset['result3'] = pd.Series(vals, last_dataset.index)\n",
    "\n",
    "# calculate score\n",
    "\n",
    "rank = last_dataset['result1'] + last_dataset['result2'] + last_dataset['result3']\n",
    "condition = (rank >= rank.nlargest(20).iloc[-1]) \n",
    "\n",
    "# plot rank distribution\n",
    "rank.hist(bins=20)\n",
    "\n",
    "\n",
    "# show the best 20 stocks\n",
    "slist1 = rank[condition].reset_index()['stock_id']"
   ]
  },
  {
   "cell_type": "markdown",
   "metadata": {},
   "source": [
    "# 平均分配資產於股票之中"
   ]
  },
  {
   "cell_type": "code",
   "execution_count": 74,
   "metadata": {},
   "outputs": [
    {
     "name": "stdout",
     "output_type": "stream",
     "text": [
      "股票平分張數:\n"
     ]
    },
    {
     "data": {
      "text/plain": [
       "stock_id\n",
       "1216    0.615006\n",
       "1752    1.677852\n",
       "1788    0.454545\n",
       "2420    1.288660\n",
       "2511    4.201681\n",
       "2643    1.479290\n",
       "2836    5.117707\n",
       "2892    2.164502\n",
       "3206    1.742160\n",
       "3528    1.239157\n",
       "3702    1.215067\n",
       "4104    0.914077\n",
       "4205    0.653595\n",
       "4720    3.676471\n",
       "5403    1.333333\n",
       "5530    0.778816\n",
       "6201    1.362398\n",
       "8032    1.941748\n",
       "8249    2.304147\n",
       "9908    1.669449\n",
       "Name: 2019-07-24 00:00:00, dtype: float64"
      ]
     },
     "execution_count": 74,
     "metadata": {},
     "output_type": "execute_result"
    }
   ],
   "source": [
    "close = data.get(\"收盤價\")\n",
    "\n",
    "money = 1000000\n",
    "stock_prices = close[rank[condition].reset_index()['stock_id']].iloc[-1]\n",
    "\n",
    "\n",
    "print(\"股票平分張數:\")\n",
    "money / len(stock_prices) / stock_prices / 1000\n"
   ]
  }
 ],
 "metadata": {
  "kernelspec": {
   "display_name": "finlab",
   "language": "python",
   "name": "finlab"
  },
  "language_info": {
   "codemirror_mode": {
    "name": "ipython",
    "version": 3
   },
   "file_extension": ".py",
   "mimetype": "text/x-python",
   "name": "python",
   "nbconvert_exporter": "python",
   "pygments_lexer": "ipython3",
   "version": "3.6.8"
  }
 },
 "nbformat": 4,
 "nbformat_minor": 4
}
