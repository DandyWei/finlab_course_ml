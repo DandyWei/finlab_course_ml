{
 "cells": [
  {
   "cell_type": "markdown",
   "metadata": {},
   "source": [
    "# Final Project"
   ]
  },
  {
   "cell_type": "markdown",
   "metadata": {},
   "source": [
    "### 獲取歷史資料"
   ]
  },
  {
   "cell_type": "code",
   "execution_count": 20,
   "metadata": {},
   "outputs": [],
   "source": [
    "from finlab.data import Data\n",
    "from finlab_old.data import Data as data1\n",
    "import pandas as pd\n",
    "import sqlite3\n",
    "import os\n",
    "import numpy as np\n",
    "\n",
    "conn = sqlite3.connect(os.path.join('data', 'data.db'))\n",
    "pd = pd.read_sql('select * from legal_person',conn,index_col = ['date'])\n",
    "## 上面沒有整理\n",
    "\n",
    "data1 = data1()\n",
    "\n",
    "\n",
    "data = Data()\n",
    "\n",
    "big = data1.get('三大法人買賣超股數',10000000).fillna(0)\n",
    "#big0 = data1.get('外陸資買賣超股數(不含外資自營商)',10000000).fillna(0)\n",
    "#le0 = data1.get('外資買進股數',10000000).fillna(0)\n",
    "#le1 = data1.get('投信買進股數',10000000).fillna(0)\n",
    "#le3 = data1.get('三大法人買超股數',10000000).fillna(0)\n",
    "#bigm = big.rolling(3).sum()\n",
    "rev = data.get(\"當月營收\")\n",
    "close = data.get(\"收盤價\")\n",
    "pbe = data.get('股價淨值比')\n",
    "pe = data.get('本益比')\n",
    "rev.index = rev.index.shift(5, \"d\")\n",
    "#total = big0+big\n",
    "\n"
   ]
  },
  {
   "cell_type": "code",
   "execution_count": 3,
   "metadata": {},
   "outputs": [],
   "source": [
    "##資料整理\n",
    "##買進\n",
    "big00 = data1.get('外資自營商買進股數',10000000).fillna(0)\n",
    "big01 = data1.get('外資買進股數',10000000).fillna(0)\n",
    "big02 = data1.get('外陸資買進股數(不含外資自營商)',10000000).fillna(0)\n",
    "big03 = data1.get('投信買進股數',10000000).fillna(0)\n",
    "big04 = data1.get('自營商買進股數',10000000).fillna(0)\n",
    "big05 = data1.get('自營商買進股數(自行買賣)',10000000).fillna(0)\n",
    "big06 = data1.get('自營商買進股數(避險)',10000000).fillna(0)"
   ]
  },
  {
   "cell_type": "code",
   "execution_count": 4,
   "metadata": {},
   "outputs": [],
   "source": [
    "big1 = big00+big01+big02+big03+big04+big05+big06"
   ]
  },
  {
   "cell_type": "code",
   "execution_count": 5,
   "metadata": {},
   "outputs": [],
   "source": [
    "\n",
    "con1 = big > 0\n",
    "con2 = big.shift(1) > 0 \n",
    "con3 = big.shift(2) > 0\n",
    "con4 = big.shift(3) > 0\n",
    "condition1 = con1 & con2 & con3 & con4"
   ]
  },
  {
   "cell_type": "markdown",
   "metadata": {},
   "source": [
    "### 計算features"
   ]
  },
  {
   "cell_type": "code",
   "execution_count": 21,
   "metadata": {},
   "outputs": [],
   "source": [
    "def legal(n):\n",
    "    legal = big.rolling(n,min_periods=1).sum()\n",
    "    #legal = legal.replace([np.inf, -np.inf], np.nan).fillna(0)\n",
    "    return legal\n",
    "\n",
    "\n",
    "def bias(n):\n",
    "    return close / close.rolling(n, min_periods=1).mean()\n",
    "\n",
    "def acc(n):\n",
    "    return close.shift(n) / (close.shift(2*n) + close) * 2\n",
    "\n",
    "def rsv(n):\n",
    "    l = close.rolling(n, min_periods=1).min()\n",
    "    h = close.rolling(n, min_periods=1).max()\n",
    "    \n",
    "    return (close - l) / (h - l)\n",
    "\n",
    "def mom(n):\n",
    "    return (rev / rev.shift(1)).shift(n)\n",
    "\n",
    "features = {\n",
    "    'mom1': mom(1),\n",
    "    'mom2': mom(2),\n",
    "\n",
    "    \n",
    "    'bias5': bias(5),\n",
    "    'bias10': bias(10),\n",
    "    'bias20': bias(20),\n",
    "    'bias60': bias(60),\n",
    "    'bias120': bias(120),\n",
    "    'bias240': bias(240),\n",
    "    \n",
    "    'acc5': acc(5),\n",
    "    'acc10': acc(10),\n",
    "    'acc20': acc(20),\n",
    "    'acc60': acc(60),\n",
    "    'acc120': acc(120),\n",
    "    'acc240': acc(240),\n",
    "    \n",
    "    'rsv5': rsv(5),\n",
    "    'rsv10': rsv(10),\n",
    "    'rsv20': rsv(20),\n",
    "    'rsv60': rsv(60),\n",
    "    'rsv120': rsv(120),\n",
    "    'rsv240': rsv(240),\n",
    "    'pe':pe,\n",
    "    'pbe':pbe,\n",
    "    \n",
    "    \n",
    "\n",
    "    \n",
    "}\n",
    " #  'legal5':legal(5),\n",
    " #  'legal10':legal(10),\n",
    " #  'legal20':legal(20),\n",
    " #  'legal60':legal(60),\n",
    " #  'legal120':legal(120),\n",
    " #  'legal240':legal(240),\n",
    "  #  'rsv5': rsv(5),\n",
    "  #  'rsv10': rsv(10),\n",
    "  #  'rsv20': rsv(20),\n",
    "  #  'rsv60': rsv(60),\n",
    "  #  'rsv120': rsv(120),\n",
    "  #  'rsv240': rsv(240),\n",
    "   # 'big1':big1,\n",
    "   # 'big2':big2,\n",
    "   # 'big3':big3,\n",
    " #       'mom3': mom(3),\n",
    "  #  'mom4': mom(4),\n",
    "  #  'mom5': mom(5),\n",
    "  #  'mom6': mom(6),\n",
    "  #  'mom7': mom(7),\n",
    "  #  'mom8': mom(8),\n",
    "  #  'mom9': mom(9),"
   ]
  },
  {
   "cell_type": "markdown",
   "metadata": {},
   "source": [
    "### 製作dataset\n",
    "\n",
    "##### 設定買賣頻率"
   ]
  },
  {
   "cell_type": "code",
   "execution_count": 22,
   "metadata": {},
   "outputs": [],
   "source": [
    "every_day = close.index\n",
    "every_day = every_day[-392:]"
   ]
  },
  {
   "cell_type": "markdown",
   "metadata": {},
   "source": [
    "##### 將dataframe 組裝起來"
   ]
  },
  {
   "cell_type": "code",
   "execution_count": 23,
   "metadata": {},
   "outputs": [],
   "source": [
    "# features['bias20'].reindex(every_month, method='ffill')\n",
    "\n",
    "for name, f in features.items():\n",
    "    features[name] = f.reindex(every_day, method='ffill')"
   ]
  },
  {
   "cell_type": "code",
   "execution_count": 24,
   "metadata": {},
   "outputs": [],
   "source": [
    "\n",
    "for name, f in features.items():\n",
    "    features[name] = f.unstack()"
   ]
  },
  {
   "cell_type": "code",
   "execution_count": 25,
   "metadata": {},
   "outputs": [],
   "source": [
    "import pandas as pd\n",
    "dataset = pd.DataFrame(features)"
   ]
  },
  {
   "cell_type": "code",
   "execution_count": 26,
   "metadata": {},
   "outputs": [],
   "source": [
    "feature_names = list(dataset.columns)"
   ]
  },
  {
   "cell_type": "markdown",
   "metadata": {},
   "source": [
    "### 新增 label"
   ]
  },
  {
   "cell_type": "code",
   "execution_count": 27,
   "metadata": {},
   "outputs": [],
   "source": [
    "from finlab import ml\n",
    "\n",
    "ml.add_profit_prediction(dataset)\n",
    "ml.add_rank_prediction(dataset)"
   ]
  },
  {
   "cell_type": "code",
   "execution_count": 28,
   "metadata": {},
   "outputs": [],
   "source": [
    "import sklearn.preprocessing as preprocessing\n",
    "dataset_scaled = pd.DataFrame(preprocessing.scale(dataset),index = dataset.index , columns = dataset.columns)\n",
    "dataset_scaled[\"return\"] = dataset[\"return\"]\n",
    "dataset_scaled[\"rank\"] = dataset[\"rank\"]\n",
    "# 可以把其他東西放回來 除了以下這些\n",
    "#dataset['pe'] = dataset['pe'].rank(pct=True)\n",
    "#dataset['pbe'] = dataset['pbe'].rank(pct=True)\n",
    "#dataset['legal5'] = dataset['legal5'].rank(pct=True)\n",
    "#dataset['legal10'] = dataset['legal10'].rank(pct=True)\n",
    "#dataset['legal20'] = dataset['legal20'].rank(pct=True)\n",
    "#dataset['legal60'] = dataset['legal60'].rank(pct=True)\n",
    "#dataset['legal120'] = dataset['legal120'].rank(pct=True)\n",
    "#dataset['legal240'] = dataset['legal240'].rank(pct=True)\n",
    "#dataset['big2'] = dataset['big2'].rank(pct=True)\n",
    "#dataset['big3'] = dataset['big3'].rank(pct=True)"
   ]
  },
  {
   "cell_type": "markdown",
   "metadata": {},
   "source": [
    "### 刪除太大太小的歷史資料"
   ]
  },
  {
   "cell_type": "code",
   "execution_count": 30,
   "metadata": {},
   "outputs": [
    {
     "name": "stdout",
     "output_type": "stream",
     "text": [
      "(756168, 24)\n",
      "(714546, 24)\n"
     ]
    }
   ],
   "source": [
    "print(dataset.shape)\n",
    "\n",
    "dataset = ml.drop_extreme_case(dataset_scaled, \n",
    "    ['bias60', 'bias120', 'bias240', 'mom1', 'mom2']\n",
    "                               ,thresh=0.01)\n",
    "#, 'mom3', 'mom4', 'mom5', 'mom6'\n",
    "print(dataset.shape)\n"
   ]
  },
  {
   "cell_type": "code",
   "execution_count": 31,
   "metadata": {},
   "outputs": [],
   "source": [
    "dataset_dropna = dataset.dropna(how='any')\n",
    "dataset_dropna = dataset_dropna.reset_index().set_index(\"date\")"
   ]
  },
  {
   "cell_type": "code",
   "execution_count": 32,
   "metadata": {},
   "outputs": [],
   "source": [
    "dataset_train = dataset_dropna[:'2018']\n",
    "dataset_test = dataset_dropna['2019':]"
   ]
  },
  {
   "cell_type": "markdown",
   "metadata": {},
   "source": [
    "### 神經網路模型"
   ]
  },
  {
   "cell_type": "code",
   "execution_count": 33,
   "metadata": {},
   "outputs": [
    {
     "name": "stdout",
     "output_type": "stream",
     "text": [
      "_________________________________________________________________\n",
      "Layer (type)                 Output Shape              Param #   \n",
      "=================================================================\n",
      "dense_4 (Dense)              (None, 100)               2300      \n",
      "_________________________________________________________________\n",
      "dense_5 (Dense)              (None, 100)               10100     \n",
      "_________________________________________________________________\n",
      "dropout_2 (Dropout)          (None, 100)               0         \n",
      "_________________________________________________________________\n",
      "dense_6 (Dense)              (None, 1)                 101       \n",
      "=================================================================\n",
      "Total params: 12,501\n",
      "Trainable params: 12,501\n",
      "Non-trainable params: 0\n",
      "_________________________________________________________________\n",
      "start fitting\n",
      "Train on 235067 samples, validate on 26119 samples\n",
      "Epoch 1/225\n",
      "235067/235067 [==============================] - 2s 9us/step - loss: 0.0902 - val_loss: 0.0718\n",
      "Epoch 2/225\n",
      "235067/235067 [==============================] - 2s 7us/step - loss: 0.0750 - val_loss: 0.0718\n",
      "Epoch 3/225\n",
      "235067/235067 [==============================] - 2s 7us/step - loss: 0.0749 - val_loss: 0.0717\n",
      "Epoch 4/225\n",
      "235067/235067 [==============================] - 2s 7us/step - loss: 0.0749 - val_loss: 0.0717\n",
      "Epoch 5/225\n",
      "235067/235067 [==============================] - 2s 7us/step - loss: 0.0749 - val_loss: 0.0718\n",
      "Epoch 6/225\n",
      "235067/235067 [==============================] - 2s 7us/step - loss: 0.0748 - val_loss: 0.0717\n",
      "Epoch 7/225\n",
      "235067/235067 [==============================] - 2s 7us/step - loss: 0.0749 - val_loss: 0.0718\n",
      "Epoch 8/225\n",
      "235067/235067 [==============================] - 2s 6us/step - loss: 0.0749 - val_loss: 0.0718\n",
      "Epoch 9/225\n",
      "235067/235067 [==============================] - 2s 7us/step - loss: 0.0748 - val_loss: 0.0717\n",
      "Epoch 10/225\n",
      "235067/235067 [==============================] - 2s 7us/step - loss: 0.0749 - val_loss: 0.0717\n",
      "Epoch 11/225\n",
      "235067/235067 [==============================] - 2s 7us/step - loss: 0.0749 - val_loss: 0.0718\n",
      "Epoch 12/225\n",
      "235067/235067 [==============================] - 2s 8us/step - loss: 0.0748 - val_loss: 0.0717\n",
      "Epoch 13/225\n",
      "235067/235067 [==============================] - 2s 8us/step - loss: 0.0748 - val_loss: 0.0717\n",
      "Epoch 14/225\n",
      "235067/235067 [==============================] - 2s 7us/step - loss: 0.0748 - val_loss: 0.0717\n",
      "Epoch 15/225\n",
      "235067/235067 [==============================] - 2s 7us/step - loss: 0.0748 - val_loss: 0.0717\n",
      "Epoch 16/225\n",
      "235067/235067 [==============================] - 2s 7us/step - loss: 0.0748 - val_loss: 0.0717\n",
      "Epoch 17/225\n",
      "235067/235067 [==============================] - 2s 7us/step - loss: 0.0748 - val_loss: 0.0717\n",
      "Epoch 18/225\n",
      "235067/235067 [==============================] - 2s 7us/step - loss: 0.0748 - val_loss: 0.0717\n",
      "Epoch 19/225\n",
      "235067/235067 [==============================] - 2s 7us/step - loss: 0.0748 - val_loss: 0.0717\n",
      "Epoch 20/225\n",
      "235067/235067 [==============================] - 2s 7us/step - loss: 0.0748 - val_loss: 0.0717\n",
      "Epoch 21/225\n",
      "235067/235067 [==============================] - 2s 8us/step - loss: 0.0748 - val_loss: 0.0717\n",
      "Epoch 22/225\n",
      "235067/235067 [==============================] - 2s 7us/step - loss: 0.0748 - val_loss: 0.0717\n",
      "Epoch 23/225\n",
      "235067/235067 [==============================] - 2s 7us/step - loss: 0.0748 - val_loss: 0.0717\n",
      "Epoch 24/225\n",
      "235067/235067 [==============================] - 2s 8us/step - loss: 0.0748 - val_loss: 0.0717\n",
      "Epoch 25/225\n",
      "235067/235067 [==============================] - 2s 8us/step - loss: 0.0748 - val_loss: 0.0717\n",
      "Epoch 26/225\n",
      "235067/235067 [==============================] - 2s 8us/step - loss: 0.0748 - val_loss: 0.0717\n",
      "Epoch 27/225\n",
      "235067/235067 [==============================] - 2s 8us/step - loss: 0.0748 - val_loss: 0.0717\n",
      "Epoch 28/225\n",
      "235067/235067 [==============================] - 2s 7us/step - loss: 0.0748 - val_loss: 0.0717\n",
      "Epoch 29/225\n",
      "235067/235067 [==============================] - 2s 8us/step - loss: 0.0748 - val_loss: 0.0717\n",
      "Epoch 30/225\n",
      "235067/235067 [==============================] - 2s 7us/step - loss: 0.0748 - val_loss: 0.0717\n",
      "Epoch 31/225\n",
      "235067/235067 [==============================] - 2s 7us/step - loss: 0.0748 - val_loss: 0.0717\n",
      "Epoch 32/225\n",
      "235067/235067 [==============================] - 2s 7us/step - loss: 0.0748 - val_loss: 0.0717\n",
      "Epoch 33/225\n",
      "235067/235067 [==============================] - 2s 8us/step - loss: 0.0748 - val_loss: 0.0717\n",
      "Epoch 34/225\n",
      "235067/235067 [==============================] - 2s 8us/step - loss: 0.0748 - val_loss: 0.0717\n",
      "Epoch 35/225\n",
      "235067/235067 [==============================] - 2s 7us/step - loss: 0.0748 - val_loss: 0.0717\n",
      "Epoch 36/225\n",
      "235067/235067 [==============================] - 2s 8us/step - loss: 0.0748 - val_loss: 0.0717\n",
      "Epoch 37/225\n",
      "235067/235067 [==============================] - 2s 8us/step - loss: 0.0748 - val_loss: 0.0717\n",
      "Epoch 38/225\n",
      "235067/235067 [==============================] - 2s 7us/step - loss: 0.0748 - val_loss: 0.0717\n",
      "Epoch 39/225\n",
      "235067/235067 [==============================] - 2s 7us/step - loss: 0.0748 - val_loss: 0.0717\n",
      "Epoch 40/225\n",
      "235067/235067 [==============================] - 2s 7us/step - loss: 0.0748 - val_loss: 0.0717\n",
      "Epoch 41/225\n",
      "235067/235067 [==============================] - 2s 7us/step - loss: 0.0748 - val_loss: 0.0717\n",
      "Epoch 42/225\n",
      "235067/235067 [==============================] - 2s 7us/step - loss: 0.0748 - val_loss: 0.0717\n",
      "Epoch 43/225\n",
      "235067/235067 [==============================] - 2s 7us/step - loss: 0.0748 - val_loss: 0.0717\n",
      "Epoch 44/225\n",
      "235067/235067 [==============================] - 2s 7us/step - loss: 0.0748 - val_loss: 0.0716\n",
      "Epoch 45/225\n",
      "235067/235067 [==============================] - 2s 7us/step - loss: 0.0748 - val_loss: 0.0717\n",
      "Epoch 46/225\n",
      "235067/235067 [==============================] - 2s 7us/step - loss: 0.0748 - val_loss: 0.0717\n",
      "Epoch 47/225\n",
      "235067/235067 [==============================] - 2s 7us/step - loss: 0.0748 - val_loss: 0.0716\n",
      "Epoch 48/225\n",
      "235067/235067 [==============================] - 2s 7us/step - loss: 0.0748 - val_loss: 0.0717\n",
      "Epoch 49/225\n",
      "235067/235067 [==============================] - 2s 7us/step - loss: 0.0748 - val_loss: 0.0716\n",
      "Epoch 50/225\n",
      "235067/235067 [==============================] - 2s 8us/step - loss: 0.0748 - val_loss: 0.0716\n",
      "Epoch 51/225\n",
      "235067/235067 [==============================] - 2s 9us/step - loss: 0.0747 - val_loss: 0.0716\n",
      "Epoch 52/225\n",
      "235067/235067 [==============================] - 2s 8us/step - loss: 0.0748 - val_loss: 0.0717\n",
      "Epoch 53/225\n",
      "235067/235067 [==============================] - 2s 8us/step - loss: 0.0747 - val_loss: 0.0716\n",
      "Epoch 54/225\n",
      "235067/235067 [==============================] - 2s 7us/step - loss: 0.0748 - val_loss: 0.0716\n",
      "Epoch 55/225\n",
      "235067/235067 [==============================] - 2s 9us/step - loss: 0.0747 - val_loss: 0.0716\n",
      "Epoch 56/225\n",
      "235067/235067 [==============================] - 2s 8us/step - loss: 0.0748 - val_loss: 0.0717\n",
      "Epoch 57/225\n",
      "235067/235067 [==============================] - 2s 7us/step - loss: 0.0748 - val_loss: 0.0717\n",
      "Epoch 58/225\n",
      "235067/235067 [==============================] - 2s 8us/step - loss: 0.0748 - val_loss: 0.0716\n",
      "Epoch 59/225\n",
      "235067/235067 [==============================] - 2s 8us/step - loss: 0.0748 - val_loss: 0.0716\n",
      "Epoch 60/225\n",
      "235067/235067 [==============================] - 2s 7us/step - loss: 0.0748 - val_loss: 0.0716\n",
      "Epoch 61/225\n",
      "235067/235067 [==============================] - 2s 9us/step - loss: 0.0748 - val_loss: 0.0716\n",
      "Epoch 62/225\n",
      "235067/235067 [==============================] - 2s 7us/step - loss: 0.0747 - val_loss: 0.0716\n",
      "Epoch 63/225\n",
      "235067/235067 [==============================] - 2s 7us/step - loss: 0.0748 - val_loss: 0.0716\n",
      "Epoch 64/225\n",
      "235067/235067 [==============================] - 2s 8us/step - loss: 0.0747 - val_loss: 0.0716\n",
      "Epoch 65/225\n",
      "235067/235067 [==============================] - 2s 7us/step - loss: 0.0747 - val_loss: 0.0716\n",
      "Epoch 66/225\n",
      "235067/235067 [==============================] - 2s 7us/step - loss: 0.0747 - val_loss: 0.0716\n",
      "Epoch 67/225\n",
      "235067/235067 [==============================] - 2s 7us/step - loss: 0.0747 - val_loss: 0.0716\n",
      "Epoch 68/225\n",
      "235067/235067 [==============================] - 2s 7us/step - loss: 0.0747 - val_loss: 0.0716\n",
      "Epoch 69/225\n",
      "235067/235067 [==============================] - 2s 6us/step - loss: 0.0747 - val_loss: 0.0716\n",
      "Epoch 70/225\n",
      "235067/235067 [==============================] - 2s 7us/step - loss: 0.0747 - val_loss: 0.0716\n",
      "Epoch 71/225\n",
      "235067/235067 [==============================] - 2s 7us/step - loss: 0.0747 - val_loss: 0.0716\n",
      "Epoch 72/225\n",
      "235067/235067 [==============================] - 2s 7us/step - loss: 0.0747 - val_loss: 0.0716\n",
      "Epoch 73/225\n",
      "235067/235067 [==============================] - 2s 8us/step - loss: 0.0747 - val_loss: 0.0716\n",
      "Epoch 74/225\n",
      "235067/235067 [==============================] - 2s 7us/step - loss: 0.0747 - val_loss: 0.0716\n",
      "Epoch 75/225\n",
      "235067/235067 [==============================] - 2s 7us/step - loss: 0.0747 - val_loss: 0.0716\n",
      "Epoch 76/225\n",
      "235067/235067 [==============================] - 2s 8us/step - loss: 0.0747 - val_loss: 0.0716\n",
      "Epoch 77/225\n",
      "235067/235067 [==============================] - 2s 7us/step - loss: 0.0747 - val_loss: 0.0716\n",
      "Epoch 78/225\n",
      "235067/235067 [==============================] - 2s 7us/step - loss: 0.0747 - val_loss: 0.0716\n",
      "Epoch 79/225\n",
      "235067/235067 [==============================] - 2s 8us/step - loss: 0.0747 - val_loss: 0.0716\n",
      "Epoch 80/225\n",
      "235067/235067 [==============================] - 2s 8us/step - loss: 0.0747 - val_loss: 0.0716\n",
      "Epoch 81/225\n",
      "235067/235067 [==============================] - 2s 7us/step - loss: 0.0747 - val_loss: 0.0716\n",
      "Epoch 82/225\n",
      "235067/235067 [==============================] - 2s 7us/step - loss: 0.0746 - val_loss: 0.0716\n",
      "Epoch 83/225\n",
      "235067/235067 [==============================] - 1s 6us/step - loss: 0.0746 - val_loss: 0.0716\n",
      "Epoch 84/225\n",
      "235067/235067 [==============================] - 2s 7us/step - loss: 0.0746 - val_loss: 0.0716\n",
      "Epoch 85/225\n",
      "235067/235067 [==============================] - 2s 9us/step - loss: 0.0747 - val_loss: 0.0716\n",
      "Epoch 86/225\n",
      "235067/235067 [==============================] - 2s 9us/step - loss: 0.0747 - val_loss: 0.0716\n",
      "Epoch 87/225\n",
      "235067/235067 [==============================] - 2s 10us/step - loss: 0.0747 - val_loss: 0.0716\n",
      "Epoch 88/225\n",
      "235067/235067 [==============================] - 2s 8us/step - loss: 0.0746 - val_loss: 0.0716\n",
      "Epoch 89/225\n",
      "235067/235067 [==============================] - 2s 9us/step - loss: 0.0747 - val_loss: 0.0716\n",
      "Epoch 90/225\n",
      "235067/235067 [==============================] - 2s 7us/step - loss: 0.0746 - val_loss: 0.0716\n",
      "Epoch 91/225\n",
      "235067/235067 [==============================] - 2s 8us/step - loss: 0.0746 - val_loss: 0.0716\n",
      "Epoch 92/225\n",
      "235067/235067 [==============================] - 2s 8us/step - loss: 0.0746 - val_loss: 0.0715\n",
      "Epoch 93/225\n",
      "235067/235067 [==============================] - 2s 8us/step - loss: 0.0747 - val_loss: 0.0716\n",
      "Epoch 94/225\n",
      "235067/235067 [==============================] - 2s 7us/step - loss: 0.0746 - val_loss: 0.0716\n",
      "Epoch 95/225\n",
      "235067/235067 [==============================] - 2s 8us/step - loss: 0.0746 - val_loss: 0.0716\n",
      "Epoch 96/225\n",
      "235067/235067 [==============================] - 2s 7us/step - loss: 0.0746 - val_loss: 0.0716\n",
      "Epoch 97/225\n",
      "235067/235067 [==============================] - 2s 8us/step - loss: 0.0746 - val_loss: 0.0716\n",
      "Epoch 98/225\n",
      "235067/235067 [==============================] - 2s 9us/step - loss: 0.0746 - val_loss: 0.0716\n",
      "Epoch 99/225\n",
      "235067/235067 [==============================] - 2s 10us/step - loss: 0.0746 - val_loss: 0.0716\n",
      "Epoch 100/225\n",
      "235067/235067 [==============================] - 2s 8us/step - loss: 0.0746 - val_loss: 0.0716\n",
      "Epoch 101/225\n",
      "235067/235067 [==============================] - 2s 6us/step - loss: 0.0746 - val_loss: 0.0716\n",
      "Epoch 102/225\n",
      "235067/235067 [==============================] - 2s 7us/step - loss: 0.0746 - val_loss: 0.0716\n",
      "Epoch 103/225\n",
      "235067/235067 [==============================] - 2s 7us/step - loss: 0.0746 - val_loss: 0.0716\n",
      "Epoch 104/225\n",
      "235067/235067 [==============================] - 2s 8us/step - loss: 0.0746 - val_loss: 0.0716\n",
      "Epoch 105/225\n",
      "235067/235067 [==============================] - 2s 8us/step - loss: 0.0746 - val_loss: 0.0716\n",
      "Epoch 106/225\n",
      "235067/235067 [==============================] - 2s 7us/step - loss: 0.0746 - val_loss: 0.0715\n",
      "Epoch 107/225\n",
      "235067/235067 [==============================] - 2s 7us/step - loss: 0.0746 - val_loss: 0.0715\n",
      "Epoch 108/225\n",
      "235067/235067 [==============================] - 2s 8us/step - loss: 0.0746 - val_loss: 0.0716\n",
      "Epoch 109/225\n",
      "235067/235067 [==============================] - 2s 7us/step - loss: 0.0746 - val_loss: 0.0715\n",
      "Epoch 110/225\n",
      "235067/235067 [==============================] - 2s 6us/step - loss: 0.0746 - val_loss: 0.0715\n",
      "Epoch 111/225\n",
      "235067/235067 [==============================] - 2s 7us/step - loss: 0.0746 - val_loss: 0.0716\n",
      "Epoch 112/225\n",
      "235067/235067 [==============================] - 2s 7us/step - loss: 0.0746 - val_loss: 0.0715\n",
      "Epoch 113/225\n",
      "235067/235067 [==============================] - 1s 6us/step - loss: 0.0746 - val_loss: 0.0715\n",
      "Epoch 114/225\n",
      "235067/235067 [==============================] - 2s 6us/step - loss: 0.0746 - val_loss: 0.0716\n",
      "Epoch 115/225\n",
      "235067/235067 [==============================] - 1s 6us/step - loss: 0.0746 - val_loss: 0.0716\n",
      "Epoch 116/225\n",
      "235067/235067 [==============================] - 1s 6us/step - loss: 0.0746 - val_loss: 0.0716\n",
      "Epoch 117/225\n",
      "235067/235067 [==============================] - 1s 6us/step - loss: 0.0746 - val_loss: 0.0715\n",
      "Epoch 118/225\n",
      "235067/235067 [==============================] - 1s 6us/step - loss: 0.0746 - val_loss: 0.0715\n",
      "Epoch 119/225\n",
      "235067/235067 [==============================] - 1s 6us/step - loss: 0.0746 - val_loss: 0.0716\n",
      "Epoch 120/225\n",
      "235067/235067 [==============================] - 1s 6us/step - loss: 0.0746 - val_loss: 0.0715\n",
      "Epoch 121/225\n",
      "235067/235067 [==============================] - 2s 7us/step - loss: 0.0746 - val_loss: 0.0715\n",
      "Epoch 122/225\n",
      "235067/235067 [==============================] - 1s 6us/step - loss: 0.0745 - val_loss: 0.0715\n",
      "Epoch 123/225\n",
      "235067/235067 [==============================] - 1s 6us/step - loss: 0.0745 - val_loss: 0.0715\n",
      "Epoch 124/225\n",
      "235067/235067 [==============================] - 1s 6us/step - loss: 0.0746 - val_loss: 0.0716\n",
      "Epoch 125/225\n",
      "235067/235067 [==============================] - 2s 7us/step - loss: 0.0746 - val_loss: 0.0716\n",
      "Epoch 126/225\n",
      "235067/235067 [==============================] - 1s 6us/step - loss: 0.0746 - val_loss: 0.0715\n",
      "Epoch 127/225\n",
      "235067/235067 [==============================] - 2s 6us/step - loss: 0.0746 - val_loss: 0.0716\n",
      "Epoch 128/225\n",
      "235067/235067 [==============================] - 2s 7us/step - loss: 0.0746 - val_loss: 0.0716\n",
      "Epoch 129/225\n",
      "235067/235067 [==============================] - 2s 6us/step - loss: 0.0745 - val_loss: 0.0716\n",
      "Epoch 130/225\n",
      "235067/235067 [==============================] - 2s 7us/step - loss: 0.0746 - val_loss: 0.0715\n",
      "Epoch 131/225\n",
      "235067/235067 [==============================] - 2s 9us/step - loss: 0.0745 - val_loss: 0.0715\n",
      "Epoch 132/225\n",
      "235067/235067 [==============================] - 2s 7us/step - loss: 0.0745 - val_loss: 0.0716\n",
      "Epoch 133/225\n",
      "235067/235067 [==============================] - 2s 7us/step - loss: 0.0746 - val_loss: 0.0716\n",
      "Epoch 134/225\n",
      "235067/235067 [==============================] - 2s 6us/step - loss: 0.0745 - val_loss: 0.0715\n",
      "Epoch 135/225\n",
      "235067/235067 [==============================] - 2s 7us/step - loss: 0.0745 - val_loss: 0.0715\n",
      "Epoch 136/225\n",
      "235067/235067 [==============================] - 2s 6us/step - loss: 0.0745 - val_loss: 0.0715\n",
      "Epoch 137/225\n",
      "235067/235067 [==============================] - 2s 7us/step - loss: 0.0745 - val_loss: 0.0715\n",
      "Epoch 138/225\n",
      "235067/235067 [==============================] - 2s 8us/step - loss: 0.0745 - val_loss: 0.0715\n",
      "Epoch 139/225\n",
      "235067/235067 [==============================] - 2s 8us/step - loss: 0.0745 - val_loss: 0.0715\n",
      "Epoch 140/225\n",
      "235067/235067 [==============================] - 2s 8us/step - loss: 0.0745 - val_loss: 0.0716\n",
      "Epoch 141/225\n",
      "235067/235067 [==============================] - 2s 7us/step - loss: 0.0745 - val_loss: 0.0716\n",
      "Epoch 142/225\n",
      "235067/235067 [==============================] - 1s 6us/step - loss: 0.0745 - val_loss: 0.0716\n",
      "Epoch 143/225\n",
      "235067/235067 [==============================] - 2s 7us/step - loss: 0.0745 - val_loss: 0.0715\n",
      "Epoch 144/225\n",
      "235067/235067 [==============================] - 1s 6us/step - loss: 0.0745 - val_loss: 0.0716\n",
      "Epoch 145/225\n",
      "235067/235067 [==============================] - 2s 6us/step - loss: 0.0745 - val_loss: 0.0715\n",
      "Epoch 146/225\n",
      "235067/235067 [==============================] - 2s 6us/step - loss: 0.0745 - val_loss: 0.0715\n",
      "Epoch 147/225\n",
      "235067/235067 [==============================] - 2s 6us/step - loss: 0.0745 - val_loss: 0.0715\n",
      "Epoch 148/225\n",
      "235067/235067 [==============================] - 1s 6us/step - loss: 0.0745 - val_loss: 0.0715\n",
      "Epoch 149/225\n",
      "235067/235067 [==============================] - 1s 6us/step - loss: 0.0745 - val_loss: 0.0715\n",
      "Epoch 150/225\n",
      "235067/235067 [==============================] - 2s 7us/step - loss: 0.0745 - val_loss: 0.0715\n",
      "Epoch 151/225\n",
      "235067/235067 [==============================] - 1s 6us/step - loss: 0.0745 - val_loss: 0.0715\n",
      "Epoch 152/225\n",
      "235067/235067 [==============================] - 1s 6us/step - loss: 0.0745 - val_loss: 0.0715\n",
      "Epoch 153/225\n",
      "235067/235067 [==============================] - 1s 6us/step - loss: 0.0745 - val_loss: 0.0715\n",
      "Epoch 154/225\n",
      "235067/235067 [==============================] - 1s 6us/step - loss: 0.0745 - val_loss: 0.0715\n",
      "Epoch 155/225\n",
      "235067/235067 [==============================] - 2s 6us/step - loss: 0.0745 - val_loss: 0.0715\n",
      "Epoch 156/225\n",
      "235067/235067 [==============================] - 1s 6us/step - loss: 0.0744 - val_loss: 0.0715\n",
      "Epoch 157/225\n",
      "235067/235067 [==============================] - 2s 7us/step - loss: 0.0745 - val_loss: 0.0715\n",
      "Epoch 158/225\n",
      "235067/235067 [==============================] - 1s 6us/step - loss: 0.0745 - val_loss: 0.0715\n",
      "Epoch 159/225\n",
      "235067/235067 [==============================] - 1s 6us/step - loss: 0.0745 - val_loss: 0.0715\n",
      "Epoch 160/225\n",
      "235067/235067 [==============================] - 1s 6us/step - loss: 0.0744 - val_loss: 0.0715\n",
      "Epoch 161/225\n",
      "235067/235067 [==============================] - 2s 8us/step - loss: 0.0744 - val_loss: 0.0715\n",
      "Epoch 162/225\n",
      "235067/235067 [==============================] - 2s 7us/step - loss: 0.0744 - val_loss: 0.0715\n",
      "Epoch 163/225\n",
      "235067/235067 [==============================] - 2s 8us/step - loss: 0.0745 - val_loss: 0.0715\n",
      "Epoch 164/225\n",
      "235067/235067 [==============================] - 2s 7us/step - loss: 0.0744 - val_loss: 0.0715\n",
      "Epoch 165/225\n",
      "235067/235067 [==============================] - 2s 7us/step - loss: 0.0745 - val_loss: 0.0715\n",
      "Epoch 166/225\n",
      "235067/235067 [==============================] - 2s 7us/step - loss: 0.0745 - val_loss: 0.0715\n",
      "Epoch 167/225\n",
      "235067/235067 [==============================] - 1s 6us/step - loss: 0.0744 - val_loss: 0.0715\n",
      "Epoch 168/225\n",
      "235067/235067 [==============================] - 1s 6us/step - loss: 0.0744 - val_loss: 0.0715\n",
      "Epoch 169/225\n",
      "235067/235067 [==============================] - 2s 7us/step - loss: 0.0745 - val_loss: 0.0715\n",
      "Epoch 170/225\n",
      "235067/235067 [==============================] - 1s 6us/step - loss: 0.0744 - val_loss: 0.0715\n",
      "Epoch 171/225\n",
      "235067/235067 [==============================] - 1s 6us/step - loss: 0.0744 - val_loss: 0.0715\n",
      "Epoch 172/225\n",
      "235067/235067 [==============================] - 1s 6us/step - loss: 0.0745 - val_loss: 0.0715\n",
      "Epoch 173/225\n",
      "235067/235067 [==============================] - 2s 6us/step - loss: 0.0744 - val_loss: 0.0715\n",
      "Epoch 174/225\n",
      "235067/235067 [==============================] - 1s 6us/step - loss: 0.0744 - val_loss: 0.0715\n",
      "Epoch 175/225\n",
      "235067/235067 [==============================] - 1s 6us/step - loss: 0.0744 - val_loss: 0.0715\n",
      "Epoch 176/225\n",
      "235067/235067 [==============================] - 2s 8us/step - loss: 0.0744 - val_loss: 0.0716\n",
      "Epoch 177/225\n",
      "235067/235067 [==============================] - 2s 8us/step - loss: 0.0744 - val_loss: 0.0715\n",
      "Epoch 178/225\n",
      "235067/235067 [==============================] - 2s 9us/step - loss: 0.0744 - val_loss: 0.0715\n",
      "Epoch 179/225\n",
      "235067/235067 [==============================] - 2s 7us/step - loss: 0.0744 - val_loss: 0.0715\n",
      "Epoch 180/225\n",
      "235067/235067 [==============================] - 2s 7us/step - loss: 0.0744 - val_loss: 0.0715\n",
      "Epoch 181/225\n",
      "235067/235067 [==============================] - 2s 8us/step - loss: 0.0744 - val_loss: 0.0715\n",
      "Epoch 182/225\n",
      "235067/235067 [==============================] - 2s 8us/step - loss: 0.0744 - val_loss: 0.0716\n",
      "Epoch 183/225\n",
      "235067/235067 [==============================] - 2s 8us/step - loss: 0.0744 - val_loss: 0.0715\n",
      "Epoch 184/225\n",
      "235067/235067 [==============================] - 2s 7us/step - loss: 0.0744 - val_loss: 0.0716\n",
      "Epoch 185/225\n",
      "235067/235067 [==============================] - 2s 7us/step - loss: 0.0744 - val_loss: 0.0716\n",
      "Epoch 186/225\n",
      "235067/235067 [==============================] - 2s 7us/step - loss: 0.0744 - val_loss: 0.0715\n",
      "Epoch 187/225\n",
      "235067/235067 [==============================] - 2s 8us/step - loss: 0.0744 - val_loss: 0.0716\n",
      "Epoch 188/225\n",
      "235067/235067 [==============================] - 1s 6us/step - loss: 0.0744 - val_loss: 0.0715\n",
      "Epoch 189/225\n",
      "235067/235067 [==============================] - 2s 7us/step - loss: 0.0744 - val_loss: 0.0715\n",
      "Epoch 190/225\n",
      "235067/235067 [==============================] - 2s 7us/step - loss: 0.0744 - val_loss: 0.0715\n",
      "Epoch 191/225\n",
      "235067/235067 [==============================] - 2s 8us/step - loss: 0.0744 - val_loss: 0.0715\n",
      "Epoch 192/225\n",
      "235067/235067 [==============================] - 2s 6us/step - loss: 0.0744 - val_loss: 0.0715\n",
      "Epoch 193/225\n",
      "235067/235067 [==============================] - 2s 9us/step - loss: 0.0744 - val_loss: 0.0716\n",
      "Epoch 194/225\n",
      "235067/235067 [==============================] - 2s 8us/step - loss: 0.0744 - val_loss: 0.0715\n",
      "Epoch 195/225\n",
      "235067/235067 [==============================] - 2s 7us/step - loss: 0.0744 - val_loss: 0.0715\n",
      "Epoch 196/225\n",
      "235067/235067 [==============================] - 1s 6us/step - loss: 0.0743 - val_loss: 0.0716\n",
      "Epoch 197/225\n",
      "235067/235067 [==============================] - 1s 6us/step - loss: 0.0744 - val_loss: 0.0716\n",
      "Epoch 198/225\n",
      "235067/235067 [==============================] - 2s 8us/step - loss: 0.0744 - val_loss: 0.0716\n",
      "Epoch 199/225\n",
      "235067/235067 [==============================] - 2s 7us/step - loss: 0.0743 - val_loss: 0.0716\n",
      "Epoch 200/225\n",
      "235067/235067 [==============================] - 2s 7us/step - loss: 0.0743 - val_loss: 0.0715\n",
      "Epoch 201/225\n",
      "235067/235067 [==============================] - 2s 9us/step - loss: 0.0743 - val_loss: 0.0716\n",
      "Epoch 202/225\n",
      "235067/235067 [==============================] - 2s 7us/step - loss: 0.0743 - val_loss: 0.0715\n",
      "Epoch 203/225\n",
      "235067/235067 [==============================] - 2s 7us/step - loss: 0.0743 - val_loss: 0.0715\n",
      "Epoch 204/225\n",
      "235067/235067 [==============================] - 2s 7us/step - loss: 0.0743 - val_loss: 0.0716\n",
      "Epoch 205/225\n",
      "235067/235067 [==============================] - 2s 7us/step - loss: 0.0743 - val_loss: 0.0716\n",
      "Epoch 206/225\n",
      "235067/235067 [==============================] - 2s 8us/step - loss: 0.0743 - val_loss: 0.0715\n",
      "Epoch 207/225\n",
      "235067/235067 [==============================] - 2s 7us/step - loss: 0.0743 - val_loss: 0.0716\n",
      "Epoch 208/225\n",
      "235067/235067 [==============================] - 2s 7us/step - loss: 0.0743 - val_loss: 0.0716\n",
      "Epoch 209/225\n",
      "235067/235067 [==============================] - 2s 8us/step - loss: 0.0743 - val_loss: 0.0716\n",
      "Epoch 210/225\n",
      "235067/235067 [==============================] - 2s 7us/step - loss: 0.0743 - val_loss: 0.0716\n",
      "Epoch 211/225\n",
      "235067/235067 [==============================] - 2s 7us/step - loss: 0.0743 - val_loss: 0.0716\n",
      "Epoch 212/225\n",
      "235067/235067 [==============================] - 2s 8us/step - loss: 0.0743 - val_loss: 0.0716\n",
      "Epoch 213/225\n",
      "235067/235067 [==============================] - 2s 7us/step - loss: 0.0743 - val_loss: 0.0716\n",
      "Epoch 214/225\n",
      "235067/235067 [==============================] - 1s 6us/step - loss: 0.0743 - val_loss: 0.0716\n",
      "Epoch 215/225\n",
      "235067/235067 [==============================] - 1s 6us/step - loss: 0.0743 - val_loss: 0.0716\n",
      "Epoch 216/225\n",
      "235067/235067 [==============================] - 2s 8us/step - loss: 0.0743 - val_loss: 0.0716\n",
      "Epoch 217/225\n",
      "235067/235067 [==============================] - 2s 8us/step - loss: 0.0743 - val_loss: 0.0716\n",
      "Epoch 218/225\n",
      "235067/235067 [==============================] - 2s 10us/step - loss: 0.0743 - val_loss: 0.0716\n",
      "Epoch 219/225\n",
      "235067/235067 [==============================] - 2s 8us/step - loss: 0.0743 - val_loss: 0.0716\n",
      "Epoch 220/225\n",
      "235067/235067 [==============================] - 2s 8us/step - loss: 0.0743 - val_loss: 0.0716\n",
      "Epoch 221/225\n",
      "235067/235067 [==============================] - 2s 7us/step - loss: 0.0743 - val_loss: 0.0717\n",
      "Epoch 222/225\n",
      "235067/235067 [==============================] - 2s 7us/step - loss: 0.0743 - val_loss: 0.0717\n",
      "Epoch 223/225\n",
      "235067/235067 [==============================] - 1s 6us/step - loss: 0.0743 - val_loss: 0.0716\n",
      "Epoch 224/225\n",
      "235067/235067 [==============================] - 1s 6us/step - loss: 0.0743 - val_loss: 0.0716\n",
      "Epoch 225/225\n",
      "235067/235067 [==============================] - 2s 6us/step - loss: 0.0743 - val_loss: 0.0717\n"
     ]
    }
   ],
   "source": [
    "import keras\n",
    "from keras.initializers import he_normal\n",
    "import os\n",
    "\n",
    "os.environ['KMP_DUPLICATE_LIB_OK']='True'\n",
    "\n",
    "model = keras.models.Sequential()\n",
    "model.add(keras.layers.Dense(100, activation='relu',\n",
    "                      input_shape=(len(feature_names),),\n",
    "                      kernel_initializer=he_normal(seed=0)))\n",
    "model.add(keras.layers.Dense(100, activation='relu',\n",
    "                      kernel_initializer=he_normal(seed=0)))\n",
    "model.add(keras.layers.Dropout(0.95))\n",
    "model.add(keras.layers.Dense(1, activation='sigmoid'))\n",
    "\n",
    "\n",
    "model.summary()\n",
    "\n",
    "model.compile(loss='mean_squared_error',\n",
    "              optimizer=\"adam\",)\n",
    "\n",
    "print('start fitting')\n",
    "history = model.fit(dataset_train[feature_names], dataset_train['rank'],\n",
    "                    batch_size=1000,\n",
    "                    epochs=225,\n",
    "                    verbose=1,\n",
    "                    validation_split=0.1, )\n"
   ]
  },
  {
   "cell_type": "markdown",
   "metadata": {},
   "source": [
    "### 結果"
   ]
  },
  {
   "cell_type": "code",
   "execution_count": 34,
   "metadata": {},
   "outputs": [
    {
     "data": {
      "text/plain": [
       "[<matplotlib.lines.Line2D at 0x2424900c748>]"
      ]
     },
     "execution_count": 34,
     "metadata": {},
     "output_type": "execute_result"
    },
    {
     "data": {
      "image/png": "[encoded data removed]",
      "text/plain": [
       "<Figure size 432x288 with 1 Axes>"
      ]
     },
     "metadata": {
      "needs_background": "light"
     },
     "output_type": "display_data"
    }
   ],
   "source": [
    "import matplotlib.pyplot as plt\n",
    "%matplotlib inline\n",
    "plt.plot(history.history['val_loss'][1:])\n",
    "plt.plot(history.history['loss'][1:])"
   ]
  },
  {
   "cell_type": "markdown",
   "metadata": {},
   "source": [
    "### lightgbm Model"
   ]
  },
  {
   "cell_type": "code",
   "execution_count": 35,
   "metadata": {},
   "outputs": [
    {
     "data": {
      "text/plain": [
       "LGBMRegressor(boosting_type='gbdt', class_weight=None, colsample_bytree=1.0,\n",
       "              importance_type='split', learning_rate=0.1, max_depth=-1,\n",
       "              min_child_samples=20, min_child_weight=0.001, min_split_gain=0.0,\n",
       "              n_estimators=500, n_jobs=-1, num_leaves=31, objective=None,\n",
       "              random_state=None, reg_alpha=0.0, reg_lambda=0.0, silent=True,\n",
       "              subsample=1.0, subsample_for_bin=200000, subsample_freq=0)"
      ]
     },
     "execution_count": 35,
     "metadata": {},
     "output_type": "execute_result"
    }
   ],
   "source": [
    "import lightgbm as lgb\n",
    "cf = lgb.LGBMRegressor(n_estimators=500)\n",
    "cf.fit(dataset_train[feature_names].astype(float), dataset_train['rank'])"
   ]
  },
  {
   "cell_type": "markdown",
   "metadata": {},
   "source": [
    "### Random Forest Model"
   ]
  },
  {
   "cell_type": "code",
   "execution_count": null,
   "metadata": {},
   "outputs": [],
   "source": [
    "from sklearn.ensemble import RandomForestRegressor\n",
    "\n",
    "cf2 = RandomForestRegressor(n_estimators=100)\n",
    "cf2.fit(dataset_train[feature_names].astype(float), dataset_train['rank'])"
   ]
  },
  {
   "cell_type": "code",
   "execution_count": null,
   "metadata": {},
   "outputs": [],
   "source": [
    "feature_imp = pd.DataFrame(zip(cf.feature_importances_, feature_names), \n",
    "                           columns=['Value','Feature']).sort_values('Value', ascending=False)\n",
    "feature_imp\n",
    "\n",
    "%matplotlib inline\n",
    "import seaborn as sns\n",
    "sns.barplot(x=\"Value\", y=\"Feature\", data=feature_imp)"
   ]
  },
  {
   "cell_type": "markdown",
   "metadata": {},
   "source": [
    "### Ensemble learning"
   ]
  },
  {
   "cell_type": "code",
   "execution_count": null,
   "metadata": {},
   "outputs": [],
   "source": [
    "vals1 = model.predict(dataset_test[feature_names].astype(float))\n",
    "dataset_test['result1'] = pd.Series(vals1.swapaxes(0,1)[0], dataset_test.index)\n",
    "\n",
    "vals2 = cf.predict(dataset_test[feature_names].astype(float))\n",
    "dataset_test['result2'] = pd.Series(vals2, dataset_test.index)\n",
    "\n",
    "vals3 = cf2.predict(dataset_test[feature_names].astype(float))\n",
    "dataset_test['result3'] = pd.Series(vals3, dataset_test.index)\n"
   ]
  },
  {
   "cell_type": "markdown",
   "metadata": {},
   "source": [
    "## 原本的"
   ]
  },
  {
   "cell_type": "code",
   "execution_count": null,
   "metadata": {},
   "outputs": [],
   "source": [
    "import math\n",
    "\n",
    "\n",
    "dates = sorted(list(set(dataset_test.index)))\n",
    "\n",
    "rs = []\n",
    "for d in dates:\n",
    "    \n",
    "    dataset_time = dataset_test.loc[d]\n",
    "    rank = dataset_time['result1'] + dataset_time['result2'] + dataset_time['result3'] \n",
    "    \n",
    "    condition = (rank >= rank.nlargest(20).iloc[-1]) \n",
    "    r = dataset_time['return'][condition].mean()\n",
    "\n",
    "    rs.append(r * (1-3/1000-1.425/1000*2*0.6))\n",
    "\n",
    "rs = pd.Series(rs, index=dates).cumprod()\n",
    "\n",
    "s0050 = close['0050']['2019':]\n",
    "\n",
    "pd.DataFrame({'nn strategy return':rs.reindex(s0050.index, method='ffill'), '0050 return':s0050/s0050[0]}).plot()"
   ]
  },
  {
   "cell_type": "code",
   "execution_count": 103,
   "metadata": {},
   "outputs": [],
   "source": [
    "def leg(n1,n3):\n",
    "    condition1 = big.rolling(n1).sum() >n3*1000"
   ]
  },
  {
   "cell_type": "code",
   "execution_count": 173,
   "metadata": {},
   "outputs": [],
   "source": [
    "\n",
    "## 組合學習評分策略\n",
    "\n",
    "def rs(n1):\n",
    "    dates = sorted(list(set(dataset_test.index)))\n",
    "    rs = []\n",
    "    for d in dates:\n",
    "        \n",
    "        dataset_time = dataset_test.loc[d]\n",
    "        rank = dataset_time['result1'] + dataset_time['result2'] + dataset_time['result3'] \n",
    "            \n",
    "        condition = (rank >= rank.nlargest(n1).iloc[-1]) \n",
    "        r = dataset_time['return'][condition].mean()\n",
    "    \n",
    "        rs.append(r * (1-3/1000-1.425/1000*2*0.6))\n",
    "            \n",
    "    rs = pd.Series(rs, index=dates).cumprod()\n",
    "    return rs,condition"
   ]
  },
  {
   "cell_type": "code",
   "execution_count": 181,
   "metadata": {},
   "outputs": [],
   "source": [
    "for i in range(1,10,1):\n",
    "    \n",
    "    a,c = rs(i)"
   ]
  },
  {
   "cell_type": "markdown",
   "metadata": {},
   "source": [
    "## 添加三大反人條件"
   ]
  },
  {
   "cell_type": "code",
   "execution_count": 152,
   "metadata": {},
   "outputs": [
    {
     "name": "stdout",
     "output_type": "stream",
     "text": [
      "Total profit:\n"
     ]
    },
    {
     "data": {
      "text/plain": [
       "1.2718353962114084"
      ]
     },
     "execution_count": 152,
     "metadata": {},
     "output_type": "execute_result"
    },
    {
     "data": {
      "image/png": "[encoded data removed]",
      "text/plain": [
       "<Figure size 432x288 with 1 Axes>"
      ]
     },
     "metadata": {
      "needs_background": "light"
     },
     "output_type": "display_data"
    }
   ],
   "source": [
    "import math\n",
    "rs,condition = rs(20)\n",
    "s0050 = close['0050']['2018':]\n",
    "\n",
    "pd.DataFrame({'nn strategy return':rs.reindex(s0050.index, method='ffill'), '0050 return':s0050/s0050[0]}).plot()\n",
    "print(\"Total profit:\")\n",
    "rs[-1]"
   ]
  },
  {
   "cell_type": "code",
   "execution_count": 182,
   "metadata": {},
   "outputs": [
    {
     "name": "stdout",
     "output_type": "stream",
     "text": [
      "1.0613876841385876 1\n",
      "1.3468247708249879 2\n",
      "1.357506972165442 3\n",
      "1.387197313873605 5\n"
     ]
    }
   ],
   "source": [
    "rmax = 0\n",
    "for i in range(1,50,1):\n",
    "    r,l = rs(i)\n",
    "    rsn = r[-1]\n",
    "    if rmax<rsn:\n",
    "        rmax = rsn\n",
    "        print(rmax,i)\n"
   ]
  },
  {
   "cell_type": "code",
   "execution_count": 159,
   "metadata": {},
   "outputs": [
    {
     "ename": "IndentationError",
     "evalue": "unexpected indent (<ipython-input-159-f6dc56d1b03c>, line 2)",
     "output_type": "error",
     "traceback": [
      "\u001b[1;36m  File \u001b[1;32m\"<ipython-input-159-f6dc56d1b03c>\"\u001b[1;36m, line \u001b[1;32m2\u001b[0m\n\u001b[1;33m    rk = dataset_time[condition]['stock_id']\u001b[0m\n\u001b[1;37m    ^\u001b[0m\n\u001b[1;31mIndentationError\u001b[0m\u001b[1;31m:\u001b[0m unexpected indent\n"
     ]
    }
   ],
   "source": [
    "        # 開始蝦七八亂改\n",
    "    rk = dataset_time[condition]['stock_id']\n",
    "    rd = []\n",
    "    for n in rk:\n",
    "        rd.append(n)\n",
    "    \n",
    "    condition1 = big.rolling(5).sum() >10*1000\n",
    "    con = pd.DataFrame(condition1.unstack()[rd])\n",
    "    con1 = con.pivot_table(index=\"stock_id\",columns=\"date\")\n",
    "    con0 = con.pivot_table(index=\"date\",columns=\"stock_id\")\n",
    "    con01 = con0.reindex(every_month, method='ffill').dropna()\n",
    "    con02 = con01.loc[d][0]\n",
    "    con03 = con02[con02]\n",
    "    con04=[]\n",
    "    for i in con03.index:\n",
    "        con04.append(i)\n",
    "            \n",
    "    test = dataset_time.reset_index().set_index(\"stock_id\")\n",
    "    lo = test[\"return\"][con04].mean()\n",
    "        #lo = lo.dropna()\n",
    "        \n",
    "         #結束蝦七八亂改"
   ]
  },
  {
   "cell_type": "code",
   "execution_count": 60,
   "metadata": {},
   "outputs": [
    {
     "name": "stdout",
     "output_type": "stream",
     "text": [
      "Total profit:\n"
     ]
    },
    {
     "data": {
      "text/plain": [
       "1.2023702501072853"
      ]
     },
     "execution_count": 60,
     "metadata": {},
     "output_type": "execute_result"
    }
   ],
   "source": []
  },
  {
   "cell_type": "code",
   "execution_count": 28,
   "metadata": {},
   "outputs": [
    {
     "data": {
      "text/plain": [
       "1.2035450653976612"
      ]
     },
     "execution_count": 28,
     "metadata": {},
     "output_type": "execute_result"
    }
   ],
   "source": [
    "rs[-1]**(1/3.5)"
   ]
  },
  {
   "cell_type": "markdown",
   "metadata": {},
   "source": [
    "### 當月持股狀況"
   ]
  },
  {
   "cell_type": "code",
   "execution_count": 87,
   "metadata": {},
   "outputs": [
    {
     "data": {
      "text/plain": [
       "stock_id  date      \n",
       "1201      2019-08-15    1.505489\n",
       "1434      2019-08-15    1.535945\n",
       "1707      2019-08-15    1.406626\n",
       "2206      2019-08-15    1.502443\n",
       "2236      2019-08-15    1.473526\n",
       "2404      2019-08-15    1.489815\n",
       "2812      2019-08-15    1.598333\n",
       "2832      2019-08-15    1.662192\n",
       "2845      2019-08-15    1.690368\n",
       "2849      2019-08-15    1.498570\n",
       "2891      2019-08-15    1.452448\n",
       "4722      2019-08-15    1.516161\n",
       "5706      2019-08-15    1.450519\n",
       "6189      2019-08-15    1.508385\n",
       "8081      2019-08-15    1.399126\n",
       "8481      2019-08-15    1.552472\n",
       "9911      2019-08-15    1.667698\n",
       "dtype: float64"
      ]
     },
     "execution_count": 87,
     "metadata": {},
     "output_type": "execute_result"
    },
    {
     "data": {
      "image/png": "[encoded data removed]",
      "text/plain": [
       "<Figure size 432x288 with 1 Axes>"
      ]
     },
     "metadata": {
      "needs_background": "light"
     },
     "output_type": "display_data"
    }
   ],
   "source": [
    "# get the latest dataset\n",
    "\n",
    "last_date = dataset.index.levels[1].max()\n",
    "is_last_date = dataset.index.get_level_values('date') == last_date\n",
    "last_dataset = dataset[is_last_date].copy()\n",
    "\n",
    "\n",
    "# remove NaN testcases\n",
    "\n",
    "#print(\"Some stocks are skipped due to NaN\")\n",
    "#print(last_dataset[last_dataset[feature_names].isnull().sum(axis=1) != 0].index.get_level_values(\"stock_id\").values)\n",
    "last_dataset = last_dataset.dropna(subset=feature_names)\n",
    "\n",
    "# predict\n",
    "\n",
    "vals = model.predict(last_dataset[feature_names].astype(float))\n",
    "last_dataset['result1'] = pd.Series(vals.swapaxes(0,1)[0], last_dataset.index)\n",
    "\n",
    "vals = cf.predict(last_dataset[feature_names].astype(float))\n",
    "last_dataset['result2'] = pd.Series(vals, last_dataset.index)\n",
    "\n",
    "vals = cf2.predict(last_dataset[feature_names].astype(float))\n",
    "last_dataset['result3'] = pd.Series(vals, last_dataset.index)\n",
    "\n",
    "# calculate score\n",
    "\n",
    "rank = last_dataset['result1'] + last_dataset['result2'] + last_dataset['result3']\n",
    "condition = (rank >= rank.nlargest(20).iloc[-1]) \n",
    "\n",
    "# plot rank distribution\n",
    "rank.hist(bins=20)\n",
    "\n",
    "\n",
    "# show the best 20 stocks\n"
   ]
  },
  {
   "cell_type": "code",
   "execution_count": 41,
   "metadata": {},
   "outputs": [
    {
     "data": {
      "text/plain": [
       "stock_id  date      \n",
       "1533      2019-08-15    1.740019\n",
       "1540      2019-08-15    1.713157\n",
       "1541      2019-08-15    1.756575\n",
       "1762      2019-08-15    1.882149\n",
       "2107      2019-08-15    1.722287\n",
       "2377      2019-08-15    1.722419\n",
       "2643      2019-08-15    1.714698\n",
       "2834      2019-08-15    1.750045\n",
       "2851      2019-08-15    1.713711\n",
       "2904      2019-08-15    1.742230\n",
       "3005      2019-08-15    1.747282\n",
       "3702      2019-08-15    1.718035\n",
       "4402      2019-08-15    1.708829\n",
       "5215      2019-08-15    1.708671\n",
       "5289      2019-08-15    1.727369\n",
       "5291      2019-08-15    1.728467\n",
       "5493      2019-08-15    1.720125\n",
       "6023      2019-08-15    1.716572\n",
       "6289      2019-08-15    1.862858\n",
       "8420      2019-08-15    1.818211\n",
       "dtype: float64"
      ]
     },
     "execution_count": 41,
     "metadata": {},
     "output_type": "execute_result"
    }
   ],
   "source": []
  },
  {
   "cell_type": "code",
   "execution_count": null,
   "metadata": {},
   "outputs": [],
   "source": [
    "from finlab_old.data import Data\n",
    "data = Data()\n",
    "big = data.get('三大法人買賣超股數',10000000)\n",
    "\n",
    "big = big.fillna(0)\n",
    "bigm = big.rolling(3).sum()\n",
    "condition1 = (big - bigm)>3*1000\n",
    "\n",
    "big.reindex(every_month, method='ffill').unstack()\n",
    "big = pd.DataFrame(big)\n",
    "big = big.dropna(how='any')\n",
    "big = big.reset_index().set_index(\"date\")"
   ]
  },
  {
   "cell_type": "markdown",
   "metadata": {},
   "source": [
    "## 小結論"
   ]
  },
  {
   "cell_type": "code",
   "execution_count": null,
   "metadata": {},
   "outputs": [],
   "source": [
    "con = pd.DataFrame(condition1.unstack()[rd])\n",
    "con1 = con.pivot_table(index=\"stock_id\",columns=\"date\")\n",
    "con0 = con.pivot_table(index=\"date\",columns=\"stock_id\")\n",
    "con1 = con1[0]\n",
    "con2 = con1[\"2012-05-25\"]\n",
    "\n",
    "test = dataset_time.reset_index().set_index(\"stock_id\")\n",
    "test[\"return\"][rd]\n",
    "con3 = con2[con2].index\n",
    "con4 = []\n",
    "for i in con3:\n",
    "    con4.append(i)\n",
    "#con4\n",
    "\n",
    "#test[\"return\"][con4]#.mean()  #成功選出我們所需要的股票"
   ]
  },
  {
   "cell_type": "code",
   "execution_count": null,
   "metadata": {},
   "outputs": [],
   "source": [
    "con01 = con0.reindex(every_month, method='ffill').dropna()\n",
    "con02 = con01.loc[d][0]\n",
    "con03 = con02[con02]\n",
    "\n",
    "con04=[]\n",
    "for i in con03.index:\n",
    "    con04.append(i)\n",
    "if con04!=[]:\n",
    "    lo = test[\"return\"][con04]\n",
    "    print(lo)"
   ]
  },
  {
   "cell_type": "code",
   "execution_count": null,
   "metadata": {},
   "outputs": [],
   "source": [
    "import datetime\n",
    "from finlab.crawler import date_range\n",
    "#condition1.unstack()[rd]\n",
    "d= condition1.unstack()[rd].reset_index().set_index(\"date\")\n",
    "#d = d['2012-05-10']\n",
    "#d.reindex(every_month, method='ffill')\n",
    "#new_m = every_month[87:]\n",
    "#d.reindex(new_m, method='ffill')\n",
    "new_m = date_range(datetime.date(2012,5,10),datetime.date(2019,8,3))\n",
    "d.columns\n"
   ]
  },
  {
   "cell_type": "code",
   "execution_count": null,
   "metadata": {},
   "outputs": [],
   "source": []
  }
 ],
 "metadata": {
  "kernelspec": {
   "display_name": "finlab",
   "language": "python",
   "name": "finlab"
  },
  "language_info": {
   "codemirror_mode": {
    "name": "ipython",
    "version": 3
   },
   "file_extension": ".py",
   "mimetype": "text/x-python",
   "name": "python",
   "nbconvert_exporter": "python",
   "pygments_lexer": "ipython3",
   "version": "3.6.8"
  }
 },
 "nbformat": 4,
 "nbformat_minor": 2
}
