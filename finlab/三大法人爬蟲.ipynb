{
 "cells": [
  {
   "cell_type": "code",
   "execution_count": 2,
   "metadata": {},
   "outputs": [
    {
     "data": {
      "application/vnd.jupyter.widget-view+json": {
       "model_id": "d60fa70b433942ef89320b79299c21c2",
       "version_major": 2,
       "version_minor": 0
      },
      "text/plain": [
       "VBox(children=(Label(value='legal_person (from 2011-11-05 to 2020-02-14)'), HBox(children=(DatePicker(value=da…"
      ]
     },
     "metadata": {},
     "output_type": "display_data"
    }
   ],
   "source": [
    "# finlab 軟體包要上課才有喔～\n",
    "from finlab_old.crawler import widget, date_range\n",
    "\n",
    "# 讀入一些package\n",
    "import sqlite3\n",
    "import os\n",
    "import requests\n",
    "from io import StringIO\n",
    "import pandas as pd\n",
    "\n",
    "# 爬取資料\n",
    "def crawl_legal_person(date):\n",
    "    \n",
    "    # 將時間物件變成字串：'20180102'\n",
    "    datestr = date.strftime('%Y%m%d')\n",
    "    \n",
    "    # 下載三大法人資料\n",
    "    try:\n",
    "        r = requests.get('http://www.tse.com.tw/fund/T86?response=csv&date='+datestr+'&selectType=ALLBUT0999')#\n",
    "    except:\n",
    "        return None\n",
    "\n",
    "    # 製作三大法人的DataFrame\n",
    "    try:\n",
    "        df = pd.read_csv(StringIO(r.text), header=1).dropna(how='all', axis=1).dropna(how='any')\n",
    "    except:\n",
    "        return None\n",
    "    \n",
    "    # 微調整（為了配合資料庫的格式）\n",
    "\n",
    "    # 刪除逗點\n",
    "    df = df.astype(str).apply(lambda s: s.str.replace(',',''))\n",
    "\n",
    "    # 刪除「證券代號」中的「\"」和「=」\n",
    "    df['stock_id'] = df['證券代號'].str.replace('=','').str.replace('\"','')\n",
    "\n",
    "    # 刪除「證券代號」這個欄位\n",
    "    df = df.drop(['證券代號'], axis=1)\n",
    "\n",
    "    # 設定index\n",
    "    df['date'] = date\n",
    "    df = df.set_index(['stock_id', 'date'])\n",
    "    \n",
    "    # 將dataframe的型態轉成數字\n",
    "    return df.apply(lambda s: pd.to_numeric(s, errors='coerce')).dropna(how='all', axis=1)\n",
    "\n",
    "# 打開資料庫\n",
    "conn = sqlite3.connect(os.path.join('data', 'data.db'))\n",
    "\n",
    "# 開啟GUI介面\n",
    "widget(conn, 'legal_person', crawl_legal_person, date_range)"
   ]
  },
  {
   "cell_type": "code",
   "execution_count": null,
   "metadata": {},
   "outputs": [],
   "source": []
  }
 ],
 "metadata": {
  "kernelspec": {
   "display_name": "finlab",
   "language": "python",
   "name": "finlab"
  },
  "language_info": {
   "codemirror_mode": {
    "name": "ipython",
    "version": 3
   },
   "file_extension": ".py",
   "mimetype": "text/x-python",
   "name": "python",
   "nbconvert_exporter": "python",
   "pygments_lexer": "ipython3",
   "version": "3.6.8"
  }
 },
 "nbformat": 4,
 "nbformat_minor": 4
}
