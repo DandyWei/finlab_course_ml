{
 "cells": [
  {
   "cell_type": "code",
   "execution_count": 27,
   "metadata": {},
   "outputs": [],
   "source": [
    "import numpy as np\n",
    "from finlab.data import Data\n",
    "import math\n",
    "import datetime\n",
    "import pandas as pd\n",
    "data = Data()\n",
    "close = data.get('adj_close')\n",
    "def triple_barrier(price, ub, lb, max_period):\n",
    "\n",
    "    def end_price(s):\n",
    "        return np.append(s[(s / s[0] > ub) | (s / s[0] < lb)], s[-1])[0]/s[0]\n",
    "    \n",
    "    r = np.array(range(max_period))\n",
    "    \n",
    "    def end_time(s):\n",
    "        return np.append(r[(s / s[0] > ub) | (s / s[0] < lb)], max_period-1)[0]\n",
    "\n",
    "    p = price.rolling(max_period).apply(end_price, raw=True).shift(-max_period+1)\n",
    "    t = price.rolling(max_period).apply(end_time, raw=True).shift(-max_period+1)\n",
    "    t = pd.Series([t.index[int(k+i)] if not math.isnan(k+i) else np.datetime64('NaT') \n",
    "                   for i, k in enumerate(t)], index=t.index).dropna()\n",
    "\n",
    "    signal = pd.Series(0, p.index)\n",
    "    signal.loc[p > ub] = 1\n",
    "    signal.loc[p < lb] = -1\n",
    "    ret = pd.DataFrame({'triple_barrier_profit':p, 'triple_barrier_sell_time':t, 'triple_barrier_signal':signal})\n",
    "\n",
    "    return ret\n",
    "\n",
    "#ret = triple_barrier(close, 1.07, 0.97, 20)"
   ]
  },
  {
   "cell_type": "code",
   "execution_count": 38,
   "metadata": {},
   "outputs": [],
   "source": [
    "close = data.get(\"收盤價\")\n",
    "def br(c,ub=1.07,lb=0.95,max_period=20):\n",
    "    ret = triple_barrier(close[c],ub,lb,max_period)\n",
    "    return ret"
   ]
  },
  {
   "cell_type": "code",
   "execution_count": 10,
   "metadata": {},
   "outputs": [],
   "source": [
    "def get_profit(date,stock):\n",
    "    try:\n",
    "        date = datetime.datetime(year=int(date[0:4]), month=int(date[4:6]), day=int(date[6:8]))\n",
    "        dates = date.strftime(\"%Y-%m-%d\")\n",
    "        ret = br(stock)\n",
    "        profit = ret.triple_barrier_profit[date]\n",
    "        return profit\n",
    "    except:\n",
    "        try:\n",
    "            date=date + datetime.timedelta(days=2)\n",
    "            dates = date.strftime(\"%Y-%m-%d\")\n",
    "            ret = br(stock)\n",
    "            profit = ret.triple_barrier_profit[date]\n",
    "            return profit\n",
    "        except:\n",
    "            pass\n",
    "        return 1"
   ]
  },
  {
   "cell_type": "code",
   "execution_count": 18,
   "metadata": {},
   "outputs": [],
   "source": [
    "def br(c):\n",
    "    close = data.get(\"收盤價\")\n",
    "    ret = triple_barrier(close[c],1.2,0.95,21)\n",
    "    return ret"
   ]
  }
 ],
 "metadata": {
  "kernelspec": {
   "display_name": "finlab",
   "language": "python",
   "name": "finlab"
  },
  "language_info": {
   "codemirror_mode": {
    "name": "ipython",
    "version": 3
   },
   "file_extension": ".py",
   "mimetype": "text/x-python",
   "name": "python",
   "nbconvert_exporter": "python",
   "pygments_lexer": "ipython3",
   "version": "3.6.8"
  }
 },
 "nbformat": 4,
 "nbformat_minor": 2
}
