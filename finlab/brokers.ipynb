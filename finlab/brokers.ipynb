{
 "cells": [
  {
   "cell_type": "markdown",
   "metadata": {},
   "source": [
    "# 券商分點\n",
    "\n",
    "這個券商分點可以繞過「圖片認證碼」請大家再三保密使用XD\n",
    "不然哪天就失效了，\n",
    "\n",
    "抓取券商分點，每檔股票總共可以分成三個步驟：\n",
    "1. 開啟驗證碼網頁，得到驗證碼\n",
    "2. 利用驗證碼來得到券商分點\n",
    "3. 整理券商分點資訊"
   ]
  },
  {
   "cell_type": "code",
   "execution_count": 1,
   "metadata": {},
   "outputs": [],
   "source": [
    "# ---------------\n",
    "# 偽裝成瀏覽器\n",
    "# ---------------\n",
    "headers = {\n",
    "    'User-Agent':'Mozilla/5.0 (Windows NT 6.1; WOW64; rv:2.0.1) Gecko/2010010' \\\n",
    "    '1 Firefox/4.0.1',\n",
    "    'Accept':'text/html,application/xhtml+xml,application/xml;q=0.9,*/*;q=0.8',\n",
    "    'Accept-Language':'en-us,en;q=0.5',\n",
    "    'Accept-Charset':'ISO-8859-1,utf-8;q=0.7,*;q=0.7'}"
   ]
  },
  {
   "cell_type": "markdown",
   "metadata": {},
   "source": [
    "# 1. 開啟驗證碼網頁，得到驗證碼\n",
    "這邊的驗證碼不是「圖片驗證碼喔！」而是 `viewstate` 跟 `eventvalidation`"
   ]
  },
  {
   "cell_type": "code",
   "execution_count": 2,
   "metadata": {},
   "outputs": [
    {
     "name": "stderr",
     "output_type": "stream",
     "text": [
      "C:\\Users\\Dandy\\Anaconda3\\envs\\finlab\\lib\\site-packages\\urllib3\\connectionpool.py:847: InsecureRequestWarning: Unverified HTTPS request is being made. Adding certificate verification is strongly advised. See: https://urllib3.readthedocs.io/en/latest/advanced-usage.html#ssl-warnings\n",
      "  InsecureRequestWarning)\n"
     ]
    },
    {
     "name": "stdout",
     "output_type": "stream",
     "text": [
      "----\n",
      "viewstate /wEPDwUJOTAxMjkxMjg3D2QWAgIDD2QWBAIBD2QWAmYPZBYEZg9kFgJmDxAPFgYeB0NoZWNrZWRnHglGb3JlQ29sb3IKAB4EXyFTQgIEZGRkZAIBD2QWAgIBDw8WBB8BCgAfAgIEZGQCAw9kFgQCAw8PFgIeBFRleHRlZGQCCQ8PFgIeB1Zpc2libGVoZGQYAgUeX19Db250cm9sc1JlcXVpcmVQb3N0QmFja0tleV9fFgMFElJhZGlvQnV0dG9uX05vcm1hbAUQUmFkaW9CdXR0b25fRXhjZAUQUmFkaW9CdXR0b25fRXhjZAUPQ2FwdGNoYUNvbnRyb2wxDwUkMmI4NTExMWYtMmE2MC00YWE3LTgyZWUtNTk4OTAyZWQ4YmMxZMKrCJH26duPypQQ+05vLd4=\n",
      "----\n",
      "eventvalidation /wEdAAacPGDkZvixf0XsbXEcl/OQfMmuxAJNAJcNkRRsVeJwwqKURZav/+YrVMqaWE2hvMxJwK4Ohf3nRgXHkFhQen1PRSciNdPYWmINCrip1wqw01PJCA0uL9aE2sjICZqv6GrQAmrXGlXLo8lSiiAsmKsB\n",
      "----\n"
     ]
    }
   ],
   "source": [
    "# ---------------\n",
    "# 開啟有驗證碼的網頁\n",
    "# ---------------\n",
    "import requests\n",
    "rs = requests.session()\n",
    "\n",
    "def get_verify_code(rs):\n",
    "    res = rs.get( 'http://bsr.twse.com.tw/bshtm/bsMenu.aspx', stream = True, verify = False, headers = headers, timeout=None )\n",
    "    # ---------------\n",
    "    # 從網頁中抓取一些關鍵字\n",
    "    # ---------------\n",
    "    import re\n",
    "    \n",
    "    # get view state\n",
    "    viewstate = re.search( 'VIEWSTATE\"\\s+value=.*=', res.text )\n",
    "    viewstate = viewstate.group()[18:]\n",
    "    \n",
    "    # get eventvalidation\n",
    "    eventvalidation = re.search( 'EVENTVALIDATION\"\\s+value=.*\\w', res.text )\n",
    "    eventvalidation = eventvalidation.group( )[ 24: ]\n",
    "    \n",
    "    return viewstate, eventvalidation\n",
    "\n",
    "viewstate, eventvalidation = get_verify_code(rs)\n",
    "\n",
    "print('----')\n",
    "print('viewstate', viewstate)\n",
    "print('----')\n",
    "print('eventvalidation',eventvalidation)\n",
    "print('----')"
   ]
  },
  {
   "cell_type": "code",
   "execution_count": null,
   "metadata": {},
   "outputs": [],
   "source": [
    "ve"
   ]
  },
  {
   "cell_type": "markdown",
   "metadata": {},
   "source": [
    "# 2. 透過驗證碼爬取資料並存檔"
   ]
  },
  {
   "cell_type": "code",
   "execution_count": 4,
   "metadata": {},
   "outputs": [
    {
     "name": "stderr",
     "output_type": "stream",
     "text": [
      "C:\\Users\\Dandy\\Anaconda3\\envs\\finlab\\lib\\site-packages\\urllib3\\connectionpool.py:847: InsecureRequestWarning: Unverified HTTPS request is being made. Adding certificate verification is strongly advised. See: https://urllib3.readthedocs.io/en/latest/advanced-usage.html#ssl-warnings\n",
      "  InsecureRequestWarning)\n",
      "C:\\Users\\Dandy\\Anaconda3\\envs\\finlab\\lib\\site-packages\\urllib3\\connectionpool.py:847: InsecureRequestWarning: Unverified HTTPS request is being made. Adding certificate verification is strongly advised. See: https://urllib3.readthedocs.io/en/latest/advanced-usage.html#ssl-warnings\n",
      "  InsecureRequestWarning)\n"
     ]
    },
    {
     "data": {
      "text/plain": [
       "50525"
      ]
     },
     "execution_count": 4,
     "metadata": {},
     "output_type": "execute_result"
    }
   ],
   "source": [
    "# ---------------\n",
    "# 爬取資料\n",
    "# ---------------\n",
    "\n",
    "def get_data(rs, stock_id, viewstate, eventvalidation):\n",
    "    import time\n",
    "    payload = {\n",
    "    '__EVENTTARGET':'',\n",
    "    '__EVENTARGUMENT':'',\n",
    "    '__LASTFOCUS':'',\n",
    "    '__VIEWSTATE' : viewstate,                      #encode_viewstate[:-1],\n",
    "    '__EVENTVALIDATION' : eventvalidation,          #encode_eventvalidation[:-1],\n",
    "    'RadioButton_Normal' : 'RadioButton_Normal',\n",
    "    'TextBox_Stkno' : stock_id,\n",
    "    'CaptchaControl1 ' : 'Z67YB',\n",
    "    'btnOK' : '%E6%9F%A5%E8%A9%A2',\n",
    "    }\n",
    "    rs.post( \"https://bsr.twse.com.tw/bshtm/bsMenu.aspx\", data=payload, headers=headers, stream = True )\n",
    "    time.sleep(1)\n",
    "    res = rs.get( 'https://bsr.twse.com.tw/bshtm/bsContent.aspx',verify = False ,stream = True, )\n",
    "    return res\n",
    "\n",
    "res = get_data(rs, '1101', viewstate, eventvalidation)\n",
    "res.encoding='big5'\n",
    "open('test.html', 'w', encoding='utf-8').write(res.text)"
   ]
  },
  {
   "cell_type": "markdown",
   "metadata": {},
   "source": [
    "# 3. 整理資料"
   ]
  },
  {
   "cell_type": "code",
   "execution_count": 5,
   "metadata": {},
   "outputs": [],
   "source": [
    "import pandas as pd\n",
    "from io import StringIO\n",
    "\n",
    "def parse_data(text):\n",
    "    lines = text.split('\\n')\n",
    "    lines = [l for l in lines if len(l.split(',')) == 11]\n",
    "    df = pd.read_csv(StringIO('\\n'.join(lines)))\n",
    "\n",
    "    first_df = df[df.columns[:5]]\n",
    "    second_df = df[df.columns[6:]]\n",
    "    second_df.columns = second_df.columns.str.replace('.1', '')\n",
    "    final_df = first_df.append(second_df).set_index('序號').sort_index().dropna()\n",
    "    return final_df\n",
    "\n",
    "\n",
    "\n",
    "\n",
    "df = parse_data(res.text)"
   ]
  },
  {
   "cell_type": "markdown",
   "metadata": {},
   "source": [
    "# 完整下載範例（每天來按一下）"
   ]
  },
  {
   "cell_type": "markdown",
   "metadata": {},
   "source": [
    "假如無法下載，可以參考\n",
    "http://finlabcourse.imotor.com/viewthread.php?tid=322&extra=page%3D1&page=3\n",
    "來做一些更動，就可以順利執行了～"
   ]
  },
  {
   "cell_type": "code",
   "execution_count": 7,
   "metadata": {},
   "outputs": [
    {
     "ename": "FileNotFoundError",
     "evalue": "[WinError 3] 系統找不到指定的路徑。: 'data\\\\broker_history'",
     "output_type": "error",
     "traceback": [
      "\u001b[1;31m---------------------------------------------------------------------------\u001b[0m",
      "\u001b[1;31mFileNotFoundError\u001b[0m                         Traceback (most recent call last)",
      "\u001b[1;32m<ipython-input-7-52e36ee4838a>\u001b[0m in \u001b[0;36m<module>\u001b[1;34m\u001b[0m\n\u001b[0;32m     78\u001b[0m \u001b[0mmain_dir\u001b[0m \u001b[1;33m=\u001b[0m \u001b[0mos\u001b[0m\u001b[1;33m.\u001b[0m\u001b[0mpath\u001b[0m\u001b[1;33m.\u001b[0m\u001b[0mjoin\u001b[0m\u001b[1;33m(\u001b[0m\u001b[1;34m'data'\u001b[0m\u001b[1;33m,\u001b[0m \u001b[1;34m'broker_history'\u001b[0m\u001b[1;33m)\u001b[0m\u001b[1;33m\u001b[0m\u001b[1;33m\u001b[0m\u001b[0m\n\u001b[0;32m     79\u001b[0m \u001b[1;32mif\u001b[0m \u001b[1;32mnot\u001b[0m \u001b[0mos\u001b[0m\u001b[1;33m.\u001b[0m\u001b[0mpath\u001b[0m\u001b[1;33m.\u001b[0m\u001b[0misdir\u001b[0m\u001b[1;33m(\u001b[0m\u001b[0mmain_dir\u001b[0m\u001b[1;33m)\u001b[0m\u001b[1;33m:\u001b[0m\u001b[1;33m\u001b[0m\u001b[1;33m\u001b[0m\u001b[0m\n\u001b[1;32m---> 80\u001b[1;33m     \u001b[0mos\u001b[0m\u001b[1;33m.\u001b[0m\u001b[0mmkdir\u001b[0m\u001b[1;33m(\u001b[0m\u001b[0mmain_dir\u001b[0m\u001b[1;33m)\u001b[0m\u001b[1;33m\u001b[0m\u001b[1;33m\u001b[0m\u001b[0m\n\u001b[0m\u001b[0;32m     81\u001b[0m \u001b[1;33m\u001b[0m\u001b[0m\n\u001b[0;32m     82\u001b[0m \u001b[1;31m# build date dir\u001b[0m\u001b[1;33m\u001b[0m\u001b[1;33m\u001b[0m\u001b[1;33m\u001b[0m\u001b[0m\n",
      "\u001b[1;31mFileNotFoundError\u001b[0m: [WinError 3] 系統找不到指定的路徑。: 'data\\\\broker_history'"
     ]
    }
   ],
   "source": [
    "import time\n",
    "import requests\n",
    "from io import StringIO\n",
    "import pandas as pd\n",
    "import datetime\n",
    "\n",
    "headers = {\n",
    "    'User-Agent':'Mozilla/5.0 (Windows NT 6.1; WOW64; rv:2.0.1) Gecko/2010010' \\\n",
    "    '1 Firefox/4.0.1',\n",
    "    'Accept':'text/html,application/xhtml+xml,application/xml;q=0.9,*/*;q=0.8',\n",
    "    'Accept-Language':'en-us,en;q=0.5',\n",
    "    'Accept-Charset':'ISO-8859-1,utf-8;q=0.7,*;q=0.7'}\n",
    "\n",
    "def get_data(rs, stock_id, viewstate, eventvalidation):\n",
    "    import time\n",
    "    payload = {\n",
    "    '__EVENTTARGET':'',\n",
    "    '__EVENTARGUMENT':'',\n",
    "    '__LASTFOCUS':'',\n",
    "    '__VIEWSTATE' : viewstate,                      #encode_viewstate[:-1],\n",
    "    '__EVENTVALIDATION' : eventvalidation,          #encode_eventvalidation[:-1],\n",
    "    'RadioButton_Normal' : 'RadioButton_Normal',\n",
    "    'TextBox_Stkno' : stock_id,\n",
    "    'CaptchaControl1 ' : 'Z67YB',\n",
    "    'btnOK' : '%E6%9F%A5%E8%A9%A2',\n",
    "    }\n",
    "\n",
    "    rs.post( \"https://bsr.twse.com.tw/bshtm/bsMenu.aspx\", data=payload, headers=headers)#, verify = False, stream = True )\n",
    "    time.sleep(1)\n",
    "    res = rs.get( 'https://bsr.twse.com.tw/bshtm/bsContent.aspx')#,verify = False ,stream = True, )\n",
    "    return res\n",
    "\n",
    "def get_verify_code(rs):\n",
    "    res = rs.get( 'https://bsr.twse.com.tw/bshtm/bsMenu.aspx', stream = True, verify = False, headers = headers, timeout=None )\n",
    "    # ---------------\n",
    "    # 從網頁中抓取一些關鍵字\n",
    "    # ---------------\n",
    "    import re\n",
    "    \n",
    "    # get view state\n",
    "    viewstate = re.search( 'VIEWSTATE\"\\s+value=.*=', res.text )\n",
    "    viewstate = viewstate.group()[18:]\n",
    "    \n",
    "    # get eventvalidation\n",
    "    eventvalidation = re.search( 'EVENTVALIDATION\"\\s+value=.*\\w', res.text )\n",
    "    eventvalidation = eventvalidation.group( )[ 24: ]\n",
    "    \n",
    "    return viewstate, eventvalidation\n",
    "\n",
    "def download_stock(stock_id, path):\n",
    "    rs = requests.Session()\n",
    "    #viewstate, eventvalidation = get_verify_code(rs)\n",
    "    \n",
    "    while True:\n",
    "        try:\n",
    "            viewstate, eventvalidation = get_verify_code(rs)\n",
    "            break # 抓資料成功,進行下一步\n",
    "        except Exception as e:\n",
    "            print(e) # 印出無法連線原因\n",
    "            print('無法拿到資料, 等 31 sec') # server好像會擋30sec\n",
    "            time.sleep(31)\n",
    "            continue # 抓資料失敗,重新抓資料\n",
    "    \n",
    "    time.sleep(2)\n",
    "    res = get_data(rs, stock_id, viewstate, eventvalidation)\n",
    "    res.encoding='big5'\n",
    "    open(path, 'w', encoding='utf-8').writelines(res.text)\n",
    "    \n",
    "def stock_list():\n",
    "    res = requests.get('https://dts.twse.com.tw/opendata/t187ap03_L.csv')\n",
    "    res.encoding='utf-8'\n",
    "    df = pd.read_csv(StringIO(res.text), index_col=['公司代號'])\n",
    "    return df\n",
    "\n",
    "import os\n",
    "\n",
    "# build main dir\n",
    "main_dir = os.path.join('data', 'broker_history')\n",
    "if not os.path.isdir(main_dir):\n",
    "    os.mkdir(main_dir)\n",
    "    \n",
    "# build date dir\n",
    "now = datetime.datetime.now()\n",
    "date_dir = os.path.join(main_dir, now.strftime('%Y%m%d'))\n",
    "if not os.path.isdir(date_dir):\n",
    "    os.mkdir(date_dir)\n",
    "\n",
    "    \n",
    "slist = stock_list()\n",
    "for s in slist.index:\n",
    "    stock_path = os.path.join(date_dir, str(s) + '.csv')\n",
    "    print(stock_path)\n",
    "    if not os.path.isfile(stock_path):\n",
    "        print('downloading...')\n",
    "        download_stock(str(s), stock_path)\n",
    "        time.sleep(10)\n",
    "    "
   ]
  },
  {
   "cell_type": "markdown",
   "metadata": {},
   "source": [
    "# 券商總買賣"
   ]
  },
  {
   "cell_type": "code",
   "execution_count": 8,
   "metadata": {},
   "outputs": [
    {
     "data": {
      "text/plain": [
       "券商\n",
       "1020合　　庫       59000\n",
       "1021合庫台中        5000\n",
       "1022合庫台南        3000\n",
       "1023合庫高雄        4000\n",
       "1024合庫嘉義        4000\n",
       "1025合庫基隆        7000\n",
       "1028合庫彰化        2000\n",
       "102A合庫新竹       -2300\n",
       "102C合庫自強      -25003\n",
       "102E合庫桃園        1000\n",
       "102F合庫西台        1000\n",
       "1030土　　銀        1000\n",
       "1031土銀台中        5000\n",
       "1032土銀台南        6000\n",
       "1033土銀高雄        2000\n",
       "1035土銀新竹       14000\n",
       "1037土銀花蓮        2000\n",
       "1038土銀和平           0\n",
       "1039土銀士林        1000\n",
       "103A土銀建國        4000\n",
       "103C土銀白河        3000\n",
       "103F土銀南港       10000\n",
       "1040臺    銀     -4000\n",
       "1041臺銀鳳山        4000\n",
       "1042臺銀臺南       -4000\n",
       "1043臺銀民權      -21000\n",
       "1045臺銀新竹        4000\n",
       "104A臺銀臺中       52000\n",
       "104C臺銀高雄       -9000\n",
       "104D臺銀金山        4000\n",
       "               ...  \n",
       "9A97永豐新竹        1100\n",
       "9A99永豐中壢       -2000\n",
       "9A9A永豐羅東      -12000\n",
       "9A9B永豐中和        3000\n",
       "9A9C永豐員林        1000\n",
       "9A9E永豐板橋     -196000\n",
       "9A9G永豐天母           0\n",
       "9A9H永豐新莊        5000\n",
       "9A9J永豐板新           0\n",
       "9A9K永豐三重       10000\n",
       "9A9L永豐台中       -2000\n",
       "9A9M永豐南投      -30000\n",
       "9A9N永豐桃盛        1000\n",
       "9A9Q永豐豐原       -2000\n",
       "9A9S永豐南京       11000\n",
       "9A9U永豐中正       -2000\n",
       "9A9W永豐市政        6000\n",
       "9A9X永豐竹科          80\n",
       "9A9a永豐苓雅        4000\n",
       "9A9c永豐永康       10000\n",
       "9A9d永豐古亭        2000\n",
       "9A9e永豐高雄       12000\n",
       "9A9g永豐內湖       -1000\n",
       "9A9h永豐台南       -2000\n",
       "9A9i永豐新店       -1800\n",
       "9A9j永豐嘉義        7000\n",
       "9A9q永豐潮洲       -2000\n",
       "9A9r永豐北高       -4000\n",
       "9A9s永豐彰化        4000\n",
       "9A9x永豐桃園      -83000\n",
       "Length: 685, dtype: int32"
      ]
     },
     "execution_count": 8,
     "metadata": {},
     "output_type": "execute_result"
    }
   ],
   "source": [
    "buy = df['買進股數'].astype(int).groupby(df['券商']).sum()\n",
    "sell= df['賣出股數'].astype(int).groupby(df['券商']).sum()\n",
    "total = buy - sell\n",
    "total"
   ]
  },
  {
   "cell_type": "markdown",
   "metadata": {},
   "source": [
    "# 主力買賣超"
   ]
  },
  {
   "cell_type": "code",
   "execution_count": 9,
   "metadata": {},
   "outputs": [
    {
     "data": {
      "text/plain": [
       "券商\n",
       "8440摩根大通      544000\n",
       "9A00永豐金       523000\n",
       "1650瑞銀        448772\n",
       "9800元大        391150\n",
       "5920元    富    391000\n",
       "8890大和國泰      300000\n",
       "1160日    盛    241000\n",
       "8840玉    山    201000\n",
       "592I元富嘉義      175000\n",
       "7750北    城    114000\n",
       "989C元大板橋      107000\n",
       "9825元大新營       81000\n",
       "9309華南古亭       80000\n",
       "779Z國票安和       77218\n",
       "592l元富大裕       70000\n",
       "dtype: int32"
      ]
     },
     "execution_count": 9,
     "metadata": {},
     "output_type": "execute_result"
    }
   ],
   "source": [
    "# 買方top 15\n",
    "total.nlargest(15)"
   ]
  },
  {
   "cell_type": "code",
   "execution_count": 10,
   "metadata": {},
   "outputs": [
    {
     "data": {
      "text/plain": [
       "券商\n",
       "1470台灣摩根     -1205000\n",
       "9869元大新盛      -539000\n",
       "1440美林        -530000\n",
       "1520瑞士信貸      -461000\n",
       "884B玉山台中      -352000\n",
       "700a兆豐忠孝      -328000\n",
       "8960上海匯豐      -300000\n",
       "700S兆豐大同      -274000\n",
       "9211凱基台南      -273000\n",
       "5851統一高雄      -200000\n",
       "9A9E永豐板橋      -196000\n",
       "5850統    一    -166000\n",
       "1480美商高盛      -141000\n",
       "9268凱基台北      -115000\n",
       "9600富邦        -111000\n",
       "dtype: int32"
      ]
     },
     "execution_count": 10,
     "metadata": {},
     "output_type": "execute_result"
    }
   ],
   "source": [
    "# 賣方 top 15\n",
    "total.nsmallest(15)"
   ]
  },
  {
   "cell_type": "code",
   "execution_count": 11,
   "metadata": {},
   "outputs": [
    {
     "data": {
      "text/plain": [
       "-1446860"
      ]
     },
     "execution_count": 11,
     "metadata": {},
     "output_type": "execute_result"
    }
   ],
   "source": [
    "# 主力買賣超\n",
    "total.nlargest(15).sum() + total.nsmallest(15).sum()"
   ]
  },
  {
   "cell_type": "markdown",
   "metadata": {},
   "source": [
    "# 買賣家數差"
   ]
  },
  {
   "cell_type": "code",
   "execution_count": 12,
   "metadata": {},
   "outputs": [
    {
     "data": {
      "text/plain": [
       "294"
      ]
     },
     "execution_count": 12,
     "metadata": {},
     "output_type": "execute_result"
    }
   ],
   "source": [
    "# 買賣家數差\n",
    "(total > 0).sum() - (total < 0).sum()"
   ]
  },
  {
   "cell_type": "code",
   "execution_count": null,
   "metadata": {},
   "outputs": [],
   "source": []
  }
 ],
 "metadata": {
  "kernelspec": {
   "display_name": "finlab",
   "language": "python",
   "name": "finlab"
  },
  "language_info": {
   "codemirror_mode": {
    "name": "ipython",
    "version": 3
   },
   "file_extension": ".py",
   "mimetype": "text/x-python",
   "name": "python",
   "nbconvert_exporter": "python",
   "pygments_lexer": "ipython3",
   "version": "3.6.8"
  }
 },
 "nbformat": 4,
 "nbformat_minor": 2
}
